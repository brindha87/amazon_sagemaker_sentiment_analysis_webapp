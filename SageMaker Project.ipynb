{
 "cells": [
  {
   "cell_type": "markdown",
   "metadata": {},
   "source": [
    "# Creating a Sentiment Analysis Web App\n",
    "## Using PyTorch and SageMaker\n",
    "\n",
    "_Deep Learning Nanodegree Program | Deployment_\n",
    "\n",
    "---\n",
    "\n",
    "Now that we have a basic understanding of how SageMaker works we will try to use it to construct a complete project from end to end. Our goal will be to have a simple web page which a user can use to enter a movie review. The web page will then send the review off to our deployed model which will predict the sentiment of the entered review.\n",
    "\n",
    "## Instructions\n",
    "\n",
    "Some template code has already been provided for you, and you will need to implement additional functionality to successfully complete this notebook. You will not need to modify the included code beyond what is requested. Sections that begin with '**TODO**' in the header indicate that you need to complete or implement some portion within them. Instructions will be provided for each section and the specifics of the implementation are marked in the code block with a `# TODO: ...` comment. Please be sure to read the instructions carefully!\n",
    "\n",
    "In addition to implementing code, there will be questions for you to answer which relate to the task and your implementation. Each section where you will answer a question is preceded by a '**Question:**' header. Carefully read each question and provide your answer below the '**Answer:**' header by editing the Markdown cell.\n",
    "\n",
    "> **Note**: Code and Markdown cells can be executed using the **Shift+Enter** keyboard shortcut. In addition, a cell can be edited by typically clicking it (double-click for Markdown cells) or by pressing **Enter** while it is highlighted.\n",
    "\n",
    "## General Outline\n",
    "\n",
    "Recall the general outline for SageMaker projects using a notebook instance.\n",
    "\n",
    "1. Download or otherwise retrieve the data.\n",
    "2. Process / Prepare the data.\n",
    "3. Upload the processed data to S3.\n",
    "4. Train a chosen model.\n",
    "5. Test the trained model (typically using a batch transform job).\n",
    "6. Deploy the trained model.\n",
    "7. Use the deployed model.\n",
    "\n",
    "For this project, you will be following the steps in the general outline with some modifications. \n",
    "\n",
    "First, you will not be testing the model in its own step. You will still be testing the model, however, you will do it by deploying your model and then using the deployed model by sending the test data to it. One of the reasons for doing this is so that you can make sure that your deployed model is working correctly before moving forward.\n",
    "\n",
    "In addition, you will deploy and use your trained model a second time. In the second iteration you will customize the way that your trained model is deployed by including some of your own code. In addition, your newly deployed model will be used in the sentiment analysis web app."
   ]
  },
  {
   "cell_type": "markdown",
   "metadata": {},
   "source": [
    "## Step 1: Downloading the data\n",
    "\n",
    "As in the XGBoost in SageMaker notebook, we will be using the [IMDb dataset](http://ai.stanford.edu/~amaas/data/sentiment/)\n",
    "\n",
    "> Maas, Andrew L., et al. [Learning Word Vectors for Sentiment Analysis](http://ai.stanford.edu/~amaas/data/sentiment/). In _Proceedings of the 49th Annual Meeting of the Association for Computational Linguistics: Human Language Technologies_. Association for Computational Linguistics, 2011."
   ]
  },
  {
   "cell_type": "code",
   "execution_count": 1,
   "metadata": {},
   "outputs": [
    {
     "name": "stdout",
     "output_type": "stream",
     "text": [
      "mkdir: cannot create directory ‘../data’: File exists\n",
      "--2019-04-12 00:34:49--  http://ai.stanford.edu/~amaas/data/sentiment/aclImdb_v1.tar.gz\n",
      "Resolving ai.stanford.edu (ai.stanford.edu)... 171.64.68.10\n",
      "Connecting to ai.stanford.edu (ai.stanford.edu)|171.64.68.10|:80... connected.\n",
      "HTTP request sent, awaiting response... 200 OK\n",
      "Length: 84125825 (80M) [application/x-gzip]\n",
      "Saving to: ‘../data/aclImdb_v1.tar.gz’\n",
      "\n",
      "../data/aclImdb_v1. 100%[===================>]  80.23M  30.3MB/s    in 2.7s    \n",
      "\n",
      "2019-04-12 00:34:51 (30.3 MB/s) - ‘../data/aclImdb_v1.tar.gz’ saved [84125825/84125825]\n",
      "\n"
     ]
    }
   ],
   "source": [
    "%mkdir ../data\n",
    "!wget -O ../data/aclImdb_v1.tar.gz http://ai.stanford.edu/~amaas/data/sentiment/aclImdb_v1.tar.gz\n",
    "!tar -zxf ../data/aclImdb_v1.tar.gz -C ../data"
   ]
  },
  {
   "cell_type": "markdown",
   "metadata": {},
   "source": [
    "## Step 2: Preparing and Processing the data\n",
    "\n",
    "Also, as in the XGBoost notebook, we will be doing some initial data processing. The first few steps are the same as in the XGBoost example. To begin with, we will read in each of the reviews and combine them into a single input structure. Then, we will split the dataset into a training set and a testing set."
   ]
  },
  {
   "cell_type": "code",
   "execution_count": 2,
   "metadata": {},
   "outputs": [],
   "source": [
    "import os\n",
    "import glob\n",
    "\n",
    "def read_imdb_data(data_dir='../data/aclImdb'):\n",
    "    data = {}\n",
    "    labels = {}\n",
    "    \n",
    "    for data_type in ['train', 'test']:\n",
    "        data[data_type] = {}\n",
    "        labels[data_type] = {}\n",
    "        \n",
    "        for sentiment in ['pos', 'neg']:\n",
    "            data[data_type][sentiment] = []\n",
    "            labels[data_type][sentiment] = []\n",
    "            \n",
    "            path = os.path.join(data_dir, data_type, sentiment, '*.txt')\n",
    "            files = glob.glob(path)\n",
    "            \n",
    "            for f in files:\n",
    "                with open(f) as review:\n",
    "                    data[data_type][sentiment].append(review.read())\n",
    "                    # Here we represent a positive review by '1' and a negative review by '0'\n",
    "                    labels[data_type][sentiment].append(1 if sentiment == 'pos' else 0)\n",
    "                    \n",
    "            assert len(data[data_type][sentiment]) == len(labels[data_type][sentiment]), \\\n",
    "                    \"{}/{} data size does not match labels size\".format(data_type, sentiment)\n",
    "                \n",
    "    return data, labels"
   ]
  },
  {
   "cell_type": "code",
   "execution_count": 3,
   "metadata": {},
   "outputs": [
    {
     "name": "stdout",
     "output_type": "stream",
     "text": [
      "IMDB reviews: train = 12500 pos / 12500 neg, test = 12500 pos / 12500 neg\n"
     ]
    }
   ],
   "source": [
    "data, labels = read_imdb_data()\n",
    "print(\"IMDB reviews: train = {} pos / {} neg, test = {} pos / {} neg\".format(\n",
    "            len(data['train']['pos']), len(data['train']['neg']),\n",
    "            len(data['test']['pos']), len(data['test']['neg'])))"
   ]
  },
  {
   "cell_type": "markdown",
   "metadata": {},
   "source": [
    "Now that we've read the raw training and testing data from the downloaded dataset, we will combine the positive and negative reviews and shuffle the resulting records."
   ]
  },
  {
   "cell_type": "code",
   "execution_count": 4,
   "metadata": {},
   "outputs": [],
   "source": [
    "from sklearn.utils import shuffle\n",
    "import numpy as np\n",
    "np.random.seed(15)\n",
    "\n",
    "def prepare_imdb_data(data, labels):\n",
    "    \"\"\"Prepare training and test sets from IMDb movie reviews.\"\"\"\n",
    "    \n",
    "    #Combine positive and negative reviews and labels\n",
    "    data_train = data['train']['pos'] + data['train']['neg']\n",
    "    data_test = data['test']['pos'] + data['test']['neg']\n",
    "    labels_train = labels['train']['pos'] + labels['train']['neg']\n",
    "    labels_test = labels['test']['pos'] + labels['test']['neg']\n",
    "    \n",
    "    #Shuffle reviews and corresponding labels within training and test sets\n",
    "    data_train, labels_train = shuffle(data_train, labels_train)\n",
    "    data_test, labels_test = shuffle(data_test, labels_test)\n",
    "    \n",
    "    # Return a unified training data, test data, training labels, test labets\n",
    "    return data_train, data_test, labels_train, labels_test"
   ]
  },
  {
   "cell_type": "code",
   "execution_count": 5,
   "metadata": {},
   "outputs": [
    {
     "name": "stdout",
     "output_type": "stream",
     "text": [
      "IMDb reviews (combined): train = 25000, test = 25000\n"
     ]
    }
   ],
   "source": [
    "train_X, test_X, train_y, test_y = prepare_imdb_data(data, labels)\n",
    "print(\"IMDb reviews (combined): train = {}, test = {}\".format(len(train_X), len(test_X)))"
   ]
  },
  {
   "cell_type": "markdown",
   "metadata": {},
   "source": [
    "Now that we have our training and testing sets unified and prepared, we should do a quick check and see an example of the data our model will be trained on. This is generally a good idea as it allows you to see how each of the further processing steps affects the reviews and it also ensures that the data has been loaded correctly."
   ]
  },
  {
   "cell_type": "code",
   "execution_count": 6,
   "metadata": {},
   "outputs": [
    {
     "name": "stdout",
     "output_type": "stream",
     "text": [
      "Definitely a very good idea,screenplay was just OK.Could have been better,The positives are that it doesn't bore you if you're an adventure lover,A new idea about the lost world of Atlantis.Negatives are that I personally feel that this idea had so much more potential than this.They should've ended up with a better adventure than this.It wasn't bad at all but it would have been much better with some more runtime.Enjoyed it a lot though,Cant say that it was boring or wasn't good..A good one for the people who like adventure animations like Sindbad,like The road to el Dorado.This movie is also recommended for people looking for a nice little adventure with a very nice happy ending.\n",
      "1\n"
     ]
    }
   ],
   "source": [
    "print(train_X[100])\n",
    "print(train_y[100])"
   ]
  },
  {
   "cell_type": "markdown",
   "metadata": {},
   "source": [
    "The first step in processing the reviews is to make sure that any html tags that appear should be removed. In addition we wish to tokenize our input, that way words such as *entertained* and *entertaining* are considered the same with regard to sentiment analysis."
   ]
  },
  {
   "cell_type": "code",
   "execution_count": 7,
   "metadata": {},
   "outputs": [],
   "source": [
    "import nltk\n",
    "from nltk.corpus import stopwords\n",
    "from nltk.stem.porter import *\n",
    "\n",
    "import re\n",
    "from bs4 import BeautifulSoup\n",
    "\n",
    "def review_to_words(review):\n",
    "    nltk.download(\"stopwords\", quiet=True)\n",
    "    stemmer = PorterStemmer()\n",
    "    \n",
    "    text = BeautifulSoup(review, \"html.parser\").get_text() # Remove HTML tags\n",
    "    text = re.sub(r\"[^a-zA-Z0-9]\", \" \", text.lower()) # Convert to lower case\n",
    "    words = text.split() # Split string into words\n",
    "    words = [w for w in words if w not in stopwords.words(\"english\")] # Remove stopwords\n",
    "    words = [PorterStemmer().stem(w) for w in words] # stem\n",
    "    \n",
    "    return words"
   ]
  },
  {
   "cell_type": "markdown",
   "metadata": {},
   "source": [
    "The `review_to_words` method defined above uses `BeautifulSoup` to remove any html tags that appear and uses the `nltk` package to tokenize the reviews. As a check to ensure we know how everything is working, try applying `review_to_words` to one of the reviews in the training set."
   ]
  },
  {
   "cell_type": "code",
   "execution_count": 8,
   "metadata": {},
   "outputs": [
    {
     "name": "stdout",
     "output_type": "stream",
     "text": [
      "['definit', 'good', 'idea', 'screenplay', 'ok', 'could', 'better', 'posit', 'bore', 'adventur', 'lover', 'new', 'idea', 'lost', 'world', 'atlanti', 'neg', 'person', 'feel', 'idea', 'much', 'potenti', 'end', 'better', 'adventur', 'bad', 'would', 'much', 'better', 'runtim', 'enjoy', 'lot', 'though', 'cant', 'say', 'bore', 'good', 'good', 'one', 'peopl', 'like', 'adventur', 'anim', 'like', 'sindbad', 'like', 'road', 'el', 'dorado', 'movi', 'also', 'recommend', 'peopl', 'look', 'nice', 'littl', 'adventur', 'nice', 'happi', 'end']\n"
     ]
    }
   ],
   "source": [
    "# TODO: Apply review_to_words to a review (train_X[100] or any other review)\n",
    "print(review_to_words(train_X[100]))"
   ]
  },
  {
   "cell_type": "markdown",
   "metadata": {},
   "source": [
    "**Question:** Above we mentioned that `review_to_words` method removes html formatting and allows us to tokenize the words found in a review, for example, converting *entertained* and *entertaining* into *entertain* so that they are treated as though they are the same word. What else, if anything, does this method do to the input?"
   ]
  },
  {
   "cell_type": "markdown",
   "metadata": {},
   "source": [
    "**Answer:**\n",
    "\n",
    "The review_to_words method does the following:\n",
    "\n",
    "1) Remove html formatting using BeautifulSoup\n",
    "\n",
    "2) Convert text to lower case using Regular Expressions\n",
    "\n",
    "3) Split into words\n",
    "\n",
    "4) Remove the commonly used words called stopwords Ex: the, of, a, an, etc.\n",
    "\n",
    "5) Substitue each word with its corresponding stem word. Ex: In the above example, \"definitely\" is stemmed as \"definit\""
   ]
  },
  {
   "cell_type": "markdown",
   "metadata": {},
   "source": [
    "The method below applies the `review_to_words` method to each of the reviews in the training and testing datasets. In addition it caches the results. This is because performing this processing step can take a long time. This way if you are unable to complete the notebook in the current session, you can come back without needing to process the data a second time."
   ]
  },
  {
   "cell_type": "code",
   "execution_count": 9,
   "metadata": {},
   "outputs": [],
   "source": [
    "import pickle\n",
    "\n",
    "cache_dir = os.path.join(\"../cache\", \"sentiment_analysis\")  # where to store cache files\n",
    "os.makedirs(cache_dir, exist_ok=True)  # ensure cache directory exists\n",
    "\n",
    "def preprocess_data(data_train, data_test, labels_train, labels_test,\n",
    "                    cache_dir=cache_dir, cache_file=\"preprocessed_data.pkl\"):\n",
    "    \"\"\"Convert each review to words; read from cache if available.\"\"\"\n",
    "\n",
    "    # If cache_file is not None, try to read from it first\n",
    "    cache_data = None\n",
    "    if cache_file is not None:\n",
    "        try:\n",
    "            with open(os.path.join(cache_dir, cache_file), \"rb\") as f:\n",
    "                cache_data = pickle.load(f)\n",
    "            print(\"Read preprocessed data from cache file:\", cache_file)\n",
    "        except:\n",
    "            pass  # unable to read from cache, but that's okay\n",
    "    \n",
    "    # If cache is missing, then do the heavy lifting\n",
    "    if cache_data is None:\n",
    "        # Preprocess training and test data to obtain words for each review\n",
    "        #words_train = list(map(review_to_words, data_train))\n",
    "        #words_test = list(map(review_to_words, data_test))\n",
    "        words_train = [review_to_words(review) for review in data_train]\n",
    "        words_test = [review_to_words(review) for review in data_test]\n",
    "        \n",
    "        # Write to cache file for future runs\n",
    "        if cache_file is not None:\n",
    "            cache_data = dict(words_train=words_train, words_test=words_test,\n",
    "                              labels_train=labels_train, labels_test=labels_test)\n",
    "            with open(os.path.join(cache_dir, cache_file), \"wb\") as f:\n",
    "                pickle.dump(cache_data, f)\n",
    "            print(\"Wrote preprocessed data to cache file:\", cache_file)\n",
    "    else:\n",
    "        # Unpack data loaded from cache file\n",
    "        words_train, words_test, labels_train, labels_test = (cache_data['words_train'],\n",
    "                cache_data['words_test'], cache_data['labels_train'], cache_data['labels_test'])\n",
    "    \n",
    "    return words_train, words_test, labels_train, labels_test"
   ]
  },
  {
   "cell_type": "code",
   "execution_count": 10,
   "metadata": {},
   "outputs": [
    {
     "name": "stdout",
     "output_type": "stream",
     "text": [
      "Read preprocessed data from cache file: preprocessed_data.pkl\n"
     ]
    }
   ],
   "source": [
    "# Preprocess data\n",
    "train_X, test_X, train_y, test_y = preprocess_data(train_X, test_X, train_y, test_y)"
   ]
  },
  {
   "cell_type": "code",
   "execution_count": 13,
   "metadata": {},
   "outputs": [
    {
     "name": "stdout",
     "output_type": "stream",
     "text": [
      "['definit', 'good', 'idea', 'screenplay', 'ok', 'could', 'better', 'posit', 'bore', 'adventur', 'lover', 'new', 'idea', 'lost', 'world', 'atlanti', 'neg', 'person', 'feel', 'idea', 'much', 'potenti', 'end', 'better', 'adventur', 'bad', 'would', 'much', 'better', 'runtim', 'enjoy', 'lot', 'though', 'cant', 'say', 'bore', 'good', 'good', 'one', 'peopl', 'like', 'adventur', 'anim', 'like', 'sindbad', 'like', 'road', 'el', 'dorado', 'movi', 'also', 'recommend', 'peopl', 'look', 'nice', 'littl', 'adventur', 'nice', 'happi', 'end']\n"
     ]
    }
   ],
   "source": [
    "print(train_X[100])"
   ]
  },
  {
   "cell_type": "markdown",
   "metadata": {},
   "source": [
    "## Transform the data\n",
    "\n",
    "In the XGBoost notebook we transformed the data from its word representation to a bag-of-words feature representation. For the model we are going to construct in this notebook we will construct a feature representation which is very similar. To start, we will represent each word as an integer. Of course, some of the words that appear in the reviews occur very infrequently and so likely don't contain much information for the purposes of sentiment analysis. The way we will deal with this problem is that we will fix the size of our working vocabulary and we will only include the words that appear most frequently. We will then combine all of the infrequent words into a single category and, in our case, we will label it as `1`.\n",
    "\n",
    "Since we will be using a recurrent neural network, it will be convenient if the length of each review is the same. To do this, we will fix a size for our reviews and then pad short reviews with the category 'no word' (which we will label `0`) and truncate long reviews."
   ]
  },
  {
   "cell_type": "markdown",
   "metadata": {},
   "source": [
    "### (TODO) Create a word dictionary\n",
    "\n",
    "To begin with, we need to construct a way to map words that appear in the reviews to integers. Here we fix the size of our vocabulary (including the 'no word' and 'infrequent' categories) to be `5000` but you may wish to change this to see how it affects the model.\n",
    "\n",
    "> **TODO:** Complete the implementation for the `build_dict()` method below. Note that even though the vocab_size is set to `5000`, we only want to construct a mapping for the most frequently appearing `4998` words. This is because we want to reserve the special labels `0` for 'no word' and `1` for 'infrequent word'."
   ]
  },
  {
   "cell_type": "code",
   "execution_count": 14,
   "metadata": {},
   "outputs": [],
   "source": [
    "import numpy as np\n",
    "\n",
    "def build_dict(data, vocab_size = 5000):\n",
    "    \"\"\"Construct and return a dictionary mapping each of the most frequently appearing words to a unique integer.\"\"\"\n",
    "    \n",
    "    # TODO: Determine how often each word appears in `data`. Note that `data` is a list of sentences and that a\n",
    "    #       sentence is a list of words.\n",
    "    word_count = {} # A dict storing the words that appear in the reviews along with how often they occur\n",
    "    \n",
    "    for review in data:\n",
    "        review = review[:vocab_size]  # Truncate long reviews\n",
    "        for word in review:\n",
    "            if word in word_count:\n",
    "                word_count[word] += 1\n",
    "            else:\n",
    "                word_count[word] = 1\n",
    "        \n",
    "    # TODO: Sort the words found in `data` so that sorted_words[0] is the most frequently appearing word and\n",
    "    #       sorted_words[-1] is the least frequently appearing word.\n",
    "    sorted_words = sorted(word_count, key=word_count.get, reverse=True)\n",
    "    \n",
    "    word_dict = {} # This is what we are building, a dictionary that translates words into integers\n",
    "    for idx, word in enumerate(sorted_words[:vocab_size - 2]): # The -2 is so that we save room for the 'no word'\n",
    "        word_dict[word] = idx + 2                              # 'infrequent' labels\n",
    "        \n",
    "    return word_dict"
   ]
  },
  {
   "cell_type": "code",
   "execution_count": 15,
   "metadata": {},
   "outputs": [],
   "source": [
    "word_dict = build_dict(train_X)"
   ]
  },
  {
   "cell_type": "code",
   "execution_count": 16,
   "metadata": {},
   "outputs": [
    {
     "name": "stdout",
     "output_type": "stream",
     "text": [
      "{'movi': 2, 'film': 3, 'one': 4, 'like': 5, 'time': 6, 'good': 7, 'make': 8, 'charact': 9, 'get': 10, 'see': 11, 'watch': 12, 'stori': 13, 'even': 14, 'would': 15, 'realli': 16, 'well': 17, 'scene': 18, 'look': 19, 'show': 20, 'much': 21, 'end': 22, 'peopl': 23, 'bad': 24, 'go': 25, 'great': 26, 'also': 27, 'first': 28, 'love': 29, 'think': 30, 'way': 31, 'act': 32, 'play': 33, 'made': 34, 'thing': 35, 'could': 36, 'know': 37, 'say': 38, 'seem': 39, 'work': 40, 'plot': 41, 'two': 42, 'actor': 43, 'year': 44, 'come': 45, 'mani': 46, 'seen': 47, 'take': 48, 'life': 49, 'want': 50, 'never': 51, 'littl': 52, 'best': 53, 'tri': 54, 'man': 55, 'ever': 56, 'give': 57, 'better': 58, 'still': 59, 'perform': 60, 'find': 61, 'feel': 62, 'part': 63, 'back': 64, 'use': 65, 'someth': 66, 'director': 67, 'actual': 68, 'interest': 69, 'lot': 70, 'real': 71, 'old': 72, 'cast': 73, 'though': 74, 'live': 75, 'star': 76, 'enjoy': 77, 'guy': 78, 'anoth': 79, 'new': 80, 'role': 81, 'noth': 82, '10': 83, 'funni': 84, 'music': 85, 'point': 86, 'start': 87, 'set': 88, 'girl': 89, 'origin': 90, 'day': 91, 'world': 92, 'everi': 93, 'believ': 94, 'turn': 95, 'quit': 96, 'direct': 97, 'us': 98, 'thought': 99, 'fact': 100, 'minut': 101, 'horror': 102, 'kill': 103, 'action': 104, 'comedi': 105, 'pretti': 106, 'young': 107, 'wonder': 108, 'happen': 109, 'around': 110, 'got': 111, 'effect': 112, 'right': 113, 'long': 114, 'howev': 115, 'big': 116, 'line': 117, 'famili': 118, 'enough': 119, 'seri': 120, 'may': 121, 'need': 122, 'fan': 123, 'bit': 124, 'script': 125, 'beauti': 126, 'person': 127, 'becom': 128, 'without': 129, 'must': 130, 'alway': 131, 'friend': 132, 'tell': 133, 'reason': 134, 'saw': 135, 'last': 136, 'final': 137, 'kid': 138, 'almost': 139, 'put': 140, 'least': 141, 'sure': 142, 'done': 143, 'whole': 144, 'place': 145, 'complet': 146, 'kind': 147, 'differ': 148, 'expect': 149, 'shot': 150, 'far': 151, 'mean': 152, 'anyth': 153, 'book': 154, 'laugh': 155, 'might': 156, 'name': 157, 'sinc': 158, 'begin': 159, '2': 160, 'probabl': 161, 'woman': 162, 'help': 163, 'entertain': 164, 'let': 165, 'screen': 166, 'call': 167, 'tv': 168, 'moment': 169, 'away': 170, 'read': 171, 'yet': 172, 'rather': 173, 'worst': 174, 'run': 175, 'fun': 176, 'lead': 177, 'hard': 178, 'audienc': 179, 'idea': 180, 'anyon': 181, 'episod': 182, 'american': 183, 'found': 184, 'appear': 185, 'bore': 186, 'especi': 187, 'although': 188, 'hope': 189, 'keep': 190, 'cours': 191, 'anim': 192, 'job': 193, 'goe': 194, 'move': 195, 'sens': 196, 'dvd': 197, 'version': 198, 'war': 199, 'money': 200, 'someon': 201, 'mind': 202, 'mayb': 203, 'problem': 204, 'true': 205, 'hous': 206, 'everyth': 207, 'nice': 208, 'second': 209, 'rate': 210, 'three': 211, 'night': 212, 'follow': 213, 'face': 214, 'recommend': 215, 'main': 216, 'product': 217, 'worth': 218, 'leav': 219, 'human': 220, 'special': 221, 'excel': 222, 'togeth': 223, 'wast': 224, 'sound': 225, 'everyon': 226, 'john': 227, 'hand': 228, '1': 229, 'father': 230, 'later': 231, 'eye': 232, 'said': 233, 'view': 234, 'instead': 235, 'review': 236, 'boy': 237, 'high': 238, 'hour': 239, 'miss': 240, 'classic': 241, 'talk': 242, 'wife': 243, 'understand': 244, 'left': 245, 'care': 246, 'black': 247, 'death': 248, 'open': 249, 'murder': 250, 'write': 251, 'half': 252, 'head': 253, 'rememb': 254, 'chang': 255, 'viewer': 256, 'fight': 257, 'gener': 258, 'surpris': 259, 'includ': 260, 'short': 261, 'die': 262, 'fall': 263, 'less': 264, 'els': 265, 'entir': 266, 'piec': 267, 'involv': 268, 'pictur': 269, 'simpli': 270, 'power': 271, 'top': 272, 'home': 273, 'total': 274, 'usual': 275, 'budget': 276, 'attempt': 277, 'suppos': 278, 'releas': 279, 'hollywood': 280, 'terribl': 281, 'song': 282, 'men': 283, 'possibl': 284, 'featur': 285, 'portray': 286, 'disappoint': 287, 'poor': 288, '3': 289, 'coupl': 290, 'camera': 291, 'stupid': 292, 'dead': 293, 'wrong': 294, 'low': 295, 'produc': 296, 'video': 297, 'either': 298, 'aw': 299, 'definit': 300, 'except': 301, 'rest': 302, 'given': 303, 'absolut': 304, 'women': 305, 'lack': 306, 'word': 307, 'writer': 308, 'titl': 309, 'talent': 310, 'decid': 311, 'full': 312, 'perfect': 313, 'along': 314, 'style': 315, 'close': 316, 'truli': 317, 'school': 318, 'emot': 319, 'save': 320, 'age': 321, 'sex': 322, 'next': 323, 'bring': 324, 'mr': 325, 'case': 326, 'killer': 327, 'heart': 328, 'comment': 329, 'sort': 330, 'creat': 331, 'perhap': 332, 'came': 333, 'brother': 334, 'sever': 335, 'joke': 336, 'art': 337, 'dialogu': 338, 'game': 339, 'small': 340, 'base': 341, 'flick': 342, 'written': 343, 'sequenc': 344, 'meet': 345, 'earli': 346, 'often': 347, 'other': 348, 'mother': 349, 'develop': 350, 'humor': 351, 'actress': 352, 'consid': 353, 'dark': 354, 'guess': 355, 'amaz': 356, 'unfortun': 357, 'lost': 358, 'light': 359, 'exampl': 360, 'cinema': 361, 'drama': 362, 'white': 363, 'ye': 364, 'experi': 365, 'imagin': 366, 'mention': 367, 'stop': 368, 'natur': 369, 'forc': 370, 'manag': 371, 'felt': 372, 'present': 373, 'cut': 374, 'children': 375, 'fail': 376, 'son': 377, 'car': 378, 'support': 379, 'qualiti': 380, 'ask': 381, 'hit': 382, 'side': 383, 'voic': 384, 'extrem': 385, 'impress': 386, 'evil': 387, 'wors': 388, 'stand': 389, 'went': 390, 'certainli': 391, 'basic': 392, 'oh': 393, 'overal': 394, 'favorit': 395, 'horribl': 396, 'mysteri': 397, 'number': 398, 'type': 399, 'danc': 400, 'wait': 401, 'hero': 402, '5': 403, 'alreadi': 404, 'learn': 405, 'matter': 406, '4': 407, 'michael': 408, 'genr': 409, 'fine': 410, 'despit': 411, 'throughout': 412, 'walk': 413, 'success': 414, 'histori': 415, 'question': 416, 'zombi': 417, 'town': 418, 'realiz': 419, 'relationship': 420, 'child': 421, 'past': 422, 'daughter': 423, 'late': 424, 'b': 425, 'wish': 426, 'credit': 427, 'hate': 428, 'event': 429, 'theme': 430, 'touch': 431, 'citi': 432, 'today': 433, 'sometim': 434, 'behind': 435, 'god': 436, 'twist': 437, 'sit': 438, 'annoy': 439, 'deal': 440, 'stay': 441, 'abl': 442, 'rent': 443, 'pleas': 444, 'edit': 445, 'blood': 446, 'deserv': 447, 'anyway': 448, 'comic': 449, 'appar': 450, 'soon': 451, 'gave': 452, 'etc': 453, 'level': 454, 'slow': 455, 'chanc': 456, 'score': 457, 'bodi': 458, 'brilliant': 459, 'incred': 460, 'figur': 461, 'situat': 462, 'self': 463, 'major': 464, 'stuff': 465, 'decent': 466, 'element': 467, 'return': 468, 'dream': 469, 'obvious': 470, 'continu': 471, 'order': 472, 'pace': 473, 'ridicul': 474, 'happi': 475, 'highli': 476, 'add': 477, 'group': 478, 'thank': 479, 'ladi': 480, 'novel': 481, 'speak': 482, 'pain': 483, 'career': 484, 'shoot': 485, 'strang': 486, 'heard': 487, 'sad': 488, 'husband': 489, 'polic': 490, 'import': 491, 'break': 492, 'took': 493, 'cannot': 494, 'strong': 495, 'robert': 496, 'predict': 497, 'violenc': 498, 'hilari': 499, 'recent': 500, 'countri': 501, 'known': 502, 'particularli': 503, 'pick': 504, 'documentari': 505, 'season': 506, 'critic': 507, 'jame': 508, 'compar': 509, 'obviou': 510, 'alon': 511, 'told': 512, 'state': 513, 'rock': 514, 'visual': 515, 'exist': 516, 'theater': 517, 'offer': 518, 'opinion': 519, 'gore': 520, 'crap': 521, 'hold': 522, 'result': 523, 'room': 524, 'realiti': 525, 'hear': 526, 'clich': 527, 'effort': 528, 'thriller': 529, 'caus': 530, 'serious': 531, 'explain': 532, 'sequel': 533, 'king': 534, 'local': 535, 'ago': 536, 'hell': 537, 'none': 538, 'note': 539, 'allow': 540, 'david': 541, 'sister': 542, 'simpl': 543, 'femal': 544, 'deliv': 545, 'ok': 546, 'convinc': 547, 'class': 548, 'check': 549, 'suspens': 550, 'win': 551, 'oscar': 552, 'buy': 553, 'huge': 554, 'valu': 555, 'sexual': 556, 'cool': 557, 'scari': 558, 'similar': 559, 'excit': 560, 'apart': 561, 'exactli': 562, 'provid': 563, 'avoid': 564, 'shown': 565, 'seriou': 566, 'english': 567, 'whose': 568, 'taken': 569, 'cinematographi': 570, 'shock': 571, 'polit': 572, 'spoiler': 573, 'offic': 574, 'across': 575, 'middl': 576, 'street': 577, 'pass': 578, 'messag': 579, 'charm': 580, 'silli': 581, 'somewhat': 582, 'modern': 583, 'filmmak': 584, 'confus': 585, 'form': 586, 'tale': 587, 'singl': 588, 'jack': 589, 'mostli': 590, 'attent': 591, 'carri': 592, 'william': 593, 'sing': 594, 'five': 595, 'subject': 596, 'prove': 597, 'richard': 598, 'stage': 599, 'team': 600, 'unlik': 601, 'cop': 602, 'georg': 603, 'monster': 604, 'televis': 605, 'earth': 606, 'cover': 607, 'villain': 608, 'pay': 609, 'marri': 610, 'toward': 611, 'build': 612, 'parent': 613, 'pull': 614, 'due': 615, 'respect': 616, 'fill': 617, 'four': 618, 'dialog': 619, 'remind': 620, 'futur': 621, 'weak': 622, 'typic': 623, '7': 624, 'cheap': 625, 'intellig': 626, 'british': 627, 'atmospher': 628, 'clearli': 629, '80': 630, 'non': 631, 'paul': 632, 'dog': 633, '8': 634, 'artist': 635, 'knew': 636, 'fast': 637, 'crime': 638, 'easili': 639, 'escap': 640, 'doubt': 641, 'adult': 642, 'detail': 643, 'date': 644, 'romant': 645, 'fire': 646, 'member': 647, 'gun': 648, 'drive': 649, 'straight': 650, 'beyond': 651, 'fit': 652, 'attack': 653, 'imag': 654, 'upon': 655, 'posit': 656, 'whether': 657, 'peter': 658, 'fantast': 659, 'appreci': 660, 'captur': 661, 'aspect': 662, 'ten': 663, 'plan': 664, 'discov': 665, 'remain': 666, 'near': 667, 'period': 668, 'realist': 669, 'air': 670, 'mark': 671, 'red': 672, 'dull': 673, 'adapt': 674, 'within': 675, 'lose': 676, 'spend': 677, 'materi': 678, 'color': 679, 'chase': 680, 'mari': 681, 'storylin': 682, 'forget': 683, 'bunch': 684, 'clear': 685, 'lee': 686, 'victim': 687, 'nearli': 688, 'box': 689, 'york': 690, 'inspir': 691, 'match': 692, 'finish': 693, 'mess': 694, 'standard': 695, 'easi': 696, 'truth': 697, 'busi': 698, 'suffer': 699, 'space': 700, 'dramat': 701, 'bill': 702, 'western': 703, 'e': 704, 'list': 705, 'battl': 706, 'notic': 707, 'de': 708, 'french': 709, 'ad': 710, '9': 711, 'tom': 712, 'larg': 713, 'among': 714, 'eventu': 715, 'accept': 716, 'train': 717, 'agre': 718, 'soundtrack': 719, 'spirit': 720, 'third': 721, 'teenag': 722, 'adventur': 723, 'soldier': 724, 'suggest': 725, 'sorri': 726, 'drug': 727, 'famou': 728, 'normal': 729, 'cri': 730, 'babi': 731, 'troubl': 732, 'ultim': 733, 'contain': 734, 'certain': 735, 'cultur': 736, 'romanc': 737, 'rare': 738, 'lame': 739, 'somehow': 740, 'disney': 741, 'mix': 742, 'gone': 743, 'cartoon': 744, 'student': 745, 'reveal': 746, 'fear': 747, 'kept': 748, 'suck': 749, 'attract': 750, 'appeal': 751, 'premis': 752, 'greatest': 753, 'secret': 754, 'design': 755, 'shame': 756, 'throw': 757, 'copi': 758, 'scare': 759, 'wit': 760, 'admit': 761, 'america': 762, 'brought': 763, 'particular': 764, 'relat': 765, 'screenplay': 766, 'whatev': 767, 'pure': 768, '70': 769, 'averag': 770, 'harri': 771, 'master': 772, 'describ': 773, 'treat': 774, 'male': 775, '20': 776, 'fantasi': 777, 'issu': 778, 'warn': 779, 'inde': 780, 'background': 781, 'forward': 782, 'free': 783, 'project': 784, 'japanes': 785, 'memor': 786, 'poorli': 787, 'award': 788, 'locat': 789, 'potenti': 790, 'amus': 791, 'struggl': 792, 'weird': 793, 'magic': 794, 'societi': 795, 'okay': 796, 'imdb': 797, 'doctor': 798, 'accent': 799, 'hot': 800, 'water': 801, '30': 802, 'alien': 803, 'dr': 804, 'express': 805, 'odd': 806, 'choic': 807, 'crazi': 808, 'studio': 809, 'fiction': 810, 'becam': 811, 'control': 812, 'masterpiec': 813, 'fli': 814, 'difficult': 815, 'joe': 816, 'scream': 817, 'costum': 818, 'lover': 819, 'uniqu': 820, 'refer': 821, 'remak': 822, 'girlfriend': 823, 'vampir': 824, 'prison': 825, 'execut': 826, 'wear': 827, 'jump': 828, 'unless': 829, 'wood': 830, 'creepi': 831, 'cheesi': 832, 'superb': 833, 'otherwis': 834, 'parti': 835, 'roll': 836, 'ghost': 837, 'mad': 838, 'public': 839, 'depict': 840, 'moral': 841, 'week': 842, 'earlier': 843, 'badli': 844, 'jane': 845, 'fi': 846, 'dumb': 847, 'flaw': 848, 'grow': 849, 'deep': 850, 'sci': 851, 'maker': 852, 'cat': 853, 'connect': 854, 'footag': 855, 'older': 856, 'plenti': 857, 'bother': 858, 'outsid': 859, 'stick': 860, 'gay': 861, 'catch': 862, 'co': 863, 'plu': 864, 'popular': 865, 'equal': 866, 'social': 867, 'disturb': 868, 'quickli': 869, 'perfectli': 870, 'dress': 871, '90': 872, 'era': 873, 'mistak': 874, 'lie': 875, 'previou': 876, 'ride': 877, 'combin': 878, 'concept': 879, 'band': 880, 'rich': 881, 'answer': 882, 'surviv': 883, 'front': 884, 'sweet': 885, 'christma': 886, 'insid': 887, 'concern': 888, 'bare': 889, 'eat': 890, 'beat': 891, 'ben': 892, 'listen': 893, 'c': 894, 'serv': 895, 'term': 896, 'meant': 897, 'la': 898, 'german': 899, 'hardli': 900, 'stereotyp': 901, 'innoc': 902, 'law': 903, 'desper': 904, 'memori': 905, 'promis': 906, 'cute': 907, 'intent': 908, 'inform': 909, 'variou': 910, 'steal': 911, 'brain': 912, 'post': 913, 'tone': 914, 'island': 915, 'amount': 916, 'track': 917, 'compani': 918, 'nuditi': 919, 'store': 920, 'claim': 921, 'hair': 922, 'flat': 923, '50': 924, 'land': 925, 'univers': 926, 'danger': 927, 'scott': 928, 'fairli': 929, 'kick': 930, 'player': 931, 'crew': 932, 'plain': 933, 'step': 934, 'toni': 935, 'share': 936, 'tast': 937, 'centuri': 938, 'engag': 939, 'achiev': 940, 'cold': 941, 'travel': 942, 'rip': 943, 'suit': 944, 'record': 945, 'manner': 946, 'sadli': 947, 'tension': 948, 'wrote': 949, 'spot': 950, 'intens': 951, 'fascin': 952, 'familiar': 953, 'remark': 954, 'burn': 955, 'depth': 956, 'histor': 957, 'destroy': 958, 'sleep': 959, 'purpos': 960, 'languag': 961, 'ruin': 962, 'ignor': 963, 'delight': 964, 'italian': 965, 'unbeliev': 966, 'abil': 967, 'soul': 968, 'collect': 969, 'clever': 970, 'detect': 971, 'violent': 972, 'rape': 973, 'reach': 974, 'door': 975, 'liter': 976, 'scienc': 977, 'trash': 978, 'caught': 979, 'commun': 980, 'reveng': 981, 'creatur': 982, 'trip': 983, 'approach': 984, 'fashion': 985, 'intrigu': 986, 'introduc': 987, 'skill': 988, 'paint': 989, 'channel': 990, 'complex': 991, 'camp': 992, 'christian': 993, 'extra': 994, 'hole': 995, 'immedi': 996, 'mental': 997, 'ann': 998, 'limit': 999, 'mere': 1000, '6': 1001, 'comput': 1002, 'million': 1003, 'slightli': 1004, 'conclus': 1005, 'slasher': 1006, 'suddenli': 1007, 'imposs': 1008, 'teen': 1009, 'neither': 1010, 'crimin': 1011, 'nation': 1012, 'spent': 1013, 'physic': 1014, 'respons': 1015, 'planet': 1016, 'receiv': 1017, 'fake': 1018, 'blue': 1019, 'sick': 1020, 'bizarr': 1021, 'embarrass': 1022, 'indian': 1023, 'ring': 1024, '15': 1025, 'pop': 1026, 'drop': 1027, 'drag': 1028, 'haunt': 1029, 'suspect': 1030, 'pointless': 1031, 'search': 1032, 'edg': 1033, 'handl': 1034, 'common': 1035, 'biggest': 1036, 'faith': 1037, 'arriv': 1038, 'hurt': 1039, 'technic': 1040, 'angel': 1041, 'dad': 1042, 'genuin': 1043, 'awesom': 1044, 'solid': 1045, 'f': 1046, 'focu': 1047, 'van': 1048, 'former': 1049, 'colleg': 1050, 'count': 1051, 'heavi': 1052, 'tear': 1053, 'wall': 1054, 'rais': 1055, 'younger': 1056, 'visit': 1057, 'laughabl': 1058, 'sign': 1059, 'fair': 1060, 'excus': 1061, 'cult': 1062, 'key': 1063, 'tough': 1064, 'motion': 1065, 'super': 1066, 'desir': 1067, 'stun': 1068, 'addit': 1069, 'cloth': 1070, 'exploit': 1071, 'tortur': 1072, 'smith': 1073, 'davi': 1074, 'race': 1075, 'author': 1076, 'cross': 1077, 'jim': 1078, 'minor': 1079, 'consist': 1080, 'compel': 1081, 'focus': 1082, 'chemistri': 1083, 'pathet': 1084, 'commit': 1085, 'park': 1086, 'tradit': 1087, 'frank': 1088, 'obsess': 1089, 'grade': 1090, '60': 1091, 'asid': 1092, 'brutal': 1093, 'steve': 1094, 'somewher': 1095, 'rule': 1096, 'grant': 1097, 'opportun': 1098, 'explor': 1099, 'depress': 1100, 'u': 1101, 'honest': 1102, 'besid': 1103, 'dub': 1104, 'anti': 1105, 'trailer': 1106, 'intend': 1107, 'bar': 1108, 'longer': 1109, 'regard': 1110, 'west': 1111, 'scientist': 1112, 'decad': 1113, 'judg': 1114, 'silent': 1115, 'armi': 1116, 'creativ': 1117, 'wild': 1118, 'south': 1119, 'g': 1120, 'stewart': 1121, 'draw': 1122, 'road': 1123, 'govern': 1124, 'ex': 1125, 'boss': 1126, 'practic': 1127, 'motiv': 1128, 'gang': 1129, 'festiv': 1130, 'club': 1131, 'surprisingli': 1132, 'green': 1133, 'redeem': 1134, 'page': 1135, 'london': 1136, 'militari': 1137, 'machin': 1138, 'idiot': 1139, 'display': 1140, 'aliv': 1141, 'repeat': 1142, 'thrill': 1143, 'yeah': 1144, '100': 1145, 'nobodi': 1146, 'folk': 1147, '40': 1148, 'garbag': 1149, 'journey': 1150, 'tire': 1151, 'ground': 1152, 'smile': 1153, 'mood': 1154, 'bought': 1155, 'cost': 1156, 'stone': 1157, 'sam': 1158, 'noir': 1159, 'mouth': 1160, 'terrif': 1161, 'agent': 1162, 'requir': 1163, 'utterli': 1164, 'area': 1165, 'sexi': 1166, 'honestli': 1167, 'geniu': 1168, 'report': 1169, 'investig': 1170, 'humour': 1171, 'enter': 1172, 'glad': 1173, 'serial': 1174, 'passion': 1175, 'occasion': 1176, 'narr': 1177, 'climax': 1178, 'marriag': 1179, 'industri': 1180, 'studi': 1181, 'nowher': 1182, 'charli': 1183, 'ship': 1184, 'center': 1185, 'demon': 1186, 'bear': 1187, 'loos': 1188, 'hors': 1189, 'hang': 1190, 'wow': 1191, 'graphic': 1192, 'admir': 1193, 'giant': 1194, 'send': 1195, 'loud': 1196, 'damn': 1197, 'profession': 1198, 'subtl': 1199, 'nake': 1200, 'rel': 1201, 'blow': 1202, 'bottom': 1203, 'insult': 1204, 'batman': 1205, 'boyfriend': 1206, 'doubl': 1207, 'r': 1208, 'kelli': 1209, 'initi': 1210, 'frame': 1211, 'gem': 1212, 'opera': 1213, 'cinemat': 1214, 'church': 1215, 'drawn': 1216, 'affect': 1217, 'challeng': 1218, 'l': 1219, 'j': 1220, 'evid': 1221, 'fulli': 1222, 'seek': 1223, 'nightmar': 1224, 'arm': 1225, 'essenti': 1226, 'conflict': 1227, 'henri': 1228, 'wind': 1229, 'grace': 1230, 'christoph': 1231, 'assum': 1232, 'narrat': 1233, 'witch': 1234, 'hunt': 1235, 'push': 1236, 'chri': 1237, 'wise': 1238, 'nomin': 1239, 'repres': 1240, 'month': 1241, 'avail': 1242, 'hide': 1243, 'sceneri': 1244, 'affair': 1245, 'justic': 1246, 'bond': 1247, 'smart': 1248, 'thu': 1249, 'outstand': 1250, 'interview': 1251, 'flashback': 1252, 'presenc': 1253, 'satisfi': 1254, 'constantli': 1255, 'bed': 1256, 'central': 1257, 'iron': 1258, 'sell': 1259, 'content': 1260, 'everybodi': 1261, 'gag': 1262, 'hotel': 1263, 'slowli': 1264, 'hire': 1265, 'system': 1266, 'hey': 1267, 'thrown': 1268, 'individu': 1269, 'charl': 1270, 'adam': 1271, 'mediocr': 1272, 'jone': 1273, 'allen': 1274, 'billi': 1275, 'lesson': 1276, 'ray': 1277, 'cameo': 1278, 'photographi': 1279, 'fellow': 1280, 'pari': 1281, 'strike': 1282, 'brief': 1283, 'rise': 1284, 'independ': 1285, 'absurd': 1286, 'neg': 1287, 'impact': 1288, 'phone': 1289, 'ill': 1290, 'born': 1291, 'model': 1292, 'angl': 1293, 'fresh': 1294, 'spoil': 1295, 'abus': 1296, 'likabl': 1297, 'discuss': 1298, 'hill': 1299, 'ahead': 1300, 'sight': 1301, 'photograph': 1302, 'sent': 1303, 'occur': 1304, 'logic': 1305, 'blame': 1306, 'shine': 1307, 'bruce': 1308, 'mainli': 1309, 'commerci': 1310, 'skip': 1311, 'forev': 1312, 'held': 1313, 'segment': 1314, 'surround': 1315, 'teacher': 1316, 'zero': 1317, 'blond': 1318, 'resembl': 1319, 'trap': 1320, 'summer': 1321, 'satir': 1322, 'ball': 1323, 'six': 1324, 'fool': 1325, 'queen': 1326, 'sub': 1327, 'twice': 1328, 'tragedi': 1329, 'pack': 1330, 'reaction': 1331, 'bomb': 1332, 'will': 1333, 'protagonist': 1334, 'hospit': 1335, 'sport': 1336, 'mile': 1337, 'trust': 1338, 'jerri': 1339, 'mom': 1340, 'vote': 1341, 'drink': 1342, 'encount': 1343, 'plane': 1344, 'al': 1345, 'current': 1346, 'program': 1347, 'station': 1348, 'martin': 1349, 'celebr': 1350, 'choos': 1351, 'join': 1352, 'favourit': 1353, 'lord': 1354, 'field': 1355, 'tragic': 1356, 'round': 1357, 'vision': 1358, 'jean': 1359, 'robot': 1360, 'tie': 1361, 'arthur': 1362, 'roger': 1363, 'fortun': 1364, 'random': 1365, 'dread': 1366, 'intern': 1367, 'psycholog': 1368, 'prefer': 1369, 'improv': 1370, 'nonsens': 1371, 'epic': 1372, 'highlight': 1373, 'formula': 1374, 'pleasur': 1375, 'legend': 1376, '11': 1377, 'dollar': 1378, 'tape': 1379, 'gorgeou': 1380, 'thin': 1381, 'wide': 1382, 'porn': 1383, 'fox': 1384, 'object': 1385, 'influenc': 1386, 'buddi': 1387, 'ugli': 1388, 'ii': 1389, 'prepar': 1390, 'nasti': 1391, 'progress': 1392, 'reflect': 1393, 'warm': 1394, 'supposedli': 1395, 'worthi': 1396, 'youth': 1397, 'unusu': 1398, 'length': 1399, 'latter': 1400, 'crash': 1401, 'childhood': 1402, 'shop': 1403, 'superior': 1404, 'seven': 1405, 'theatr': 1406, 'remot': 1407, 'paid': 1408, 'pilot': 1409, 'disgust': 1410, 'funniest': 1411, 'castl': 1412, 'fell': 1413, 'convers': 1414, 'trick': 1415, 'gangster': 1416, 'disast': 1417, 'establish': 1418, 'rob': 1419, 'heaven': 1420, 'disappear': 1421, 'suicid': 1422, 'ident': 1423, 'mine': 1424, 'singer': 1425, 'decis': 1426, 'tend': 1427, 'forgotten': 1428, 'mask': 1429, 'heroin': 1430, 'partner': 1431, 'brian': 1432, 'alan': 1433, 'desert': 1434, 'recogn': 1435, 'ms': 1436, 'sky': 1437, 'thoroughli': 1438, 'p': 1439, 'stuck': 1440, 'accur': 1441, 'replac': 1442, 'market': 1443, 'seemingli': 1444, 'clue': 1445, 'eddi': 1446, 'danni': 1447, 'commentari': 1448, 'uncl': 1449, 'andi': 1450, 'devil': 1451, 'jackson': 1452, 'pair': 1453, 'that': 1454, 'therefor': 1455, 'refus': 1456, 'unit': 1457, 'fate': 1458, 'river': 1459, 'accid': 1460, 'ed': 1461, 'fault': 1462, 'tune': 1463, 'afraid': 1464, 'clean': 1465, 'hidden': 1466, 'russian': 1467, 'stephen': 1468, 'instanc': 1469, 'test': 1470, 'captain': 1471, 'irrit': 1472, 'quick': 1473, 'convey': 1474, 'readi': 1475, 'european': 1476, 'insan': 1477, 'frustrat': 1478, 'daniel': 1479, '1950': 1480, 'food': 1481, 'rescu': 1482, 'chines': 1483, 'wed': 1484, 'lock': 1485, 'dirti': 1486, 'angri': 1487, 'joy': 1488, 'price': 1489, 'steven': 1490, 'cage': 1491, 'bland': 1492, 'rang': 1493, 'anymor': 1494, 'wooden': 1495, 'jason': 1496, 'news': 1497, 'rush': 1498, 'n': 1499, '12': 1500, 'led': 1501, 'twenti': 1502, 'martial': 1503, 'worri': 1504, 'board': 1505, 'transform': 1506, 'symbol': 1507, 'hunter': 1508, 'cgi': 1509, 'x': 1510, 'sentiment': 1511, 'invent': 1512, 'piti': 1513, 'johnni': 1514, 'onto': 1515, 'attitud': 1516, 'explan': 1517, 'process': 1518, 'owner': 1519, 'awar': 1520, 'aim': 1521, 'favor': 1522, 'energi': 1523, 'necessari': 1524, 'floor': 1525, 'target': 1526, 'religi': 1527, 'opposit': 1528, 'insight': 1529, 'chick': 1530, 'blind': 1531, 'window': 1532, 'movement': 1533, 'comparison': 1534, 'deepli': 1535, 'possess': 1536, 'research': 1537, 'mountain': 1538, 'comed': 1539, 'grand': 1540, 'whatsoev': 1541, 'rain': 1542, 'mid': 1543, 'bank': 1544, 'began': 1545, 'shadow': 1546, 'parodi': 1547, 'princ': 1548, 'taylor': 1549, 'weapon': 1550, 'credibl': 1551, 'pre': 1552, 'friendship': 1553, 'dougla': 1554, 'teach': 1555, 'flesh': 1556, 'protect': 1557, 'terror': 1558, 'bloodi': 1559, 'hint': 1560, 'marvel': 1561, 'watchabl': 1562, 'leader': 1563, 'drunk': 1564, 'accord': 1565, 'anybodi': 1566, 'load': 1567, 'superman': 1568, 'brown': 1569, 'freddi': 1570, 'seat': 1571, 'appropri': 1572, 'tim': 1573, 'jeff': 1574, 'hitler': 1575, 'unknown': 1576, 'villag': 1577, 'charg': 1578, 'keaton': 1579, 'knock': 1580, 'england': 1581, 'enemi': 1582, 'empti': 1583, 'unnecessari': 1584, 'media': 1585, 'buck': 1586, 'craft': 1587, 'perspect': 1588, 'dare': 1589, 'utter': 1590, 'strength': 1591, 'wave': 1592, 'ford': 1593, 'contrast': 1594, 'kiss': 1595, 'correct': 1596, 'nativ': 1597, 'magnific': 1598, 'chill': 1599, 'speed': 1600, 'knowledg': 1601, 'distract': 1602, 'nazi': 1603, 'anywher': 1604, 'soap': 1605, 'breath': 1606, 'ice': 1607, 'mission': 1608, '1980': 1609, 'fred': 1610, 'jr': 1611, 'joan': 1612, 'crowd': 1613, 'moon': 1614, 'frighten': 1615, '000': 1616, 'kate': 1617, 'soft': 1618, 'nick': 1619, 'dick': 1620, 'dan': 1621, 'hundr': 1622, 'dozen': 1623, 'somebodi': 1624, 'radio': 1625, 'simon': 1626, 'andrew': 1627, 'loss': 1628, 'shakespear': 1629, 'thousand': 1630, 'academi': 1631, 'sum': 1632, 'account': 1633, 'vehicl': 1634, 'quot': 1635, 'root': 1636, '1970': 1637, 'leg': 1638, 'convent': 1639, 'behavior': 1640, 'regular': 1641, 'gold': 1642, 'demand': 1643, 'pretenti': 1644, 'compet': 1645, 'worker': 1646, 'privat': 1647, 'lynch': 1648, 'explos': 1649, 'stretch': 1650, 'notabl': 1651, 'candi': 1652, 'japan': 1653, 'interpret': 1654, 'constant': 1655, 'debut': 1656, 'tarzan': 1657, 'revolv': 1658, 'spi': 1659, 'translat': 1660, 'sea': 1661, 'prais': 1662, 'franc': 1663, 'quiet': 1664, 'ass': 1665, 'jesu': 1666, 'sat': 1667, 'failur': 1668, 'threaten': 1669, 'technolog': 1670, 'met': 1671, 'punch': 1672, 'kevin': 1673, 'aid': 1674, 'higher': 1675, 'toy': 1676, 'abandon': 1677, 'vh': 1678, 'interact': 1679, 'mike': 1680, 'confront': 1681, 'command': 1682, 'bet': 1683, 'separ': 1684, 'stunt': 1685, 'site': 1686, 'belong': 1687, 'techniqu': 1688, 'recal': 1689, 'gotten': 1690, 'servic': 1691, 'foot': 1692, 'freak': 1693, 'cabl': 1694, 'bug': 1695, 'capabl': 1696, 'jimmi': 1697, 'fu': 1698, 'african': 1699, 'bright': 1700, 'succeed': 1701, 'clark': 1702, 'fat': 1703, 'boat': 1704, 'stock': 1705, 'presid': 1706, 'spanish': 1707, 'structur': 1708, 'gene': 1709, 'kidnap': 1710, 'paper': 1711, 'belief': 1712, 'whilst': 1713, 'factor': 1714, 'bob': 1715, 'witti': 1716, 'educ': 1717, 'realism': 1718, 'attend': 1719, 'complic': 1720, 'realis': 1721, 'tree': 1722, 'finest': 1723, 'broken': 1724, 'santa': 1725, 'assist': 1726, 'depart': 1727, 'up': 1728, 'observ': 1729, 'smoke': 1730, 'determin': 1731, 'v': 1732, 'lewi': 1733, 'hat': 1734, 'rubbish': 1735, 'oper': 1736, 'domin': 1737, 'routin': 1738, 'fame': 1739, 'safe': 1740, 'foreign': 1741, 'advanc': 1742, 'morgan': 1743, 'lone': 1744, 'kinda': 1745, 'hook': 1746, 'numer': 1747, 'rank': 1748, 'washington': 1749, 'shallow': 1750, 'vs': 1751, 'werewolf': 1752, 'civil': 1753, 'rose': 1754, 'shape': 1755, 'gari': 1756, 'morn': 1757, 'ordinari': 1758, 'kong': 1759, 'winner': 1760, 'accomplish': 1761, 'grab': 1762, 'whenev': 1763, 'virtual': 1764, 'peac': 1765, 'offens': 1766, 'h': 1767, 'luck': 1768, 'contriv': 1769, 'bigger': 1770, 'unfunni': 1771, 'complain': 1772, 'activ': 1773, 'welcom': 1774, 'patient': 1775, 'trek': 1776, 'dimension': 1777, 'con': 1778, 'pretend': 1779, 'flash': 1780, 'wake': 1781, 'lesbian': 1782, 'code': 1783, 'cain': 1784, 'eric': 1785, 'dri': 1786, 'corrupt': 1787, 'dancer': 1788, 'statu': 1789, 'manipul': 1790, 'guard': 1791, 'albert': 1792, 'awkward': 1793, 'gain': 1794, 'sourc': 1795, 'speech': 1796, 'signific': 1797, 'context': 1798, '13': 1799, 'clip': 1800, 'corni': 1801, 'anthoni': 1802, 'psycho': 1803, 'sean': 1804, 'priest': 1805, 'curiou': 1806, 'reli': 1807, 'w': 1808, 'advic': 1809, 'religion': 1810, 'theatric': 1811, 'flow': 1812, 'addict': 1813, 'specif': 1814, 'howard': 1815, 'skin': 1816, 'secur': 1817, 'asian': 1818, 'jennif': 1819, 'core': 1820, 'promot': 1821, 'organ': 1822, 'comfort': 1823, 'golden': 1824, 'luke': 1825, 'lucki': 1826, 'cheat': 1827, 'cash': 1828, 'dislik': 1829, 'lower': 1830, 'associ': 1831, 'frequent': 1832, 'frankli': 1833, 'contribut': 1834, 'devic': 1835, 'degre': 1836, 'spell': 1837, 'wing': 1838, 'balanc': 1839, 'regret': 1840, 'print': 1841, 'forgiv': 1842, 'lake': 1843, 'sake': 1844, 'thoma': 1845, 'mass': 1846, 'betti': 1847, 'unexpect': 1848, 'crack': 1849, 'gordon': 1850, 'amateur': 1851, 'unfold': 1852, 'invit': 1853, 'grown': 1854, 'depend': 1855, 'categori': 1856, 'construct': 1857, 'anna': 1858, 'intellectu': 1859, 'honor': 1860, 'walter': 1861, 'matur': 1862, 'condit': 1863, 'grew': 1864, 'sole': 1865, 'veteran': 1866, 'spectacular': 1867, 'mirror': 1868, 'sudden': 1869, 'liner': 1870, 'card': 1871, 'demonstr': 1872, 'meanwhil': 1873, 'gift': 1874, 'experienc': 1875, 'freedom': 1876, 'overli': 1877, 'robin': 1878, 'grip': 1879, 'brilliantli': 1880, 'drew': 1881, 'oliv': 1882, 'circumst': 1883, 'crappi': 1884, 'unabl': 1885, 'colour': 1886, 'subtitl': 1887, 'theori': 1888, 'section': 1889, 'sheriff': 1890, 'parker': 1891, 'sheer': 1892, 'cook': 1893, 'laughter': 1894, 'matt': 1895, 'altern': 1896, 'pile': 1897, 'path': 1898, 'wander': 1899, 'lawyer': 1900, 'hall': 1901, 'defin': 1902, 'sinatra': 1903, 'treatment': 1904, 'accident': 1905, 'relief': 1906, 'hank': 1907, 'dragon': 1908, 'captiv': 1909, 'halloween': 1910, 'gratuit': 1911, 'moor': 1912, 'barbara': 1913, 'wound': 1914, 'cowboy': 1915, 'unintent': 1916, 'kung': 1917, 'jacki': 1918, 'k': 1919, 'wayn': 1920, 'broadway': 1921, 'surreal': 1922, 'spoof': 1923, 'canadian': 1924, 'winter': 1925, 'statement': 1926, 'fish': 1927, 'fare': 1928, 'treasur': 1929, 'compos': 1930, 'gonna': 1931, 'cheer': 1932, 'emerg': 1933, 'unrealist': 1934, 'woodi': 1935, 'sensit': 1936, 'victor': 1937, 'driven': 1938, 'sympathet': 1939, 'ran': 1940, 'neighbor': 1941, 'topic': 1942, 'glass': 1943, 'menac': 1944, 'expos': 1945, 'overlook': 1946, 'authent': 1947, 'chief': 1948, 'michel': 1949, 'handsom': 1950, 'ancient': 1951, 'gross': 1952, 'comedian': 1953, 'feet': 1954, 'contemporari': 1955, 'russel': 1956, 'stranger': 1957, 'nevertheless': 1958, 'pleasant': 1959, 'built': 1960, 'cinderella': 1961, 'network': 1962, 'blockbust': 1963, 'miser': 1964, 'letter': 1965, 'underr': 1966, 'endless': 1967, 'gori': 1968, 'consider': 1969, 'earn': 1970, 'solv': 1971, 'switch': 1972, 'brook': 1973, 'edward': 1974, 'bullet': 1975, 'joseph': 1976, 'virgin': 1977, 'victoria': 1978, 'convict': 1979, '0': 1980, 'chosen': 1981, 'cynic': 1982, 'alex': 1983, 'scale': 1984, 'scenario': 1985, 'com': 1986, 'sword': 1987, 'outrag': 1988, 'curs': 1989, 'gut': 1990, 'uk': 1991, 'monkey': 1992, 'screenwrit': 1993, 'wrap': 1994, 'driver': 1995, 'juli': 1996, 'substanc': 1997, 'proper': 1998, 'bird': 1999, 'remov': 2000, 'court': 2001, 'indic': 2002, 'par': 2003, 'nanci': 2004, 'rental': 2005, 'inevit': 2006, 'consequ': 2007, 'naiv': 2008, 'advertis': 2009, 'roy': 2010, 'grave': 2011, 'loser': 2012, 'bridg': 2013, 'brave': 2014, 'germani': 2015, 'invis': 2016, 'slap': 2017, 'fatal': 2018, 'le': 2019, 'loui': 2020, 'anger': 2021, 'ador': 2022, 'footbal': 2023, 'provok': 2024, 'chan': 2025, 'anderson': 2026, 'alcohol': 2027, 'willi': 2028, 'ryan': 2029, 'professor': 2030, 'stumbl': 2031, 'patrick': 2032, 'assassin': 2033, 'sharp': 2034, 'australian': 2035, '1930': 2036, 'bat': 2037, 'saturday': 2038, 'trilog': 2039, 'lousi': 2040, 'refresh': 2041, 'heck': 2042, 'eight': 2043, 'strongli': 2044, 'ape': 2045, 'liber': 2046, 'cell': 2047, 'deni': 2048, 'amateurish': 2049, 'sin': 2050, 'resid': 2051, 'vagu': 2052, 'san': 2053, 'justifi': 2054, 'defeat': 2055, 'indi': 2056, 'terrifi': 2057, 'mini': 2058, 'sympathi': 2059, 'creator': 2060, 'reput': 2061, 'prevent': 2062, 'tediou': 2063, 'tabl': 2064, 'task': 2065, 'endur': 2066, 'expert': 2067, 'imit': 2068, 'employ': 2069, 'trial': 2070, 'offend': 2071, 'basebal': 2072, 'rival': 2073, 'che': 2074, 'europ': 2075, 'dig': 2076, 'max': 2077, 'fairi': 2078, 'pitch': 2079, 'weekend': 2080, 'complaint': 2081, 'beach': 2082, 'format': 2083, 'murphi': 2084, 'risk': 2085, 'purchas': 2086, 'nois': 2087, 'hype': 2088, 'bite': 2089, 'harsh': 2090, 'reminisc': 2091, 'glimps': 2092, 'tini': 2093, 'titan': 2094, 'powel': 2095, 'asleep': 2096, 'till': 2097, 'prime': 2098, 'north': 2099, 'fals': 2100, 'strip': 2101, '14': 2102, 'africa': 2103, 'destruct': 2104, 'revel': 2105, 'texa': 2106, 'descript': 2107, 'semi': 2108, 'sitcom': 2109, 'excess': 2110, 'uninterest': 2111, 'arrest': 2112, 'inner': 2113, 'spin': 2114, 'surfac': 2115, 'argu': 2116, 'makeup': 2117, 'dinosaur': 2118, 'hitchcock': 2119, 'massiv': 2120, 'maintain': 2121, 'controversi': 2122, 'twin': 2123, 'ideal': 2124, 'melodrama': 2125, 'expens': 2126, 'stare': 2127, 'kim': 2128, 'reject': 2129, 'insist': 2130, 'ludicr': 2131, 'press': 2132, 'host': 2133, 'supernatur': 2134, 'forest': 2135, 'atroci': 2136, 'ala': 2137, 'subplot': 2138, 'ga': 2139, 'erot': 2140, 'columbo': 2141, 'nail': 2142, 'dude': 2143, 'identifi': 2144, 'cant': 2145, 'notch': 2146, 'presum': 2147, 'character': 2148, 'guest': 2149, 'closer': 2150, 'plagu': 2151, 'forgett': 2152, 'method': 2153, 'crude': 2154, 'lion': 2155, 'landscap': 2156, 'border': 2157, 'princess': 2158, 'foster': 2159, 'beast': 2160, 'ear': 2161, 'pacino': 2162, 'storytel': 2163, 'jungl': 2164, 'previous': 2165, 'birth': 2166, 'damag': 2167, 'accus': 2168, 'bound': 2169, 'urban': 2170, 'aunt': 2171, 'propaganda': 2172, 'emma': 2173, 'nude': 2174, 'guid': 2175, 'jess': 2176, 'chose': 2177, 'doll': 2178, 'thirti': 2179, 'whoever': 2180, '25': 2181, 'mate': 2182, 'mainstream': 2183, 'pet': 2184, 'warrior': 2185, 'size': 2186, 'friday': 2187, 'cooper': 2188, 'gritti': 2189, 'poster': 2190, 'upset': 2191, 'latest': 2192, 'deadli': 2193, 'exact': 2194, 'merit': 2195, 'citizen': 2196, 'settl': 2197, 'warner': 2198, 'wilson': 2199, 'contact': 2200, 'popul': 2201, 'buff': 2202, 'blend': 2203, 'ton': 2204, 'rough': 2205, '1990': 2206, 'corps': 2207, 'sun': 2208, 'contest': 2209, 'overcom': 2210, 'select': 2211, 'bu': 2212, 'widow': 2213, 'environ': 2214, 'metal': 2215, 'alic': 2216, 'mgm': 2217, 'pitt': 2218, 'rat': 2219, 'lift': 2220, 'revolut': 2221, 'link': 2222, 'guilti': 2223, 'particip': 2224, 'ted': 2225, 'exagger': 2226, '1960': 2227, 'afternoon': 2228, 'accompani': 2229, 'moron': 2230, 'corpor': 2231, 'prostitut': 2232, 'johnson': 2233, 'corner': 2234, 'matrix': 2235, 'instal': 2236, 'friendli': 2237, 'leagu': 2238, 'sincer': 2239, 'multipl': 2240, 'hood': 2241, 'holm': 2242, 'doom': 2243, 'clair': 2244, 'sunday': 2245, 'string': 2246, 'defend': 2247, 'aka': 2248, 'lugosi': 2249, 'advis': 2250, 'examin': 2251, 'blah': 2252, 'grim': 2253, 'hip': 2254, 'irish': 2255, 'junk': 2256, 'campi': 2257, 'tight': 2258, 'rachel': 2259, 'pro': 2260, 'confid': 2261, 'shake': 2262, 'shut': 2263, 'icon': 2264, 'varieti': 2265, 'directli': 2266, 'goal': 2267, 'jaw': 2268, 'denni': 2269, 'medic': 2270, 'sullivan': 2271, 'attach': 2272, 'mexican': 2273, 'breast': 2274, 'sentenc': 2275, 'legendari': 2276, 'terrorist': 2277, 'truck': 2278, 'courag': 2279, 'prior': 2280, 'sarah': 2281, 'bourn': 2282, 'duke': 2283, 'vietnam': 2284, 'dean': 2285, 'donald': 2286, 'yell': 2287, 'proceed': 2288, 'un': 2289, 'entri': 2290, 'split': 2291, 'behav': 2292, 'nose': 2293, 'hong': 2294, 'crush': 2295, 'lifetim': 2296, 'borrow': 2297, 'everywher': 2298, 'gather': 2299, 'concentr': 2300, 'forth': 2301, 'jerk': 2302, 'unconvinc': 2303, 'stolen': 2304, 'swim': 2305, 'buri': 2306, 'confess': 2307, 'spite': 2308, 'pan': 2309, 'lip': 2310, 'deliveri': 2311, 'julia': 2312, 'california': 2313, 'turkey': 2314, 'offici': 2315, 'proud': 2316, 'freeman': 2317, 'flight': 2318, 'reward': 2319, 'quest': 2320, 'downright': 2321, 'china': 2322, 'hoffman': 2323, 'betray': 2324, 'worthwhil': 2325, 'fade': 2326, 'lazi': 2327, 'jail': 2328, 'encourag': 2329, 'jon': 2330, 'notori': 2331, 'sink': 2332, 'inept': 2333, 'fabul': 2334, 'sir': 2335, 'storm': 2336, 'survivor': 2337, 'imageri': 2338, 'relev': 2339, 'teeth': 2340, 'bell': 2341, 'shower': 2342, 'lisa': 2343, 'susan': 2344, 'retard': 2345, 'bag': 2346, 'cousin': 2347, 'branagh': 2348, 'hugh': 2349, 'stab': 2350, 'quirki': 2351, 'toler': 2352, 'trade': 2353, 'summari': 2354, 'shark': 2355, 'alright': 2356, 'mexico': 2357, 'facial': 2358, 'finger': 2359, 'tremend': 2360, 'bride': 2361, 'bitter': 2362, 'hyster': 2363, 'ha': 2364, 'pose': 2365, 'blown': 2366, 'von': 2367, 'christ': 2368, 'cruel': 2369, 'ned': 2370, 'ron': 2371, 'bone': 2372, 'larri': 2373, 'afterward': 2374, 'scheme': 2375, 'address': 2376, 'thumb': 2377, 'tour': 2378, 'traci': 2379, 'beg': 2380, 'pursu': 2381, 'distinct': 2382, 'feed': 2383, 'screw': 2384, 'snake': 2385, 'swear': 2386, 'photo': 2387, 'obscur': 2388, 'chair': 2389, 'occas': 2390, 'raw': 2391, 'stomach': 2392, 'mechan': 2393, 'necessarili': 2394, 'render': 2395, 'hardi': 2396, 'heavili': 2397, 'holiday': 2398, 'sidney': 2399, 'resist': 2400, 'gruesom': 2401, 'argument': 2402, 'southern': 2403, 'chain': 2404, 'cabin': 2405, 'understood': 2406, 'racist': 2407, 'philip': 2408, 'indulg': 2409, 'india': 2410, 'satan': 2411, 'integr': 2412, 'belov': 2413, 'midnight': 2414, 'forgot': 2415, 'pregnant': 2416, 'fourth': 2417, 'obnoxi': 2418, 'tongu': 2419, 'stalk': 2420, 'outfit': 2421, 'lay': 2422, 'inhabit': 2423, 'restor': 2424, 'garden': 2425, 'ticket': 2426, 'magazin': 2427, 'deeper': 2428, 'slapstick': 2429, 'carol': 2430, '17': 2431, 'incid': 2432, 'lincoln': 2433, 'shoe': 2434, 'brad': 2435, 'devot': 2436, 'divorc': 2437, 'elizabeth': 2438, 'guarante': 2439, 'underground': 2440, 'benefit': 2441, 'disbelief': 2442, 'anticip': 2443, 'sandler': 2444, 'maria': 2445, 'lili': 2446, 'cring': 2447, 'capit': 2448, 'creation': 2449, 'amazingli': 2450, 'slave': 2451, 'mildli': 2452, 'greater': 2453, 'princip': 2454, 'bbc': 2455, 'explod': 2456, 'introduct': 2457, 'extraordinari': 2458, 'halfway': 2459, 'funnier': 2460, 'lesli': 2461, 'transfer': 2462, 'enhanc': 2463, 'advantag': 2464, 'text': 2465, 'punish': 2466, 'extent': 2467, 'wreck': 2468, 'overwhelm': 2469, 'tap': 2470, 'lo': 2471, 'horrif': 2472, 'error': 2473, 'plant': 2474, 'preview': 2475, 'east': 2476, 'deliber': 2477, 'jessica': 2478, 'dynam': 2479, 'lane': 2480, 'miller': 2481, 'ensu': 2482, 'sophist': 2483, '2000': 2484, 'homosexu': 2485, 'basi': 2486, 'vacat': 2487, 'vincent': 2488, 'appli': 2489, 'miscast': 2490, 'steel': 2491, 'mansion': 2492, 'uncomfort': 2493, 'extend': 2494, 'sleazi': 2495, 'measur': 2496, 'spoken': 2497, 'via': 2498, 'reed': 2499, 'elev': 2500, 'bollywood': 2501, 'mous': 2502, 'breathtak': 2503, 'alter': 2504, 'hippi': 2505, 'melt': 2506, 'goofi': 2507, 'fix': 2508, 'stanley': 2509, 'cathol': 2510, 'beer': 2511, 'overact': 2512, 'assign': 2513, 'blair': 2514, 'daili': 2515, 'dentist': 2516, 'conceiv': 2517, 'savag': 2518, 'everyday': 2519, 'subsequ': 2520, 'oppos': 2521, 'properli': 2522, 'sacrific': 2523, 'carpent': 2524, 'nowaday': 2525, 'burt': 2526, 'succe': 2527, 'inspector': 2528, 'circl': 2529, 'block': 2530, 'neck': 2531, 'massacr': 2532, 'laura': 2533, 'access': 2534, 'portrait': 2535, 'christi': 2536, 'concert': 2537, 'lesser': 2538, 'mob': 2539, 'grey': 2540, 'fay': 2541, 'pool': 2542, 'fallen': 2543, 'seagal': 2544, 'sinist': 2545, 'isol': 2546, 'jewish': 2547, 'usa': 2548, 'chees': 2549, 'relax': 2550, 'react': 2551, 'jake': 2552, 'competit': 2553, 'ironi': 2554, 'suitabl': 2555, 'nine': 2556, 'nonetheless': 2557, 'chop': 2558, '2006': 2559, 'appal': 2560, 'lyric': 2561, 'spiritu': 2562, 'immens': 2563, 'stink': 2564, 'creep': 2565, 'showcas': 2566, 'nut': 2567, 'needless': 2568, 'adopt': 2569, 'sold': 2570, 'rage': 2571, 'reduc': 2572, 'shirt': 2573, 'franchis': 2574, 'luci': 2575, 'navi': 2576, 'user': 2577, 'spring': 2578, 'retir': 2579, 'stanwyck': 2580, 'asham': 2581, 'uninspir': 2582, 'bath': 2583, 'per': 2584, 'zone': 2585, 'nurs': 2586, 'bulli': 2587, 'digit': 2588, 'jay': 2589, 'sutherland': 2590, 'amongst': 2591, 'illustr': 2592, '2001': 2593, 'broadcast': 2594, 'laid': 2595, '1940': 2596, 'oddli': 2597, 'upper': 2598, 'aspir': 2599, 'fulfil': 2600, 'stylish': 2601, 'disguis': 2602, 'baker': 2603, 'throat': 2604, 'brando': 2605, '18': 2606, 'neighborhood': 2607, 'em': 2608, 'pride': 2609, 'wanna': 2610, 'impli': 2611, 'endear': 2612, 'thief': 2613, 'pound': 2614, 'wwii': 2615, 'nobl': 2616, 'coher': 2617, '16': 2618, 'dawn': 2619, 'diseas': 2620, 'shift': 2621, 'dinner': 2622, 'shoulder': 2623, 'distribut': 2624, 'albeit': 2625, 'tens': 2626, 'prop': 2627, 'cinematograph': 2628, 'bo': 2629, 'bett': 2630, 'rochest': 2631, 'silenc': 2632, 'contract': 2633, 'surf': 2634, 'snow': 2635, 'forti': 2636, 'matthau': 2637, 'shout': 2638, 'wash': 2639, 'function': 2640, 'knife': 2641, 'poignant': 2642, 'rebel': 2643, 'mindless': 2644, 'heat': 2645, 'proof': 2646, 'chuck': 2647, 'henc': 2648, 'cancel': 2649, 'cannib': 2650, 'reunion': 2651, 'derek': 2652, 'horrend': 2653, 'instinct': 2654, 'internet': 2655, 'duti': 2656, 'eeri': 2657, 'height': 2658, 'widmark': 2659, 'silver': 2660, 'elvira': 2661, 'incoher': 2662, 'neat': 2663, 'repetit': 2664, 'etern': 2665, 'pie': 2666, 'musician': 2667, 'torn': 2668, 'mill': 2669, 'innov': 2670, 'spielberg': 2671, 'glori': 2672, 'greatli': 2673, 'premier': 2674, 'alik': 2675, 'absorb': 2676, 'elvi': 2677, 'homag': 2678, 'lovabl': 2679, 'britain': 2680, 'itali': 2681, 'crisi': 2682, 'burton': 2683, 'redempt': 2684, 'racism': 2685, 'fbi': 2686, 'trite': 2687, 'announc': 2688, 'diamond': 2689, 'bang': 2690, 'infam': 2691, 'horrifi': 2692, 'precis': 2693, 'wealthi': 2694, 'nelson': 2695, 'blank': 2696, 'dedic': 2697, 'hammer': 2698, 'chaplin': 2699, 'resolut': 2700, 'wilder': 2701, 'ensembl': 2702, 'happili': 2703, 'streisand': 2704, 'helen': 2705, 'flop': 2706, 'parallel': 2707, 'pat': 2708, 'plastic': 2709, 'triumph': 2710, 'disagre': 2711, 'st': 2712, 'conclud': 2713, 'cube': 2714, 'factori': 2715, 'mar': 2716, 'broke': 2717, 'oil': 2718, 'carter': 2719, 'rocket': 2720, 'own': 2721, 'vega': 2722, 'chuckl': 2723, 'march': 2724, 'weight': 2725, 'fighter': 2726, 'row': 2727, 'climb': 2728, 'bush': 2729, 'mst3k': 2730, 'sensibl': 2731, 'unforgett': 2732, 'enorm': 2733, 'meaning': 2734, 'thug': 2735, 'boot': 2736, 'dump': 2737, 'wherea': 2738, 'spare': 2739, 'lust': 2740, 'luca': 2741, 'dane': 2742, 'kurt': 2743, 'brand': 2744, 'difficulti': 2745, 'adequ': 2746, 'engin': 2747, 'caricatur': 2748, 'fifti': 2749, 'threat': 2750, 'butt': 2751, 'bobbi': 2752, 'rap': 2753, 'stress': 2754, 'dear': 2755, 'arnold': 2756, 'karloff': 2757, 'ralph': 2758, 'elabor': 2759, 'fest': 2760, 'barri': 2761, 'arrog': 2762, 'ego': 2763, 'secretari': 2764, 'swing': 2765, 'polish': 2766, 'homeless': 2767, 'journalist': 2768, 'flynn': 2769, 'hamlet': 2770, 'arrang': 2771, 'float': 2772, 'tool': 2773, 'fanci': 2774, 'unbear': 2775, 'spike': 2776, 'puppet': 2777, 'grate': 2778, 'resort': 2779, 'induc': 2780, 'conspiraci': 2781, 'simpson': 2782, 'exercis': 2783, 'guilt': 2784, 'choreograph': 2785, 'basement': 2786, 'pig': 2787, 'phillip': 2788, 'boll': 2789, 'cruis': 2790, 'tribut': 2791, 'muppet': 2792, 'korean': 2793, 'file': 2794, '24': 2795, 'ward': 2796, 'tower': 2797, 'item': 2798, 'document': 2799, 'medium': 2800, 'editor': 2801, 'ham': 2802, 'toilet': 2803, 'layer': 2804, 'slip': 2805, 'fianc': 2806, 'stan': 2807, 'puzzl': 2808, 'scarecrow': 2809, 'babe': 2810, 'larger': 2811, 'portion': 2812, 'spark': 2813, 'librari': 2814, 'superfici': 2815, 'philosoph': 2816, 'minim': 2817, 'assur': 2818, 'orient': 2819, 'glover': 2820, 'denzel': 2821, 'territori': 2822, 'persona': 2823, 'doc': 2824, 'transit': 2825, 'inexplic': 2826, 'slaughter': 2827, 'catherin': 2828, 'financi': 2829, 'dorothi': 2830, 'jet': 2831, 'sneak': 2832, 'jeremi': 2833, 'pg': 2834, 'curti': 2835, 'ban': 2836, 'shi': 2837, 'wolf': 2838, 'boredom': 2839, 'walken': 2840, 'owe': 2841, 'hudson': 2842, 'ambigu': 2843, 'cusack': 2844, 'backdrop': 2845, 'profound': 2846, 'multi': 2847, 'whale': 2848, 'metaphor': 2849, 'eleph': 2850, 'union': 2851, 'stiff': 2852, 'birthday': 2853, 'notion': 2854, 'viru': 2855, '2005': 2856, 'rave': 2857, 'implaus': 2858, 'gadget': 2859, 'ultra': 2860, 'elsewher': 2861, 'hack': 2862, 'superhero': 2863, 'disc': 2864, 'bibl': 2865, 'poison': 2866, 'canada': 2867, 'eastwood': 2868, 'pad': 2869, 'reader': 2870, 'afford': 2871, '1st': 2872, 'newspap': 2873, 'urg': 2874, 'slight': 2875, 'deriv': 2876, 'distanc': 2877, 'squar': 2878, 'lloyd': 2879, 'eva': 2880, 'hawk': 2881, 'cure': 2882, 'charisma': 2883, 'heston': 2884, 'essenc': 2885, 'button': 2886, 'spread': 2887, 'montag': 2888, 'health': 2889, 'huh': 2890, 'sadist': 2891, 'drown': 2892, 'restaur': 2893, 'skit': 2894, 'gradual': 2895, 'peak': 2896, 'fetch': 2897, 'companion': 2898, 'lab': 2899, 'dealt': 2900, 'invest': 2901, 'maniac': 2902, 'estat': 2903, 'godfath': 2904, 'muslim': 2905, 'scoobi': 2906, 'kane': 2907, 'subtleti': 2908, 'countless': 2909, 'alli': 2910, 'ritter': 2911, 'cup': 2912, 'servant': 2913, 'tea': 2914, 'miik': 2915, 'gothic': 2916, 'heroic': 2917, 'elect': 2918, 'electr': 2919, 'iii': 2920, 'salli': 2921, 'briefli': 2922, 'charismat': 2923, 'resourc': 2924, 'admittedli': 2925, 'cole': 2926, 'nuanc': 2927, 'toss': 2928, 'ingredi': 2929, 'tender': 2930, 'grandmoth': 2931, 'reel': 2932, 'bud': 2933, 'neil': 2934, 'wannab': 2935, 'carrey': 2936, 'kubrick': 2937, 'mafia': 2938, 'punk': 2939, 'label': 2940, 'stood': 2941, 'shall': 2942, 'mild': 2943, 'poverti': 2944, 'stronger': 2945, 'pit': 2946, 'gate': 2947, 'pauli': 2948, 'reev': 2949, 'dawson': 2950, 'easier': 2951, 'updat': 2952, 'bakshi': 2953, 'tag': 2954, 'terri': 2955, 'assault': 2956, 'useless': 2957, 'cardboard': 2958, 'smooth': 2959, 'astair': 2960, 'outcom': 2961, 'fond': 2962, 'ian': 2963, 'smash': 2964, 'burst': 2965, 'cox': 2966, 'exchang': 2967, 'divers': 2968, 'melodramat': 2969, 'vulner': 2970, 'vari': 2971, '2002': 2972, 'rex': 2973, 'qualifi': 2974, 'sketch': 2975, 'samurai': 2976, 'increasingli': 2977, 'coincid': 2978, 'resolv': 2979, 'fist': 2980, 'conveni': 2981, 'templ': 2982, 'insert': 2983, 'scratch': 2984, 'be': 2985, 'suspend': 2986, 'brillianc': 2987, 'blast': 2988, 'luckili': 2989, 'tame': 2990, 'reynold': 2991, 'jami': 2992, 'seventi': 2993, 'ambiti': 2994, 'strictli': 2995, 'walker': 2996, 'hamilton': 2997, 'pin': 2998, 'matthew': 2999, 'farm': 3000, 'gotta': 3001, 'coach': 3002, 'meat': 3003, 'nuclear': 3004, 'soprano': 3005, 'fisher': 3006, 'spooki': 3007, 'kudo': 3008, 'monk': 3009, 'empir': 3010, 'revers': 3011, 'eccentr': 3012, 'grasp': 3013, 'timeless': 3014, 'worthless': 3015, 'cave': 3016, 'closet': 3017, 'recreat': 3018, 'convolut': 3019, 'discoveri': 3020, 'instantli': 3021, 'ninja': 3022, 'struck': 3023, 'clock': 3024, 'butcher': 3025, 'brosnan': 3026, 'joey': 3027, 'pal': 3028, 'miracl': 3029, 'inconsist': 3030, 'evok': 3031, 'wipe': 3032, 'declar': 3033, 'sidekick': 3034, 'cliff': 3035, 'partli': 3036, 'bleak': 3037, 'mitchel': 3038, 'fifteen': 3039, 'selfish': 3040, 'sloppi': 3041, 'clown': 3042, 'seller': 3043, 'eighti': 3044, 'communist': 3045, 'gray': 3046, 'importantli': 3047, 'norman': 3048, 'destin': 3049, 'websit': 3050, 'seed': 3051, 'psychiatrist': 3052, 'aforement': 3053, 'debat': 3054, 'ho': 3055, 'lifestyl': 3056, 'enthusiast': 3057, 'cheek': 3058, 'australia': 3059, 'farc': 3060, 'superbl': 3061, '45': 3062, 'flawless': 3063, 'stoog': 3064, 'piano': 3065, 'chew': 3066, 'pressur': 3067, 'bash': 3068, 'directori': 3069, 'drivel': 3070, 'regardless': 3071, 'anni': 3072, 'slice': 3073, 'splatter': 3074, 'incompet': 3075, 'kitchen': 3076, 'wick': 3077, 'dash': 3078, 'soviet': 3079, 'akshay': 3080, 'dire': 3081, 'abc': 3082, 'wrestl': 3083, 'emili': 3084, 'boil': 3085, 'lou': 3086, 'glow': 3087, 'pleasantli': 3088, 'flower': 3089, 'chapter': 3090, 'artifici': 3091, 'suppli': 3092, 'jar': 3093, 'prize': 3094, 'seduc': 3095, 'curios': 3096, 'blob': 3097, 'dave': 3098, 'duo': 3099, 'cia': 3100, 'distant': 3101, 'recov': 3102, 'helicopt': 3103, 'increas': 3104, 'judi': 3105, 'beaten': 3106, 'ken': 3107, 'cameron': 3108, 'mann': 3109, 'doo': 3110, 'cagney': 3111, 'craven': 3112, 'eleg': 3113, 'web': 3114, 'favour': 3115, 'turner': 3116, 'craig': 3117, 'hop': 3118, 'drunken': 3119, 'psychot': 3120, 'splendid': 3121, 'glenn': 3122, 'combat': 3123, 'ellen': 3124, 'goldberg': 3125, 'ranger': 3126, 'panic': 3127, 'laurel': 3128, 'perri': 3129, 'francisco': 3130, 'fx': 3131, 'alexand': 3132, 'falk': 3133, 'min': 3134, 'shortli': 3135, 'wizard': 3136, 'modesti': 3137, 'hatr': 3138, 'rid': 3139, 'philosophi': 3140, 'gentl': 3141, 'ruth': 3142, 'plausibl': 3143, 'flip': 3144, 'slightest': 3145, 'greek': 3146, 'graduat': 3147, '20th': 3148, 'gandhi': 3149, 'we': 3150, 'ocean': 3151, 'unpleas': 3152, 'lend': 3153, 'knight': 3154, 'holi': 3155, 'dracula': 3156, 'jealou': 3157, 'legal': 3158, 'manhattan': 3159, 'fund': 3160, 'harm': 3161, 'preciou': 3162, 'felix': 3163, 'tall': 3164, 'futurist': 3165, 'ami': 3166, 'thread': 3167, 'overdon': 3168, 'bless': 3169, 'mock': 3170, 'giallo': 3171, 'forbidden': 3172, 'explicit': 3173, 'digniti': 3174, 'reviv': 3175, 'nod': 3176, 'childish': 3177, 'tank': 3178, 'scientif': 3179, 'awaken': 3180, 'fever': 3181, 'unwatch': 3182, '2004': 3183, 'pirat': 3184, 'awe': 3185, 'nerv': 3186, 'verhoeven': 3187, 'broad': 3188, 'repeatedli': 3189, '99': 3190, 'mel': 3191, 'eve': 3192, 'torment': 3193, 'thick': 3194, 'margaret': 3195, 'yesterday': 3196, 'elderli': 3197, 'kay': 3198, 'acclaim': 3199, 'ambit': 3200, 'launch': 3201, 'publish': 3202, 'roman': 3203, 'uniform': 3204, 'griffith': 3205, 'automat': 3206, 'lean': 3207, 'absenc': 3208, 'rivet': 3209, 'stiller': 3210, 'eas': 3211, 'ah': 3212, 'politician': 3213, 'royal': 3214, 'custom': 3215, 'timothi': 3216, 'bin': 3217, 'romero': 3218, 'stinker': 3219, 'gabriel': 3220, 'tomato': 3221, 'crook': 3222, 'darker': 3223, 'phrase': 3224, 'antic': 3225, 'transport': 3226, 'wallac': 3227, 'bathroom': 3228, 'termin': 3229, 'pierc': 3230, 'homicid': 3231, 'sunshin': 3232, 'warren': 3233, 'foul': 3234, 'pulp': 3235, 'purpl': 3236, 'brazil': 3237, 'juvenil': 3238, 'marin': 3239, 'pray': 3240, '2003': 3241, 'revolutionari': 3242, 'li': 3243, 'saint': 3244, 'coloni': 3245, 'horrid': 3246, 'viciou': 3247, 'awak': 3248, 'choreographi': 3249, 'q': 3250, 'hollow': 3251, 'evolv': 3252, 'ought': 3253, 'karen': 3254, 'kenneth': 3255, 'prom': 3256, 'contrari': 3257, 'donna': 3258, 'sixti': 3259, 'album': 3260, 'rambo': 3261, 'eyr': 3262, 'packag': 3263, 'boast': 3264, 'kapoor': 3265, 'twelv': 3266, 'overr': 3267, 'candid': 3268, 'nerd': 3269, 'blade': 3270, 'option': 3271, 'ireland': 3272, 'beatti': 3273, 'conserv': 3274, 'stole': 3275, 'dose': 3276, 'mummi': 3277, 'defi': 3278, 'mildr': 3279, 'ramon': 3280, 'altman': 3281, 'protest': 3282, 'trio': 3283, 'collabor': 3284, 'flame': 3285, 'natali': 3286, 'detract': 3287, 'funer': 3288, 'confirm': 3289, 'fulci': 3290, 'astonish': 3291, 'jazz': 3292, 'global': 3293, 'kirk': 3294, 'whip': 3295, 'blake': 3296, 'yellow': 3297, 'audio': 3298, 'bull': 3299, 'enterpris': 3300, 'bottl': 3301, 'delici': 3302, 'shade': 3303, 'spit': 3304, 'destini': 3305, 'racial': 3306, 'tommi': 3307, 'leap': 3308, 'nicholson': 3309, 'mystic': 3310, 'todd': 3311, 'harder': 3312, 'popcorn': 3313, 'vivid': 3314, 'merci': 3315, 'staff': 3316, 'fonda': 3317, 'meaningless': 3318, 'swedish': 3319, 'adolesc': 3320, 'pseudo': 3321, 'neo': 3322, 'threw': 3323, 'reunit': 3324, 'bedroom': 3325, 'visibl': 3326, 'altogeth': 3327, 'inherit': 3328, 'enchant': 3329, 'crocodil': 3330, 'decor': 3331, 'atlanti': 3332, 'moodi': 3333, 'await': 3334, 'befriend': 3335, 'suspici': 3336, 'ruthless': 3337, 'reserv': 3338, 'uneven': 3339, 'kennedi': 3340, 'wire': 3341, 'leonard': 3342, 'roommat': 3343, 'fanat': 3344, 'madonna': 3345, 'tip': 3346, 'jew': 3347, 'synopsi': 3348, 'lawrenc': 3349, 'respond': 3350, 'voight': 3351, 'exhibit': 3352, 'bust': 3353, 'lemmon': 3354, 'edi': 3355, 'rural': 3356, 'garner': 3357, 'ventur': 3358, 'voyag': 3359, '2007': 3360, 'abysm': 3361, 'bradi': 3362, 'clint': 3363, 'centr': 3364, 'bargain': 3365, 'unsettl': 3366, 'audit': 3367, 'dimens': 3368, 'palma': 3369, 'chao': 3370, 'incident': 3371, 'bold': 3372, 'carl': 3373, 'clumsi': 3374, 'holli': 3375, 'poetic': 3376, 'cari': 3377, 'wealth': 3378, 'troop': 3379, 'trail': 3380, 'characterist': 3381, 'mall': 3382, '2nd': 3383, 'nearbi': 3384, 'echo': 3385, 'versu': 3386, 'humili': 3387, 'acknowledg': 3388, 'imperson': 3389, 'daddi': 3390, 'neglect': 3391, 'elimin': 3392, 'cuba': 3393, 'hart': 3394, 'tiger': 3395, 'immigr': 3396, 'ant': 3397, 'cd': 3398, 'lit': 3399, 'timon': 3400, 'collaps': 3401, 'repuls': 3402, 'mickey': 3403, 'pun': 3404, 'prejudic': 3405, 'domest': 3406, 'paus': 3407, 'solo': 3408, 'jeffrey': 3409, 'saga': 3410, 'celluloid': 3411, 'marshal': 3412, 'mistaken': 3413, 'infect': 3414, 'homer': 3415, 'coat': 3416, 'equip': 3417, 'promin': 3418, 'chest': 3419, 'assembl': 3420, 'leon': 3421, 'gear': 3422, 'olivi': 3423, 'ginger': 3424, 'coffe': 3425, 'harvey': 3426, 'sore': 3427, 'milk': 3428, 'apolog': 3429, 'hbo': 3430, 'inan': 3431, 'cake': 3432, '1996': 3433, 'pant': 3434, 'interrupt': 3435, 'tribe': 3436, 'undoubtedli': 3437, 'inappropri': 3438, 'maggi': 3439, 'solut': 3440, 'primari': 3441, 'aveng': 3442, 'trace': 3443, 'retain': 3444, 'brooklyn': 3445, 'highest': 3446, 'embrac': 3447, 'instant': 3448, 'furthermor': 3449, 'exot': 3450, 'pot': 3451, 'colleagu': 3452, 'institut': 3453, 'airplan': 3454, 'pen': 3455, 'devast': 3456, 'florida': 3457, 'polanski': 3458, 'colonel': 3459, 'humbl': 3460, 'vulgar': 3461, 'consum': 3462, 'jenni': 3463, 'poke': 3464, 'gender': 3465, 'bowl': 3466, 'descend': 3467, 'cope': 3468, 'illog': 3469, '3rd': 3470, 'strain': 3471, 'linda': 3472, 'seduct': 3473, 'godzilla': 3474, '1999': 3475, 'disabl': 3476, 'sale': 3477, 'dian': 3478, 'wive': 3479, 'rick': 3480, 'smaller': 3481, 'dutch': 3482, 'principl': 3483, 'ya': 3484, 'outer': 3485, 'primarili': 3486, 'glamor': 3487, 'lol': 3488, 'predecessor': 3489, 'gloriou': 3490, 'blatant': 3491, 'secondli': 3492, 'dud': 3493, 'yard': 3494, 'devoid': 3495, 'vast': 3496, 'hal': 3497, 'dive': 3498, 'cue': 3499, 'inferior': 3500, 'rabbit': 3501, 'mixtur': 3502, 'beneath': 3503, 'gundam': 3504, 'bubbl': 3505, 'scope': 3506, 'shelf': 3507, 'et': 3508, 'grinch': 3509, 'breed': 3510, 'pearl': 3511, 'simplist': 3512, 'aggress': 3513, 'april': 3514, 'alfr': 3515, 'casual': 3516, 'museum': 3517, 'arab': 3518, 'countrysid': 3519, 'hideou': 3520, 'myer': 3521, 'disjoint': 3522, 'trademark': 3523, 'talki': 3524, 'invas': 3525, 'shirley': 3526, 'z': 3527, 'alert': 3528, 'domino': 3529, 'streep': 3530, 'garbo': 3531, 'senseless': 3532, 'disgrac': 3533, 'mail': 3534, 'stack': 3535, 'rendit': 3536, 'sh': 3537, 'acid': 3538, 'mayor': 3539, 'defens': 3540, 'applaud': 3541, 'unhappi': 3542, 'hopeless': 3543, 'obtain': 3544, 'robinson': 3545, 'maci': 3546, 'experiment': 3547, 'vanish': 3548, 'hardcor': 3549, 'illeg': 3550, 'uwe': 3551, 'loyal': 3552, 'stir': 3553, 'khan': 3554, 'stellar': 3555, 'slide': 3556, 'boom': 3557, 'oz': 3558, 'robberi': 3559, 'diana': 3560, 'soccer': 3561, 'scroog': 3562, 'amanda': 3563, 'counter': 3564, 'dismiss': 3565, 'spider': 3566, 'berlin': 3567, 'recruit': 3568, 'rifl': 3569, 'emphasi': 3570, 'span': 3571, 'hartley': 3572, 'topless': 3573, 'dicken': 3574, 'tenant': 3575, 'blew': 3576, 'tempt': 3577, 'craze': 3578, 'declin': 3579, 'psychic': 3580, 'incomprehens': 3581, 'grandfath': 3582, 'fri': 3583, 'wont': 3584, 'intim': 3585, 'goer': 3586, 'justin': 3587, 'ration': 3588, 'porno': 3589, 'revolt': 3590, 'woo': 3591, 'ethnic': 3592, 'faster': 3593, 'parad': 3594, 'sympath': 3595, 'trashi': 3596, 'wet': 3597, 'resurrect': 3598, 'riot': 3599, 'bitch': 3600, 'niro': 3601, 'sibl': 3602, 'shaw': 3603, 'shed': 3604, 'lumet': 3605, 'wheel': 3606, 'steam': 3607, 'eager': 3608, 'nephew': 3609, 'enlighten': 3610, 'jonathan': 3611, 'ensur': 3612, 'unreal': 3613, 'biographi': 3614, 'slick': 3615, 'commend': 3616, '00': 3617, 'immort': 3618, 'patriot': 3619, 'weakest': 3620, 'hopper': 3621, 'andr': 3622, 'farmer': 3623, 'feminist': 3624, 'region': 3625, 'hesit': 3626, 'rider': 3627, 'partial': 3628, 'honesti': 3629, 'ballet': 3630, 'gap': 3631, 'wendi': 3632, 'dealer': 3633, 'choru': 3634, 'lena': 3635, 'mario': 3636, 'worm': 3637, 'hung': 3638, 'kingdom': 3639, 'sandra': 3640, 'composit': 3641, 'similarli': 3642, 'leo': 3643, 'snap': 3644, 'mutant': 3645, 'psychopath': 3646, 'vice': 3647, 'prequel': 3648, 'repress': 3649, 'safeti': 3650, 'owen': 3651, 'confin': 3652, 'sappi': 3653, 'nostalg': 3654, 'skull': 3655, 'victori': 3656, 'wore': 3657, 'charlott': 3658, 'util': 3659, 'properti': 3660, 'morri': 3661, 'franco': 3662, 'blunt': 3663, 'macarthur': 3664, 'tail': 3665, 'pattern': 3666, 'dust': 3667, 'compass': 3668, 'snl': 3669, 'rope': 3670, 'recycl': 3671, 'bow': 3672, 'bergman': 3673, 'bumbl': 3674, 'compens': 3675, 'miseri': 3676, 'latin': 3677, 'del': 3678, 'rocki': 3679, 'campbel': 3680, 'exit': 3681, 'heartbreak': 3682, 'emperor': 3683, 'drum': 3684, 'drain': 3685, 'bonu': 3686, 'rambl': 3687, 'despair': 3688, 'kyle': 3689, 'deed': 3690, 'repli': 3691, 'thru': 3692, 'hyde': 3693, 'tad': 3694, 'valuabl': 3695, 'farrel': 3696, 'acquir': 3697, 'dalton': 3698, 'whoopi': 3699, '1972': 3700, 'montana': 3701, 'strand': 3702, 'speci': 3703, 'cg': 3704, 'nervou': 3705, 'gal': 3706, 'wacki': 3707, 'orson': 3708, 'rotten': 3709, 'percept': 3710, 'airport': 3711, 'mistress': 3712, 'gimmick': 3713, 'rapist': 3714, 'downhil': 3715, 'contempl': 3716, 'da': 3717, 'romp': 3718, 'oppress': 3719, 'carradin': 3720, 'tonight': 3721, 'pour': 3722, 'radic': 3723, '35': 3724, 'bleed': 3725, 'roth': 3726, 'slug': 3727, 'martian': 3728, 'olli': 3729, 'chess': 3730, 'shelley': 3731, 'tooth': 3732, 'melodi': 3733, 'tackl': 3734, '1983': 3735, 'dazzl': 3736, 'edgar': 3737, 'mislead': 3738, 'banal': 3739, 'arguabl': 3740, 'heal': 3741, 'programm': 3742, 'preach': 3743, 'pervers': 3744, 'paltrow': 3745, 'arc': 3746, 'stilt': 3747, 'taught': 3748, 'unpredict': 3749, 'slash': 3750, 'belt': 3751, 'pursuit': 3752, 'pervert': 3753, 'attorney': 3754, 'champion': 3755, 'virginia': 3756, 'passeng': 3757, 'orang': 3758, 'conneri': 3759, 'duval': 3760, 'marti': 3761, 'poem': 3762, 'sensat': 3763, 'maid': 3764, 'mesmer': 3765, 'bela': 3766, 'closest': 3767, 'raymond': 3768, 'vocal': 3769, 'chicken': 3770, 'gambl': 3771, 'plight': 3772, 'cleverli': 3773, 'tiresom': 3774, 'employe': 3775, 'dixon': 3776, 'uplift': 3777, 'franki': 3778, 'vengeanc': 3779, 'graham': 3780, 'rubi': 3781, 'gerard': 3782, 'sirk': 3783, 'convincingli': 3784, 'scottish': 3785, 'climact': 3786, 'abraham': 3787, '1968': 3788, 'engross': 3789, 'crystal': 3790, 'iran': 3791, 'mute': 3792, 'suffic': 3793, 'volum': 3794, 'outing': 3795, 'extens': 3796, 'paranoia': 3797, 'clone': 3798, 'inject': 3799, 'lundgren': 3800, 'swallow': 3801, 'numb': 3802, 'amitabh': 3803, 'habit': 3804, 'yawn': 3805, 'tube': 3806, 'quarter': 3807, 'whine': 3808, 'calm': 3809, 'secretli': 3810, 'pokemon': 3811, 'bay': 3812, 'profan': 3813, 'giggl': 3814, 'monologu': 3815, 'grotesqu': 3816, 'backward': 3817, 'plod': 3818, 'abort': 3819, 'chicago': 3820, 'nichola': 3821, 'septemb': 3822, 'expand': 3823, 'linger': 3824, 'trend': 3825, 'im': 3826, 'surpass': 3827, 'meander': 3828, 'dispos': 3829, 'ethan': 3830, 'profess': 3831, 'spock': 3832, 'austen': 3833, 'bend': 3834, 'fed': 3835, 'richardson': 3836, 'poetri': 3837, 'frankenstein': 3838, 'franci': 3839, 'lowest': 3840, 'taxi': 3841, 'underst': 3842, 'earl': 3843, 'junior': 3844, 'muddl': 3845, 'sue': 3846, 'stallon': 3847, 'dysfunct': 3848, 'lure': 3849, 'nostalgia': 3850, 'der': 3851, 'literatur': 3852, 'rubber': 3853, 'compliment': 3854, 'econom': 3855, 'mundan': 3856, 'cannon': 3857, 'instrument': 3858, 'hum': 3859, 'tourist': 3860, 'simplic': 3861, 'descent': 3862, 'household': 3863, 'spoke': 3864, 'catchi': 3865, 'myth': 3866, 'eugen': 3867, 'greedi': 3868, 'rant': 3869, 'waitress': 3870, 'equival': 3871, 'bacal': 3872, 'cent': 3873, 'phantom': 3874, 'recognit': 3875, 'carel': 3876, 'phoni': 3877, 'lang': 3878, 'hello': 3879, 'recognis': 3880, 'mortal': 3881, 'coast': 3882, 'molli': 3883, 'damon': 3884, 'firstli': 3885, 'occupi': 3886, 'duck': 3887, 'flee': 3888, 'omen': 3889, 'louis': 3890, 'randi': 3891, 'crucial': 3892, 'map': 3893, 'dictat': 3894, 'alongsid': 3895, 'sissi': 3896, 'mankind': 3897, 'june': 3898, 'insur': 3899, 'stale': 3900, 'dement': 3901, 'eaten': 3902, 'furi': 3903, 'irrelev': 3904, 'deaf': 3905, 'heel': 3906, 'blackmail': 3907, 'labor': 3908, 'onlin': 3909, 'newli': 3910, 'dreari': 3911, 'rude': 3912, 'twilight': 3913, 'loyalti': 3914, 'distinguish': 3915, 'ashley': 3916, 'rooney': 3917, 'bike': 3918, 'cyborg': 3919, 'reign': 3920, 'daisi': 3921, 'grayson': 3922, 'drake': 3923, 'likewis': 3924, 'biko': 3925, 'buffalo': 3926, 'lengthi': 3927, 'freez': 3928, 'wisdom': 3929, 'damm': 3930, '1973': 3931, 'bump': 3932, 'antwon': 3933, 'emphas': 3934, 'provoc': 3935, 'ridden': 3936, 'inher': 3937, 'unorigin': 3938, 'nineti': 3939, 'proce': 3940, 'exposur': 3941, 'analysi': 3942, 'worn': 3943, 'chronicl': 3944, 'tunnel': 3945, 'incorpor': 3946, 'interior': 3947, 'vein': 3948, 'approv': 3949, 'keith': 3950, 'startl': 3951, 'pink': 3952, 'prey': 3953, 'attribut': 3954, 'boxer': 3955, 'basketbal': 3956, 'sailor': 3957, 'butler': 3958, 'baddi': 3959, 'barrymor': 3960, 'unrel': 3961, 'undeni': 3962, 'meg': 3963, 'belushi': 3964, 'meyer': 3965, 'othello': 3966, 'er': 3967, 'underli': 3968, 'improvis': 3969, 'fleet': 3970, 'substitut': 3971, 'indiffer': 3972, 'barrel': 3973, 'mighti': 3974, 'hypnot': 3975, 'degrad': 3976, 'drift': 3977, 'nicol': 3978, 'bunni': 3979, 'predat': 3980, 'elm': 3981, 'robbin': 3982, 'walsh': 3983, 'condemn': 3984, 'stalker': 3985, 'julian': 3986, 'mormon': 3987, 'millionair': 3988, 'simmon': 3989, 'carla': 3990, 'exquisit': 3991, 'lampoon': 3992, 'hay': 3993, 'greed': 3994, 'enthusiasm': 3995, 'disord': 3996, 'agenda': 3997, 'dolph': 3998, 'priceless': 3999, 'vital': 4000, 'edgi': 4001, 'alarm': 4002, 'roof': 4003, 'firm': 4004, 'shove': 4005, 'mtv': 4006, 'unawar': 4007, 'rukh': 4008, 'marion': 4009, '3d': 4010, 'alison': 4011, 'watson': 4012, 'errol': 4013, 'novak': 4014, 'nyc': 4015, 'reid': 4016, 'warmth': 4017, 'palac': 4018, 'pamela': 4019, 'thompson': 4020, 'drip': 4021, 'eastern': 4022, 'gestur': 4023, 'showdown': 4024, 'randomli': 4025, 'unleash': 4026, 'spain': 4027, 'profit': 4028, 'ponder': 4029, 'preserv': 4030, 'distort': 4031, 'nun': 4032, 'orlean': 4033, 'israel': 4034, 'cassidi': 4035, 'valentin': 4036, 'petti': 4037, 'peck': 4038, 'championship': 4039, 'sergeant': 4040, 'glanc': 4041, 'campaign': 4042, 'simultan': 4043, 'iraq': 4044, 'session': 4045, 'coup': 4046, 'crown': 4047, 'peril': 4048, 'what': 4049, '1933': 4050, 'angela': 4051, 'minimum': 4052, 'zizek': 4053, '13th': 4054, 'beatl': 4055, 'testament': 4056, 'jan': 4057, 'wig': 4058, 'realm': 4059, 'cream': 4060, 'quinn': 4061, 'climat': 4062, 'regist': 4063, 'miyazaki': 4064, 'perpetu': 4065, 'travesti': 4066, 'unimagin': 4067, 'empathi': 4068, 'rout': 4069, 'cooki': 4070, 'represent': 4071, 'brenda': 4072, 'exposit': 4073, 'reson': 4074, 'shootout': 4075, 'calib': 4076, 'restrain': 4077, 'stake': 4078, 'contradict': 4079, 'mon': 4080, 'scotland': 4081, 'kurosawa': 4082, 'han': 4083, 'gentleman': 4084, 'sabrina': 4085, 'stroke': 4086, '1984': 4087, 'crawl': 4088, 'valley': 4089, 'buster': 4090, 'crow': 4091, 'din': 4092, 'fido': 4093, 'bro': 4094, 'josh': 4095, 'derang': 4096, 'abomin': 4097, 'spacey': 4098, '1997': 4099, 'cloud': 4100, 'warrant': 4101, 'shaki': 4102, '1987': 4103, 'traumat': 4104, 'delic': 4105, 'absent': 4106, 'distress': 4107, 'compromis': 4108, 'baldwin': 4109, 'monoton': 4110, 'passabl': 4111, 'femm': 4112, 'sucker': 4113, 'demis': 4114, 'shoddi': 4115, 'businessman': 4116, 'unsatisfi': 4117, 'pretens': 4118, 'ross': 4119, 'greg': 4120, 'unseen': 4121, 'crawford': 4122, 'painter': 4123, 'tacki': 4124, 'ustinov': 4125, 'dana': 4126, 'geek': 4127, 'meryl': 4128, 'perceiv': 4129, 'darren': 4130, 'censor': 4131, 'pole': 4132, 'wax': 4133, 'soderbergh': 4134, 'stargat': 4135, 'sammi': 4136, 'mclaglen': 4137, 'fuller': 4138, 'clash': 4139, 'dee': 4140, 'furiou': 4141, 'judgment': 4142, 'seal': 4143, 'primit': 4144, 'deniro': 4145, 'norm': 4146, 'tarantino': 4147, 'valid': 4148, 'verbal': 4149, 'wholli': 4150, 'antonioni': 4151, 'reluct': 4152, 'deceas': 4153, '1993': 4154, 'uncov': 4155, 'fog': 4156, 'nathan': 4157, 'austin': 4158, 'jewel': 4159, 'polici': 4160, 'kumar': 4161, 'unravel': 4162, 'accuraci': 4163, 'expedit': 4164, 'anchor': 4165, 'exclus': 4166, 'tech': 4167, 'click': 4168, 'sid': 4169, 'fenc': 4170, 'correctli': 4171, 'temper': 4172, 'bake': 4173, 'malon': 4174, 'alec': 4175, '2008': 4176, 'ritual': 4177, 'sand': 4178, 'tax': 4179, 'sustain': 4180, 'behold': 4181, 'enforc': 4182, 'hallucin': 4183, 'dreck': 4184, 'roller': 4185, 'darn': 4186, 'clerk': 4187, 'crippl': 4188, 'wretch': 4189, 'fart': 4190, 'fought': 4191, '1995': 4192, 'pocket': 4193, 'slam': 4194, 'shanghai': 4195, 'sheet': 4196, 'mode': 4197, 'debt': 4198, 'seldom': 4199, 'trait': 4200, 'joel': 4201, 'conduct': 4202, 'patienc': 4203, 'sunni': 4204, 'logan': 4205, 'fabric': 4206, '3000': 4207, '1971': 4208, 'unfair': 4209, 'nicola': 4210, 'vanc': 4211, 'murray': 4212, 'wang': 4213, 'critiqu': 4214, 'technicolor': 4215, 'preposter': 4216, 'tactic': 4217, 'runner': 4218, 'shell': 4219, 'bridget': 4220, 'squad': 4221, 'schedul': 4222, 'sweep': 4223, 'stuart': 4224, 'grief': 4225, 'divid': 4226, 'canyon': 4227, 'rita': 4228, 'fundament': 4229, 'helpless': 4230, 'robber': 4231, 'preston': 4232, 'legaci': 4233, 'phil': 4234, 'isabel': 4235, 'stark': 4236, 'despis': 4237, 'penni': 4238, 'soup': 4239, 'clau': 4240, 'bias': 4241, 'conscious': 4242, 'exhaust': 4243, 'pete': 4244, 'guitar': 4245, 'scriptwrit': 4246, 'outlin': 4247, 'newman': 4248, 'implic': 4249, 'vomit': 4250, 'sniper': 4251, 'flair': 4252, 'delv': 4253, 'passag': 4254, 'sugar': 4255, 'liberti': 4256, 'propos': 4257, 'downey': 4258, 'culmin': 4259, 'bloom': 4260, 'consciou': 4261, 'inabl': 4262, 'jacket': 4263, 'agenc': 4264, 'alley': 4265, 'rehash': 4266, 'jodi': 4267, 'invad': 4268, 'drove': 4269, 'gregori': 4270, 'rear': 4271, 'unexpectedli': 4272, 'russia': 4273, 'lacklust': 4274, 'restrict': 4275, 'palanc': 4276, 'marc': 4277, 'alicia': 4278, 'boyl': 4279, 'kansa': 4280, 'connor': 4281, 'cigarett': 4282, 'sentinel': 4283, 'pale': 4284, 'cap': 4285, 'arrow': 4286, 'rehears': 4287, 'tendenc': 4288, '1936': 4289, 'behaviour': 4290, 'wrench': 4291, 'awhil': 4292, 'delet': 4293, 'rampag': 4294, 'asylum': 4295, 'ladder': 4296, 'improb': 4297, 'vet': 4298, 'bacon': 4299, 'feat': 4300, 'aesthet': 4301, 'karl': 4302, 'lush': 4303, 'chainsaw': 4304, 'yeti': 4305, 'sharon': 4306, 'rod': 4307, '22': 4308, 'horn': 4309, 'tripe': 4310, 'mccoy': 4311, 'kolchak': 4312, 'foxx': 4313, 'spice': 4314, 'paramount': 4315, 'fright': 4316, 'coaster': 4317, 'filler': 4318, 'hackney': 4319, '1978': 4320, 'conscienc': 4321, 'loneli': 4322, 'rumor': 4323, '1988': 4324, 'financ': 4325, 'el': 4326, 'lurk': 4327, '1920': 4328, 'rhythm': 4329, 'hungri': 4330, '19th': 4331, 'weav': 4332, 'sung': 4333, 'paradis': 4334, 'scoop': 4335, 'tasteless': 4336, 'suffici': 4337, 'aristocrat': 4338, 'elit': 4339, 'shortcom': 4340, 'wildli': 4341, 'basing': 4342, 'stream': 4343, 'globe': 4344, 'suspicion': 4345, 'tomorrow': 4346, 'minu': 4347, 'amazon': 4348, 'prank': 4349, 'newcom': 4350, 'visitor': 4351, 'underneath': 4352, 'wagner': 4353, 'hulk': 4354, 'thunderbird': 4355, 'ingeni': 4356, 'quietli': 4357, 'impos': 4358, 'cancer': 4359, 'literari': 4360, 'counterpart': 4361, 'atroc': 4362, 'penn': 4363, 'curli': 4364, '75': 4365, 'rub': 4366, 'hopkin': 4367, 'entranc': 4368, 'dirt': 4369, 'secondari': 4370, 'brit': 4371, 'naughti': 4372, 'couch': 4373, 'ram': 4374, 'leigh': 4375, 'en': 4376, 'recogniz': 4377, 'inmat': 4378, 'lectur': 4379, 'choppi': 4380, 'immers': 4381, 'springer': 4382, 'smell': 4383, 'abrupt': 4384, 'iv': 4385, 'posey': 4386, 'bread': 4387, 'grudg': 4388, 'paxton': 4389, 'chavez': 4390, 'teas': 4391, 'standout': 4392, 'straightforward': 4393, 'beverli': 4394, 'minist': 4395, '1989': 4396, '1939': 4397, 'worship': 4398, 'chamberlain': 4399, 'tierney': 4400, 'heist': 4401, 'wwe': 4402, 'sublim': 4403, 'misguid': 4404, 'ace': 4405, 'convert': 4406, 'variat': 4407, 'clan': 4408, 'missil': 4409, 'entitl': 4410, 'net': 4411, 'policeman': 4412, 'skeptic': 4413, '1986': 4414, 'laurenc': 4415, 'esther': 4416, 'nolan': 4417, 'yearn': 4418, 'quaid': 4419, 'lindsay': 4420, 'heartfelt': 4421, 'sassi': 4422, 'morbid': 4423, 'enthral': 4424, 'moreov': 4425, 'bernard': 4426, 'transcend': 4427, 'nemesi': 4428, 'attenborough': 4429, 'watcher': 4430, 'cattl': 4431, 'duel': 4432, 'ratso': 4433, 'geni': 4434, 'injuri': 4435, 'uncut': 4436, 'bean': 4437, 'artsi': 4438, 'moder': 4439, 'hk': 4440, 'hopelessli': 4441, '1979': 4442, 'characteris': 4443, 'poe': 4444, 'grin': 4445, 'youngest': 4446, 'dont': 4447, 'out': 4448, 'egg': 4449, 'spiral': 4450, 'rosemari': 4451, 'reliabl': 4452, 'obstacl': 4453, 'tyler': 4454, 'steadi': 4455, 'kidman': 4456, 'brood': 4457, 'vader': 4458, 'kitti': 4459, 'bye': 4460, 'facil': 4461, 'graini': 4462, 'enabl': 4463, 'buzz': 4464, 'cruelti': 4465, 'diari': 4466, 'puppi': 4467, 'mytholog': 4468, 'setup': 4469, 'unexplain': 4470, 'carlito': 4471, 'heap': 4472, 'hammi': 4473, 'niec': 4474, 'oblig': 4475, 'weather': 4476, 'bronson': 4477, 'sweat': 4478, 'christin': 4479, 'exterior': 4480, 'spontan': 4481, 'baffl': 4482, 'disastr': 4483, 'kline': 4484, 'athlet': 4485, 'gina': 4486, 'gillian': 4487, 'clueless': 4488, 'decept': 4489, 'narrow': 4490, 'bounc': 4491, 'despic': 4492, 'patricia': 4493, '1969': 4494, 'bewar': 4495, 'fuel': 4496, 'martha': 4497, 'preming': 4498, 'effici': 4499, 'acquaint': 4500, 'brendan': 4501, 'hain': 4502, 'underworld': 4503, 'preachi': 4504, 'taboo': 4505, 'uh': 4506, 'trigger': 4507, 'viewpoint': 4508, 'angst': 4509, 'scar': 4510, 'dilemma': 4511, 'goof': 4512, 'loath': 4513, 'headach': 4514, 'virtu': 4515, 'rome': 4516, 'suprem': 4517, 'sleepwalk': 4518, 'analyz': 4519, 'tick': 4520, 'outlaw': 4521, 'sooner': 4522, 'mermaid': 4523, 'housewif': 4524, '19': 4525, 'lester': 4526, 'loi': 4527, 'insipid': 4528, 'shatter': 4529, 'harmless': 4530, 'enlist': 4531, 'hepburn': 4532, 'astound': 4533, 'candl': 4534, 'circu': 4535, '73': 4536, 'fontain': 4537, 'injur': 4538, 'mayhem': 4539, 'biker': 4540, 'dandi': 4541, 'renaiss': 4542, 'surgeri': 4543, 'immatur': 4544, 'guin': 4545, 'amor': 4546, 'phenomenon': 4547, 'dish': 4548, 'intric': 4549, 'stair': 4550, 'ebert': 4551, 'oldest': 4552, 'fluff': 4553, 'glorifi': 4554, 'hooker': 4555, 'tripl': 4556, 'filth': 4557, 'cassavet': 4558, 'hostag': 4559, 'slimi': 4560, 'salt': 4561, 'stimul': 4562, 'macho': 4563, 'hokey': 4564, 'idol': 4565, 'zoom': 4566, 'redund': 4567, 'whore': 4568, 'foolish': 4569, 'steer': 4570, 'gere': 4571, 'contempt': 4572, 'boston': 4573, 'claustrophob': 4574, 'overlong': 4575, 'dismal': 4576, 'scorses': 4577, 'sox': 4578, 'corbett': 4579, 'spade': 4580, 'bent': 4581, 'ariel': 4582, 'camcord': 4583, 'transplant': 4584, 'flirt': 4585, 'nolt': 4586, 'down': 4587, 'zane': 4588, 'mutual': 4589, 'cow': 4590, 'harold': 4591, 'assert': 4592, 'antagonist': 4593, 'rhyme': 4594, 'schlock': 4595, 'spree': 4596, 'corman': 4597, 'strongest': 4598, '1981': 4599, 'margin': 4600, 'dwarf': 4601, 'beard': 4602, 'frantic': 4603, 'perman': 4604, 'cohen': 4605, 'proport': 4606, 'muscl': 4607, 'keen': 4608, 'shred': 4609, 'trivia': 4610, 'fascist': 4611, 'gasp': 4612, 'messi': 4613, 'gabl': 4614, 'shield': 4615, 'flashi': 4616, 'conquer': 4617, 'flag': 4618, 'faint': 4619, '1976': 4620, 'mount': 4621, 'astronaut': 4622, 'preced': 4623, 'obligatori': 4624, 'naschi': 4625, 'joker': 4626, 'radiat': 4627, 'remad': 4628, 'widescreen': 4629, 'spinal': 4630, 'cush': 4631, 'alvin': 4632, 'danish': 4633, 'www': 4634, 'carey': 4635, 'boob': 4636, '28': 4637, 'departur': 4638, 'brush': 4639, 'interestingli': 4640, 'fishburn': 4641, 'inflict': 4642, 'discern': 4643, 'aborigin': 4644, 'divin': 4645, 'instruct': 4646, 'deer': 4647, 'info': 4648, 'persuad': 4649, 'archiv': 4650, 'someday': 4651, 'vaniti': 4652, 'ritchi': 4653, 'barn': 4654, 'mol': 4655, 'bitten': 4656, 'neurot': 4657, 'scandal': 4658, 'off': 4659, 'resum': 4660, 'mobil': 4661, '95': 4662, 'sensual': 4663, 'strive': 4664, 'claud': 4665, 'bachelor': 4666, '1945': 4667, 'flock': 4668, 'hara': 4669, 'repris': 4670, 'raj': 4671, 'triangl': 4672, 'wield': 4673, 'harrison': 4674, 'frontier': 4675, 'pickford': 4676, 'biblic': 4677, 'timberlak': 4678, 'cliffhang': 4679, 'hilar': 4680, 'ish': 4681, 'casino': 4682, 'mobster': 4683, 'earnest': 4684, 'kathryn': 4685, 'prophet': 4686, 'artwork': 4687, 'vibrant': 4688, 'dame': 4689, 'heartwarm': 4690, 'dylan': 4691, 'banter': 4692, 'fragil': 4693, 'hug': 4694, 'undermin': 4695, 'europa': 4696, 'traffic': 4697, 'bate': 4698, 'rot': 4699, 'pixar': 4700, 'cb': 4701, 'luka': 4702, 'pacif': 4703, 'dim': 4704, 'cycl': 4705, 'recit': 4706, 'cher': 4707, 'colin': 4708, 'axe': 4709, 'submit': 4710, 'helm': 4711, 'neill': 4712, 'loretta': 4713, 'clad': 4714, 'hapless': 4715, 'proclaim': 4716, 'melissa': 4717, 'carlo': 4718, 'miracul': 4719, 'senior': 4720, 'jade': 4721, 'anton': 4722, 'wendigo': 4723, 'parson': 4724, 'holocaust': 4725, 'rooki': 4726, 'sicken': 4727, 'alexandr': 4728, 'toronto': 4729, 'bikini': 4730, 'token': 4731, 'mathieu': 4732, 'orphan': 4733, 'wardrob': 4734, 'aris': 4735, 'razor': 4736, 'flavor': 4737, 'shepherd': 4738, 'cerebr': 4739, 'blatantli': 4740, 'nope': 4741, 'akin': 4742, 'vanessa': 4743, 'marlon': 4744, 'illus': 4745, 'articl': 4746, 'legitim': 4747, 'vile': 4748, 'static': 4749, 'estrang': 4750, 'choke': 4751, 'northern': 4752, 'bondag': 4753, 'redneck': 4754, 'eli': 4755, 'antholog': 4756, 'milo': 4757, 'venom': 4758, 'lui': 4759, 'seedi': 4760, 'lucil': 4761, 'jordan': 4762, 'http': 4763, 'misfortun': 4764, 'pc': 4765, 'uma': 4766, 'mason': 4767, 'feast': 4768, 'foil': 4769, 'breakfast': 4770, 'trier': 4771, 'electron': 4772, 'isra': 4773, 'winchest': 4774, 'jo': 4775, 'turd': 4776, 'ceremoni': 4777, 'linear': 4778, 'cartoonish': 4779, 'smack': 4780, 'glare': 4781, 'oppon': 4782, 'wrestler': 4783, 'charlton': 4784, 'boyer': 4785, 'tack': 4786, 'howl': 4787, 'leather': 4788, 'feminin': 4789, 'clinic': 4790, 'gilbert': 4791, 'styliz': 4792, 'knightley': 4793, 'peer': 4794, 'retriev': 4795, 'disregard': 4796, 'affleck': 4797, 'comprehend': 4798, 'audrey': 4799, 'deem': 4800, 'frog': 4801, 'huston': 4802, 'outdat': 4803, 'swept': 4804, 'magician': 4805, 'fifth': 4806, 'abund': 4807, 'dudley': 4808, 'highway': 4809, 'ideolog': 4810, 'psych': 4811, 'gunga': 4812, 'shorter': 4813, 'nightclub': 4814, 'toe': 4815, 'plate': 4816, 'greet': 4817, 'durat': 4818, 'phenomen': 4819, 'compris': 4820, 'evolut': 4821, 'lifeless': 4822, '4th': 4823, 'conrad': 4824, 'tara': 4825, 'bogu': 4826, 'bastard': 4827, 'lighter': 4828, 'cemeteri': 4829, 'moe': 4830, 'summar': 4831, '1991': 4832, 'chip': 4833, 'uniformli': 4834, 'senat': 4835, 'boo': 4836, 'breakdown': 4837, '1994': 4838, 'salman': 4839, 'snatch': 4840, 'newer': 4841, 'sleaz': 4842, 'cuban': 4843, 'collector': 4844, 'whack': 4845, 'client': 4846, 'spawn': 4847, 'deliver': 4848, 'einstein': 4849, 'spine': 4850, 'lavish': 4851, 'braveheart': 4852, 'energet': 4853, 'corn': 4854, 'goldsworthi': 4855, 'potter': 4856, 'mitch': 4857, 'monument': 4858, 'btw': 4859, 'cecil': 4860, 'eleven': 4861, 'capot': 4862, 'gilliam': 4863, 'embark': 4864, 'trauma': 4865, 'spectacl': 4866, 'alleg': 4867, 'ie': 4868, 'clara': 4869, 'belli': 4870, 'kazan': 4871, 'lex': 4872, 'mcqueen': 4873, 'judd': 4874, 'ol': 4875, '1977': 4876, 'firmli': 4877, 'liu': 4878, 'occup': 4879, 'neatli': 4880, 'pronounc': 4881, 'bulk': 4882, 'jare': 4883, 'outright': 4884, 'constitut': 4885, 'kent': 4886, 'jule': 4887, 'historian': 4888, 'nina': 4889, 'creek': 4890, 'bori': 4891, 'appl': 4892, 'undertak': 4893, 'healthi': 4894, 'randolph': 4895, '1974': 4896, 'luxuri': 4897, 'replay': 4898, 'signal': 4899, 'inaccuraci': 4900, 'wtf': 4901, 'jam': 4902, 'jedi': 4903, 'undead': 4904, 'evelyn': 4905, 'sorrow': 4906, 'armstrong': 4907, 'fluid': 4908, 'vignett': 4909, 'lauren': 4910, 'poker': 4911, 'unsuspect': 4912, 'spray': 4913, 'conan': 4914, 'truman': 4915, 'bsg': 4916, 'blur': 4917, 'propheci': 4918, 'genet': 4919, 'fruit': 4920, 'goldblum': 4921, 'comprehens': 4922, 'bait': 4923, 'groan': 4924, 'aussi': 4925, 'mum': 4926, 'inclus': 4927, 'unattract': 4928, 'subtli': 4929, 'id': 4930, 'porter': 4931, 'galaxi': 4932, 'cape': 4933, 'abound': 4934, 'sacrif': 4935, 'paula': 4936, 'tokyo': 4937, 'vain': 4938, 'palm': 4939, 'basket': 4940, 'ash': 4941, 'knee': 4942, 'pepper': 4943, 'lanc': 4944, 'roar': 4945, 'carmen': 4946, 'relentless': 4947, 'walt': 4948, 'kiddi': 4949, 'antonio': 4950, 'miniseri': 4951, 'inaccur': 4952, 'meal': 4953, 'sidewalk': 4954, 'curtain': 4955, 'forgiven': 4956, 'pioneer': 4957, 'comb': 4958, 'decapit': 4959, 'rosario': 4960, '1985': 4961, 'congratul': 4962, 'miami': 4963, 'drone': 4964, 'macabr': 4965, 'scariest': 4966, 'vastli': 4967, 'asset': 4968, 'frontal': 4969, 'hostil': 4970, 'optimist': 4971, 'orchestr': 4972, 'omin': 4973, 'ingrid': 4974, 'weari': 4975, 'masterson': 4976, 'monti': 4977, 'hackman': 4978, 'rapidli': 4979, 'modest': 4980, 'mice': 4981, 'ghetto': 4982, 'sparkl': 4983, 'weaker': 4984, 'sophi': 4985, 'substanti': 4986, 'playboy': 4987, 'profil': 4988, 'assort': 4989, 'bravo': 4990, 'growth': 4991, 'victorian': 4992, 'epitom': 4993, 'dubiou': 4994, 'reincarn': 4995, 'turtl': 4996, 'verg': 4997, 'incorrect': 4998, 'motorcycl': 4999}\n"
     ]
    }
   ],
   "source": [
    "print(word_dict)"
   ]
  },
  {
   "cell_type": "markdown",
   "metadata": {},
   "source": [
    "**Question:** What are the five most frequently appearing (tokenized) words in the training set? Does it makes sense that these words appear frequently in the training set?"
   ]
  },
  {
   "cell_type": "markdown",
   "metadata": {},
   "source": [
    "**Answer:**\n",
    "\n",
    "The five most frequently occuring words in the training set are: movi, film, one, like, time.\n",
    "\n",
    "Yes, it makes sense that these words appear most frequently in the training set."
   ]
  },
  {
   "cell_type": "code",
   "execution_count": 17,
   "metadata": {},
   "outputs": [
    {
     "name": "stdout",
     "output_type": "stream",
     "text": [
      "movi 2\n",
      "film 3\n",
      "one 4\n",
      "like 5\n",
      "time 6\n"
     ]
    }
   ],
   "source": [
    "# TODO: Use this space to determine the five most frequently appearing words in the training set.\n",
    "\n",
    "for w in (sorted(word_dict, key=word_dict.get)[:5]):\n",
    "    print(w, word_dict[w])"
   ]
  },
  {
   "cell_type": "markdown",
   "metadata": {},
   "source": [
    "### Save `word_dict`\n",
    "\n",
    "Later on when we construct an endpoint which processes a submitted review we will need to make use of the `word_dict` which we have created. As such, we will save it to a file now for future use."
   ]
  },
  {
   "cell_type": "code",
   "execution_count": 18,
   "metadata": {},
   "outputs": [],
   "source": [
    "data_dir = '../data/pytorch' # The folder we will use for storing data\n",
    "if not os.path.exists(data_dir): # Make sure that the folder exists\n",
    "    os.makedirs(data_dir)"
   ]
  },
  {
   "cell_type": "code",
   "execution_count": 19,
   "metadata": {},
   "outputs": [],
   "source": [
    "with open(os.path.join(data_dir, 'word_dict.pkl'), \"wb\") as f:\n",
    "    pickle.dump(word_dict, f)"
   ]
  },
  {
   "cell_type": "markdown",
   "metadata": {},
   "source": [
    "### Transform the reviews\n",
    "\n",
    "Now that we have our word dictionary which allows us to transform the words appearing in the reviews into integers, it is time to make use of it and convert our reviews to their integer sequence representation, making sure to pad or truncate to a fixed length, which in our case is `500`."
   ]
  },
  {
   "cell_type": "code",
   "execution_count": 20,
   "metadata": {},
   "outputs": [],
   "source": [
    "def convert_and_pad(word_dict, sentence, pad=500):\n",
    "    NOWORD = 0 # We will use 0 to represent the 'no word' category\n",
    "    INFREQ = 1 # and we use 1 to represent the infrequent words, i.e., words not appearing in word_dict\n",
    "    \n",
    "    working_sentence = [NOWORD] * pad\n",
    "    \n",
    "    for word_index, word in enumerate(sentence[:pad]):\n",
    "        if word in word_dict:\n",
    "            working_sentence[word_index] = word_dict[word]\n",
    "        else:\n",
    "            working_sentence[word_index] = INFREQ\n",
    "            \n",
    "    return working_sentence, min(len(sentence), pad)\n",
    "\n",
    "def convert_and_pad_data(word_dict, data, pad=500):\n",
    "    result = []\n",
    "    lengths = []\n",
    "    \n",
    "    for sentence in data:\n",
    "        converted, leng = convert_and_pad(word_dict, sentence, pad)\n",
    "        result.append(converted)\n",
    "        lengths.append(leng)\n",
    "        \n",
    "    return np.array(result), np.array(lengths)"
   ]
  },
  {
   "cell_type": "code",
   "execution_count": 21,
   "metadata": {},
   "outputs": [],
   "source": [
    "train_X, train_X_len = convert_and_pad_data(word_dict, train_X)\n",
    "test_X, test_X_len = convert_and_pad_data(word_dict, test_X)"
   ]
  },
  {
   "cell_type": "markdown",
   "metadata": {},
   "source": [
    "As a quick check to make sure that things are working as intended, check to see what one of the reviews in the training set looks like after having been processeed. Does this look reasonable? What is the length of a review in the training set?"
   ]
  },
  {
   "cell_type": "code",
   "execution_count": 22,
   "metadata": {},
   "outputs": [
    {
     "name": "stdout",
     "output_type": "stream",
     "text": [
      "60\n",
      "\n",
      "\n",
      "[ 300    7  180  766  546   36   58  656  186  723  819   80  180  358\n",
      "   92 3332 1287  127   62  180   21  790   22   58  723   24   15   21\n",
      "   58    1   77   70   74 2145   38  186    7    7    4   23    5  723\n",
      "  192    5    1    5 1123 4326    1    2   27  215   23   19  208   52\n",
      "  723  208  475   22    0    0    0    0    0    0    0    0    0    0\n",
      "    0    0    0    0    0    0    0    0    0    0    0    0    0    0\n",
      "    0    0    0    0    0    0    0    0    0    0    0    0    0    0\n",
      "    0    0    0    0    0    0    0    0    0    0    0    0    0    0\n",
      "    0    0    0    0    0    0    0    0    0    0    0    0    0    0\n",
      "    0    0    0    0    0    0    0    0    0    0    0    0    0    0\n",
      "    0    0    0    0    0    0    0    0    0    0    0    0    0    0\n",
      "    0    0    0    0    0    0    0    0    0    0    0    0    0    0\n",
      "    0    0    0    0    0    0    0    0    0    0    0    0    0    0\n",
      "    0    0    0    0    0    0    0    0    0    0    0    0    0    0\n",
      "    0    0    0    0    0    0    0    0    0    0    0    0    0    0\n",
      "    0    0    0    0    0    0    0    0    0    0    0    0    0    0\n",
      "    0    0    0    0    0    0    0    0    0    0    0    0    0    0\n",
      "    0    0    0    0    0    0    0    0    0    0    0    0    0    0\n",
      "    0    0    0    0    0    0    0    0    0    0    0    0    0    0\n",
      "    0    0    0    0    0    0    0    0    0    0    0    0    0    0\n",
      "    0    0    0    0    0    0    0    0    0    0    0    0    0    0\n",
      "    0    0    0    0    0    0    0    0    0    0    0    0    0    0\n",
      "    0    0    0    0    0    0    0    0    0    0    0    0    0    0\n",
      "    0    0    0    0    0    0    0    0    0    0    0    0    0    0\n",
      "    0    0    0    0    0    0    0    0    0    0    0    0    0    0\n",
      "    0    0    0    0    0    0    0    0    0    0    0    0    0    0\n",
      "    0    0    0    0    0    0    0    0    0    0    0    0    0    0\n",
      "    0    0    0    0    0    0    0    0    0    0    0    0    0    0\n",
      "    0    0    0    0    0    0    0    0    0    0    0    0    0    0\n",
      "    0    0    0    0    0    0    0    0    0    0    0    0    0    0\n",
      "    0    0    0    0    0    0    0    0    0    0    0    0    0    0\n",
      "    0    0    0    0    0    0    0    0    0    0    0    0    0    0\n",
      "    0    0    0    0    0    0    0    0    0    0    0    0    0    0\n",
      "    0    0    0    0    0    0    0    0    0    0    0    0    0    0\n",
      "    0    0    0    0    0    0    0    0    0    0    0    0    0    0\n",
      "    0    0    0    0    0    0    0    0    0    0]\n"
     ]
    }
   ],
   "source": [
    "# Use this cell to examine one of the processed reviews to make sure everything is working as intended.\n",
    "print(train_X_len[100])\n",
    "print('\\n')\n",
    "print(train_X[100])"
   ]
  },
  {
   "cell_type": "markdown",
   "metadata": {},
   "source": [
    "**Question:** In the cells above we use the `preprocess_data` and `convert_and_pad_data` methods to process both the training and testing set. Why or why not might this be a problem?"
   ]
  },
  {
   "cell_type": "markdown",
   "metadata": {},
   "source": [
    "**Answer:**\n",
    "\n",
    "After applying \"preprocess_data\" and \"convert_and_pad_data\" methods, we obtained a review with max length of 500, with the shorter reviews padded with zeros to attain a length of 500. So whatever preprocessing steps applied to the training set, those should be applied to the testing set as well to be fair. We are following a correct approach by applying the methods to both training and testing sets.\n",
    "\n",
    "\"convert_and_pad_data\" method truncates long reviews. So the data is lost over the size of 500 words. Only the first 500 words are taken into account for identifying sentiment. This helps to reduce the overhead on the deep learning network with the compromise of losing data beyond 500 words. 500 words should be a good enough size to identify the sentiment. So this is ok."
   ]
  },
  {
   "cell_type": "markdown",
   "metadata": {},
   "source": [
    "## Step 3: Upload the data to S3\n",
    "\n",
    "As in the XGBoost notebook, we will need to upload the training dataset to S3 in order for our training code to access it. For now we will save it locally and we will upload to S3 later on.\n",
    "\n",
    "### Save the processed training dataset locally\n",
    "\n",
    "It is important to note the format of the data that we are saving as we will need to know it when we write the training code. In our case, each row of the dataset has the form `label`, `length`, `review[500]` where `review[500]` is a sequence of `500` integers representing the words in the review."
   ]
  },
  {
   "cell_type": "code",
   "execution_count": 23,
   "metadata": {},
   "outputs": [],
   "source": [
    "import pandas as pd\n",
    "    \n",
    "pd.concat([pd.DataFrame(train_y), pd.DataFrame(train_X_len), pd.DataFrame(train_X)], axis=1) \\\n",
    "        .to_csv(os.path.join(data_dir, 'train.csv'), header=False, index=False)"
   ]
  },
  {
   "cell_type": "markdown",
   "metadata": {},
   "source": [
    "### Uploading the training data\n",
    "\n",
    "\n",
    "Next, we need to upload the training data to the SageMaker default S3 bucket so that we can provide access to it while training our model."
   ]
  },
  {
   "cell_type": "code",
   "execution_count": 24,
   "metadata": {},
   "outputs": [
    {
     "name": "stderr",
     "output_type": "stream",
     "text": [
      "INFO:sagemaker:Created S3 bucket: sagemaker-us-west-2-008577821560\n"
     ]
    }
   ],
   "source": [
    "import sagemaker\n",
    "\n",
    "sagemaker_session = sagemaker.Session()\n",
    "\n",
    "bucket = sagemaker_session.default_bucket()\n",
    "prefix = 'sagemaker/sentiment_rnn'\n",
    "\n",
    "role = sagemaker.get_execution_role()"
   ]
  },
  {
   "cell_type": "code",
   "execution_count": 25,
   "metadata": {},
   "outputs": [],
   "source": [
    "input_data = sagemaker_session.upload_data(path=data_dir, bucket=bucket, key_prefix=prefix)"
   ]
  },
  {
   "cell_type": "markdown",
   "metadata": {},
   "source": [
    "**NOTE:** The cell above uploads the entire contents of our data directory. This includes the `word_dict.pkl` file. This is fortunate as we will need this later on when we create an endpoint that accepts an arbitrary review. For now, we will just take note of the fact that it resides in the data directory (and so also in the S3 training bucket) and that we will need to make sure it gets saved in the model directory."
   ]
  },
  {
   "cell_type": "markdown",
   "metadata": {},
   "source": [
    "## Step 4: Build and Train the PyTorch Model\n",
    "\n",
    "In the XGBoost notebook we discussed what a model is in the SageMaker framework. In particular, a model comprises three objects\n",
    "\n",
    " - Model Artifacts,\n",
    " - Training Code, and\n",
    " - Inference Code,\n",
    " \n",
    "each of which interact with one another. In the XGBoost example we used training and inference code that was provided by Amazon. Here we will still be using containers provided by Amazon with the added benefit of being able to include our own custom code.\n",
    "\n",
    "We will start by implementing our own neural network in PyTorch along with a training script. For the purposes of this project we have provided the necessary model object in the `model.py` file, inside of the `train` folder. You can see the provided implementation by running the cell below."
   ]
  },
  {
   "cell_type": "code",
   "execution_count": 26,
   "metadata": {},
   "outputs": [
    {
     "name": "stdout",
     "output_type": "stream",
     "text": [
      "\u001b[34mimport\u001b[39;49;00m \u001b[04m\u001b[36mtorch.nn\u001b[39;49;00m \u001b[34mas\u001b[39;49;00m \u001b[04m\u001b[36mnn\u001b[39;49;00m\r\n",
      "\r\n",
      "\u001b[34mclass\u001b[39;49;00m \u001b[04m\u001b[32mLSTMClassifier\u001b[39;49;00m(nn.Module):\r\n",
      "    \u001b[33m\"\"\"\u001b[39;49;00m\r\n",
      "\u001b[33m    This is the simple RNN model we will be using to perform Sentiment Analysis.\u001b[39;49;00m\r\n",
      "\u001b[33m    \"\"\"\u001b[39;49;00m\r\n",
      "\r\n",
      "    \u001b[34mdef\u001b[39;49;00m \u001b[32m__init__\u001b[39;49;00m(\u001b[36mself\u001b[39;49;00m, embedding_dim, hidden_dim, vocab_size):\r\n",
      "        \u001b[33m\"\"\"\u001b[39;49;00m\r\n",
      "\u001b[33m        Initialize the model by settingg up the various layers.\u001b[39;49;00m\r\n",
      "\u001b[33m        \"\"\"\u001b[39;49;00m\r\n",
      "        \u001b[36msuper\u001b[39;49;00m(LSTMClassifier, \u001b[36mself\u001b[39;49;00m).\u001b[32m__init__\u001b[39;49;00m()\r\n",
      "\r\n",
      "        \u001b[36mself\u001b[39;49;00m.embedding = nn.Embedding(vocab_size, embedding_dim, padding_idx=\u001b[34m0\u001b[39;49;00m)\r\n",
      "        \u001b[36mself\u001b[39;49;00m.lstm = nn.LSTM(embedding_dim, hidden_dim)\r\n",
      "        \u001b[36mself\u001b[39;49;00m.dense = nn.Linear(in_features=hidden_dim, out_features=\u001b[34m1\u001b[39;49;00m)\r\n",
      "        \u001b[36mself\u001b[39;49;00m.sig = nn.Sigmoid()\r\n",
      "        \r\n",
      "        \u001b[36mself\u001b[39;49;00m.word_dict = \u001b[36mNone\u001b[39;49;00m\r\n",
      "\r\n",
      "    \u001b[34mdef\u001b[39;49;00m \u001b[32mforward\u001b[39;49;00m(\u001b[36mself\u001b[39;49;00m, x):\r\n",
      "        \u001b[33m\"\"\"\u001b[39;49;00m\r\n",
      "\u001b[33m        Perform a forward pass of our model on some input.\u001b[39;49;00m\r\n",
      "\u001b[33m        \"\"\"\u001b[39;49;00m\r\n",
      "        x = x.t()\r\n",
      "        lengths = x[\u001b[34m0\u001b[39;49;00m,:]\r\n",
      "        reviews = x[\u001b[34m1\u001b[39;49;00m:,:]\r\n",
      "        embeds = \u001b[36mself\u001b[39;49;00m.embedding(reviews)\r\n",
      "        lstm_out, _ = \u001b[36mself\u001b[39;49;00m.lstm(embeds)\r\n",
      "        out = \u001b[36mself\u001b[39;49;00m.dense(lstm_out)\r\n",
      "        out = out[lengths - \u001b[34m1\u001b[39;49;00m, \u001b[36mrange\u001b[39;49;00m(\u001b[36mlen\u001b[39;49;00m(lengths))]\r\n",
      "        \u001b[34mreturn\u001b[39;49;00m \u001b[36mself\u001b[39;49;00m.sig(out.squeeze())\r\n"
     ]
    }
   ],
   "source": [
    "!pygmentize train/model.py"
   ]
  },
  {
   "cell_type": "markdown",
   "metadata": {},
   "source": [
    "The important takeaway from the implementation provided is that there are three parameters that we may wish to tweak to improve the performance of our model. These are the embedding dimension, the hidden dimension and the size of the vocabulary. We will likely want to make these parameters configurable in the training script so that if we wish to modify them we do not need to modify the script itself. We will see how to do this later on. To start we will write some of the training code in the notebook so that we can more easily diagnose any issues that arise.\n",
    "\n",
    "First we will load a small portion of the training data set to use as a sample. It would be very time consuming to try and train the model completely in the notebook as we do not have access to a gpu and the compute instance that we are using is not particularly powerful. However, we can work on a small bit of the data to get a feel for how our training script is behaving."
   ]
  },
  {
   "cell_type": "code",
   "execution_count": 27,
   "metadata": {},
   "outputs": [],
   "source": [
    "import torch\n",
    "import torch.utils.data\n",
    "\n",
    "# Read in only the first 250 rows\n",
    "train_sample = pd.read_csv(os.path.join(data_dir, 'train.csv'), header=None, names=None, nrows=250)\n",
    "\n",
    "# Turn the input pandas dataframe into tensors\n",
    "train_sample_y = torch.from_numpy(train_sample[[0]].values).float().squeeze()\n",
    "train_sample_X = torch.from_numpy(train_sample.drop([0], axis=1).values).long()\n",
    "\n",
    "# Build the dataset\n",
    "train_sample_ds = torch.utils.data.TensorDataset(train_sample_X, train_sample_y)\n",
    "# Build the dataloader\n",
    "train_sample_dl = torch.utils.data.DataLoader(train_sample_ds, batch_size=50)"
   ]
  },
  {
   "cell_type": "markdown",
   "metadata": {},
   "source": [
    "### (TODO) Writing the training method\n",
    "\n",
    "Next we need to write the training code itself. This should be very similar to training methods that you have written before to train PyTorch models. We will leave any difficult aspects such as model saving / loading and parameter loading until a little later."
   ]
  },
  {
   "cell_type": "code",
   "execution_count": 28,
   "metadata": {},
   "outputs": [],
   "source": [
    "def train(model, train_loader, epochs, optimizer, loss_fn, device):\n",
    "    for epoch in range(1, epochs + 1):\n",
    "        model.train()\n",
    "        total_loss = 0\n",
    "        for batch in train_loader:         \n",
    "            batch_X, batch_y = batch\n",
    "            \n",
    "            batch_X = batch_X.to(device)\n",
    "            batch_y = batch_y.to(device)\n",
    "            \n",
    "            # TODO: Complete this train method to train the model provided.\n",
    "            \n",
    "            optimizer.zero_grad()\n",
    "            \n",
    "            lstm_out = model(batch_X)\n",
    "            loss = loss_fn(lstm_out, batch_y)\n",
    "            loss.backward()\n",
    "            optimizer.step()\n",
    "            \n",
    "            total_loss += loss.data.item()\n",
    "        print(\"Epoch: {}, BCELoss: {}\".format(epoch, total_loss / len(train_loader)))"
   ]
  },
  {
   "cell_type": "markdown",
   "metadata": {},
   "source": [
    "Supposing we have the training method above, we will test that it is working by writing a bit of code in the notebook that executes our training method on the small sample training set that we loaded earlier. The reason for doing this in the notebook is so that we have an opportunity to fix any errors that arise early when they are easier to diagnose."
   ]
  },
  {
   "cell_type": "code",
   "execution_count": 29,
   "metadata": {},
   "outputs": [
    {
     "name": "stdout",
     "output_type": "stream",
     "text": [
      "Epoch: 1, BCELoss: 0.6916077256202697\n",
      "Epoch: 2, BCELoss: 0.6839762687683105\n",
      "Epoch: 3, BCELoss: 0.6773019433021545\n",
      "Epoch: 4, BCELoss: 0.6696926593780518\n",
      "Epoch: 5, BCELoss: 0.6601738095283508\n"
     ]
    }
   ],
   "source": [
    "import torch.optim as optim\n",
    "from train.model import LSTMClassifier\n",
    "\n",
    "device = torch.device(\"cuda\" if torch.cuda.is_available() else \"cpu\")\n",
    "model = LSTMClassifier(32, 100, 5000).to(device)\n",
    "optimizer = optim.Adam(model.parameters())\n",
    "loss_fn = torch.nn.BCELoss()\n",
    "\n",
    "train(model, train_sample_dl, 5, optimizer, loss_fn, device)"
   ]
  },
  {
   "cell_type": "markdown",
   "metadata": {},
   "source": [
    "In order to construct a PyTorch model using SageMaker we must provide SageMaker with a training script. We may optionally include a directory which will be copied to the container and from which our training code will be run. When the training container is executed it will check the uploaded directory (if there is one) for a `requirements.txt` file and install any required Python libraries, after which the training script will be run."
   ]
  },
  {
   "cell_type": "markdown",
   "metadata": {},
   "source": [
    "### (TODO) Training the model\n",
    "\n",
    "When a PyTorch model is constructed in SageMaker, an entry point must be specified. This is the Python file which will be executed when the model is trained. Inside of the `train` directory is a file called `train.py` which has been provided and which contains most of the necessary code to train our model. The only thing that is missing is the implementation of the `train()` method which you wrote earlier in this notebook.\n",
    "\n",
    "**TODO**: Copy the `train()` method written above and paste it into the `train/train.py` file where required.\n",
    "\n",
    "The way that SageMaker passes hyperparameters to the training script is by way of arguments. These arguments can then be parsed and used in the training script. To see how this is done take a look at the provided `train/train.py` file."
   ]
  },
  {
   "cell_type": "code",
   "execution_count": 30,
   "metadata": {},
   "outputs": [],
   "source": [
    "from sagemaker.pytorch import PyTorch\n",
    "\n",
    "estimator = PyTorch(entry_point=\"train.py\",\n",
    "                    source_dir=\"train\",\n",
    "                    role=role,\n",
    "                    framework_version='0.4.0',\n",
    "                    train_instance_count=1,\n",
    "                    train_instance_type='ml.p2.xlarge',\n",
    "                    hyperparameters={\n",
    "                        'epochs': 10,\n",
    "                        'hidden_dim': 200\n",
    "                    })"
   ]
  },
  {
   "cell_type": "code",
   "execution_count": 31,
   "metadata": {},
   "outputs": [
    {
     "name": "stderr",
     "output_type": "stream",
     "text": [
      "INFO:sagemaker:Creating training-job with name: sagemaker-pytorch-2019-04-13-16-03-55-035\n"
     ]
    },
    {
     "name": "stdout",
     "output_type": "stream",
     "text": [
      "2019-04-13 16:03:56 Starting - Starting the training job...\n",
      "2019-04-13 16:03:58 Starting - Launching requested ML instances......\n",
      "2019-04-13 16:05:05 Starting - Preparing the instances for training......\n",
      "2019-04-13 16:06:17 Downloading - Downloading input data\n",
      "2019-04-13 16:06:17 Training - Downloading the training image......\n",
      "2019-04-13 16:07:18 Training - Training image download completed. Training in progress.\n",
      "\u001b[31mbash: cannot set terminal process group (-1): Inappropriate ioctl for device\u001b[0m\n",
      "\u001b[31mbash: no job control in this shell\u001b[0m\n",
      "\u001b[31m2019-04-13 16:07:19,519 sagemaker-containers INFO     Imported framework sagemaker_pytorch_container.training\u001b[0m\n",
      "\u001b[31m2019-04-13 16:07:19,546 sagemaker_pytorch_container.training INFO     Block until all host DNS lookups succeed.\u001b[0m\n",
      "\u001b[31m2019-04-13 16:07:19,554 sagemaker_pytorch_container.training INFO     Invoking user training script.\u001b[0m\n",
      "\u001b[31m2019-04-13 16:07:19,864 sagemaker-containers INFO     Module train does not provide a setup.py. \u001b[0m\n",
      "\u001b[31mGenerating setup.py\u001b[0m\n",
      "\u001b[31m2019-04-13 16:07:19,864 sagemaker-containers INFO     Generating setup.cfg\u001b[0m\n",
      "\u001b[31m2019-04-13 16:07:19,865 sagemaker-containers INFO     Generating MANIFEST.in\u001b[0m\n",
      "\u001b[31m2019-04-13 16:07:19,865 sagemaker-containers INFO     Installing module with the following command:\u001b[0m\n",
      "\u001b[31m/usr/bin/python -m pip install -U . -r requirements.txt\u001b[0m\n",
      "\u001b[31mProcessing /opt/ml/code\u001b[0m\n",
      "\u001b[31mCollecting pandas (from -r requirements.txt (line 1))\u001b[0m\n",
      "\u001b[31m  Downloading https://files.pythonhosted.org/packages/74/24/0cdbf8907e1e3bc5a8da03345c23cbed7044330bb8f73bb12e711a640a00/pandas-0.24.2-cp35-cp35m-manylinux1_x86_64.whl (10.0MB)\u001b[0m\n",
      "\u001b[31mCollecting numpy (from -r requirements.txt (line 2))\u001b[0m\n",
      "\u001b[31m  Downloading https://files.pythonhosted.org/packages/e3/18/4f013c3c3051f4e0ffbaa4bf247050d6d5e527fe9cb1907f5975b172f23f/numpy-1.16.2-cp35-cp35m-manylinux1_x86_64.whl (17.2MB)\u001b[0m\n",
      "\u001b[31mCollecting nltk (from -r requirements.txt (line 3))\u001b[0m\n",
      "\u001b[31m  Downloading https://files.pythonhosted.org/packages/6f/ed/9c755d357d33bc1931e157f537721efb5b88d2c583fe593cc09603076cc3/nltk-3.4.zip (1.4MB)\u001b[0m\n",
      "\u001b[31mCollecting beautifulsoup4 (from -r requirements.txt (line 4))\n",
      "  Downloading https://files.pythonhosted.org/packages/1d/5d/3260694a59df0ec52f8b4883f5d23b130bc237602a1411fa670eae12351e/beautifulsoup4-4.7.1-py3-none-any.whl (94kB)\u001b[0m\n",
      "\u001b[31mCollecting html5lib (from -r requirements.txt (line 5))\n",
      "  Downloading https://files.pythonhosted.org/packages/a5/62/bbd2be0e7943ec8504b517e62bab011b4946e1258842bc159e5dfde15b96/html5lib-1.0.1-py2.py3-none-any.whl (117kB)\u001b[0m\n",
      "\u001b[31mCollecting pytz>=2011k (from pandas->-r requirements.txt (line 1))\u001b[0m\n",
      "\u001b[31m  Downloading https://files.pythonhosted.org/packages/3d/73/fe30c2daaaa0713420d0382b16fbb761409f532c56bdcc514bf7b6262bb6/pytz-2019.1-py2.py3-none-any.whl (510kB)\u001b[0m\n",
      "\u001b[31mRequirement already satisfied, skipping upgrade: python-dateutil>=2.5.0 in /usr/local/lib/python3.5/dist-packages (from pandas->-r requirements.txt (line 1)) (2.7.5)\u001b[0m\n",
      "\u001b[31mRequirement already satisfied, skipping upgrade: six in /usr/local/lib/python3.5/dist-packages (from nltk->-r requirements.txt (line 3)) (1.11.0)\u001b[0m\n",
      "\u001b[31mCollecting singledispatch (from nltk->-r requirements.txt (line 3))\n",
      "  Downloading https://files.pythonhosted.org/packages/c5/10/369f50bcd4621b263927b0a1519987a04383d4a98fb10438042ad410cf88/singledispatch-3.4.0.3-py2.py3-none-any.whl\u001b[0m\n",
      "\u001b[31mCollecting soupsieve>=1.2 (from beautifulsoup4->-r requirements.txt (line 4))\n",
      "  Downloading https://files.pythonhosted.org/packages/c9/f8/e54b1d771ed4fab66b3fa1c178e137a3c73d84fb6f64329bddf0da5a371c/soupsieve-1.9-py2.py3-none-any.whl\u001b[0m\n",
      "\u001b[31mCollecting webencodings (from html5lib->-r requirements.txt (line 5))\n",
      "  Downloading https://files.pythonhosted.org/packages/f4/24/2a3e3df732393fed8b3ebf2ec078f05546de641fe1b667ee316ec1dcf3b7/webencodings-0.5.1-py2.py3-none-any.whl\u001b[0m\n",
      "\u001b[31mBuilding wheels for collected packages: nltk, train\n",
      "  Running setup.py bdist_wheel for nltk: started\u001b[0m\n",
      "\u001b[31m  Running setup.py bdist_wheel for nltk: finished with status 'done'\n",
      "  Stored in directory: /root/.cache/pip/wheels/4b/c8/24/b2343664bcceb7147efeb21c0b23703a05b23fcfeaceaa2a1e\n",
      "  Running setup.py bdist_wheel for train: started\n",
      "  Running setup.py bdist_wheel for train: finished with status 'done'\n",
      "  Stored in directory: /tmp/pip-ephem-wheel-cache-x3a2zt6r/wheels/35/24/16/37574d11bf9bde50616c67372a334f94fa8356bc7164af8ca3\u001b[0m\n",
      "\u001b[31mSuccessfully built nltk train\u001b[0m\n",
      "\u001b[31mInstalling collected packages: pytz, numpy, pandas, singledispatch, nltk, soupsieve, beautifulsoup4, webencodings, html5lib, train\n",
      "  Found existing installation: numpy 1.15.4\u001b[0m\n",
      "\u001b[31m    Uninstalling numpy-1.15.4:\n",
      "      Successfully uninstalled numpy-1.15.4\u001b[0m\n",
      "\u001b[31mSuccessfully installed beautifulsoup4-4.7.1 html5lib-1.0.1 nltk-3.4 numpy-1.16.2 pandas-0.24.2 pytz-2019.1 singledispatch-3.4.0.3 soupsieve-1.9 train-1.0.0 webencodings-0.5.1\u001b[0m\n",
      "\u001b[31mYou are using pip version 18.1, however version 19.0.3 is available.\u001b[0m\n",
      "\u001b[31mYou should consider upgrading via the 'pip install --upgrade pip' command.\u001b[0m\n",
      "\u001b[31m2019-04-13 16:07:31,867 sagemaker-containers INFO     Invoking user script\n",
      "\u001b[0m\n",
      "\u001b[31mTraining Env:\n",
      "\u001b[0m\n",
      "\u001b[31m{\n",
      "    \"module_dir\": \"s3://sagemaker-us-west-2-008577821560/sagemaker-pytorch-2019-04-13-16-03-55-035/source/sourcedir.tar.gz\",\n",
      "    \"current_host\": \"algo-1\",\n",
      "    \"network_interface_name\": \"ethwe\",\n",
      "    \"output_dir\": \"/opt/ml/output\",\n",
      "    \"hosts\": [\n",
      "        \"algo-1\"\n",
      "    ],\n",
      "    \"log_level\": 20,\n",
      "    \"additional_framework_parameters\": {},\n",
      "    \"input_dir\": \"/opt/ml/input\",\n",
      "    \"input_config_dir\": \"/opt/ml/input/config\",\n",
      "    \"hyperparameters\": {\n",
      "        \"hidden_dim\": 200,\n",
      "        \"epochs\": 10\n",
      "    },\n",
      "    \"framework_module\": \"sagemaker_pytorch_container.training:main\",\n",
      "    \"job_name\": \"sagemaker-pytorch-2019-04-13-16-03-55-035\",\n",
      "    \"channel_input_dirs\": {\n",
      "        \"training\": \"/opt/ml/input/data/training\"\n",
      "    },\n",
      "    \"input_data_config\": {\n",
      "        \"training\": {\n",
      "            \"RecordWrapperType\": \"None\",\n",
      "            \"S3DistributionType\": \"FullyReplicated\",\n",
      "            \"TrainingInputMode\": \"File\"\n",
      "        }\n",
      "    },\n",
      "    \"num_cpus\": 4,\n",
      "    \"output_intermediate_dir\": \"/opt/ml/output/intermediate\",\n",
      "    \"user_entry_point\": \"train.py\",\n",
      "    \"num_gpus\": 1,\n",
      "    \"module_name\": \"train\",\n",
      "    \"output_data_dir\": \"/opt/ml/output/data\",\n",
      "    \"model_dir\": \"/opt/ml/model\",\n",
      "    \"resource_config\": {\n",
      "        \"hosts\": [\n",
      "            \"algo-1\"\n",
      "        ],\n",
      "        \"current_host\": \"algo-1\",\n",
      "        \"network_interface_name\": \"ethwe\"\n",
      "    }\u001b[0m\n",
      "\u001b[31m}\n",
      "\u001b[0m\n",
      "\u001b[31mEnvironment variables:\n",
      "\u001b[0m\n",
      "\u001b[31mSM_FRAMEWORK_MODULE=sagemaker_pytorch_container.training:main\u001b[0m\n",
      "\u001b[31mSM_OUTPUT_DIR=/opt/ml/output\u001b[0m\n",
      "\u001b[31mSM_INPUT_DATA_CONFIG={\"training\":{\"RecordWrapperType\":\"None\",\"S3DistributionType\":\"FullyReplicated\",\"TrainingInputMode\":\"File\"}}\u001b[0m\n",
      "\u001b[31mSM_INPUT_DIR=/opt/ml/input\u001b[0m\n",
      "\u001b[31mSM_USER_ENTRY_POINT=train.py\u001b[0m\n",
      "\u001b[31mSM_INPUT_CONFIG_DIR=/opt/ml/input/config\u001b[0m\n",
      "\u001b[31mSM_NETWORK_INTERFACE_NAME=ethwe\u001b[0m\n",
      "\u001b[31mSM_USER_ARGS=[\"--epochs\",\"10\",\"--hidden_dim\",\"200\"]\u001b[0m\n",
      "\u001b[31mSM_HOSTS=[\"algo-1\"]\u001b[0m\n",
      "\u001b[31mSM_HPS={\"epochs\":10,\"hidden_dim\":200}\u001b[0m\n",
      "\u001b[31mSM_MODEL_DIR=/opt/ml/model\u001b[0m\n",
      "\u001b[31mPYTHONPATH=/usr/local/bin:/usr/lib/python35.zip:/usr/lib/python3.5:/usr/lib/python3.5/plat-x86_64-linux-gnu:/usr/lib/python3.5/lib-dynload:/usr/local/lib/python3.5/dist-packages:/usr/lib/python3/dist-packages\u001b[0m\n",
      "\u001b[31mSM_TRAINING_ENV={\"additional_framework_parameters\":{},\"channel_input_dirs\":{\"training\":\"/opt/ml/input/data/training\"},\"current_host\":\"algo-1\",\"framework_module\":\"sagemaker_pytorch_container.training:main\",\"hosts\":[\"algo-1\"],\"hyperparameters\":{\"epochs\":10,\"hidden_dim\":200},\"input_config_dir\":\"/opt/ml/input/config\",\"input_data_config\":{\"training\":{\"RecordWrapperType\":\"None\",\"S3DistributionType\":\"FullyReplicated\",\"TrainingInputMode\":\"File\"}},\"input_dir\":\"/opt/ml/input\",\"job_name\":\"sagemaker-pytorch-2019-04-13-16-03-55-035\",\"log_level\":20,\"model_dir\":\"/opt/ml/model\",\"module_dir\":\"s3://sagemaker-us-west-2-008577821560/sagemaker-pytorch-2019-04-13-16-03-55-035/source/sourcedir.tar.gz\",\"module_name\":\"train\",\"network_interface_name\":\"ethwe\",\"num_cpus\":4,\"num_gpus\":1,\"output_data_dir\":\"/opt/ml/output/data\",\"output_dir\":\"/opt/ml/output\",\"output_intermediate_dir\":\"/opt/ml/output/intermediate\",\"resource_config\":{\"current_host\":\"algo-1\",\"hosts\":[\"algo-1\"],\"network_interface_name\":\"ethwe\"},\"user_entry_point\":\"train.py\"}\u001b[0m\n",
      "\u001b[31mSM_MODULE_NAME=train\u001b[0m\n",
      "\u001b[31mSM_CHANNEL_TRAINING=/opt/ml/input/data/training\u001b[0m\n",
      "\u001b[31mSM_OUTPUT_INTERMEDIATE_DIR=/opt/ml/output/intermediate\u001b[0m\n",
      "\u001b[31mSM_HP_HIDDEN_DIM=200\u001b[0m\n",
      "\u001b[31mSM_NUM_CPUS=4\u001b[0m\n",
      "\u001b[31mSM_NUM_GPUS=1\u001b[0m\n",
      "\u001b[31mSM_FRAMEWORK_PARAMS={}\u001b[0m\n",
      "\u001b[31mSM_MODULE_DIR=s3://sagemaker-us-west-2-008577821560/sagemaker-pytorch-2019-04-13-16-03-55-035/source/sourcedir.tar.gz\u001b[0m\n",
      "\u001b[31mSM_CHANNELS=[\"training\"]\u001b[0m\n",
      "\u001b[31mSM_OUTPUT_DATA_DIR=/opt/ml/output/data\u001b[0m\n",
      "\u001b[31mSM_LOG_LEVEL=20\u001b[0m\n",
      "\u001b[31mSM_RESOURCE_CONFIG={\"current_host\":\"algo-1\",\"hosts\":[\"algo-1\"],\"network_interface_name\":\"ethwe\"}\u001b[0m\n",
      "\u001b[31mSM_HP_EPOCHS=10\u001b[0m\n",
      "\u001b[31mSM_CURRENT_HOST=algo-1\n",
      "\u001b[0m\n",
      "\u001b[31mInvoking script with the following command:\n",
      "\u001b[0m\n",
      "\u001b[31m/usr/bin/python -m train --epochs 10 --hidden_dim 200\n",
      "\n",
      "\u001b[0m\n",
      "\u001b[31mUsing device cuda.\u001b[0m\n",
      "\u001b[31mGet train data loader.\u001b[0m\n"
     ]
    },
    {
     "name": "stdout",
     "output_type": "stream",
     "text": [
      "\u001b[31mModel loaded with embedding_dim 32, hidden_dim 200, vocab_size 5000.\u001b[0m\n",
      "\u001b[31mEpoch: 1, BCELoss: 0.6714984981381164\u001b[0m\n",
      "\u001b[31mEpoch: 2, BCELoss: 0.5857504484604816\u001b[0m\n",
      "\u001b[31mEpoch: 3, BCELoss: 0.5418473135451881\u001b[0m\n",
      "\u001b[31mEpoch: 4, BCELoss: 0.45356124092121514\u001b[0m\n",
      "\u001b[31mEpoch: 5, BCELoss: 0.3943157098731216\u001b[0m\n",
      "\u001b[31mEpoch: 6, BCELoss: 0.3544259643068119\u001b[0m\n",
      "\u001b[31mEpoch: 7, BCELoss: 0.3325494035166137\u001b[0m\n",
      "\u001b[31mEpoch: 8, BCELoss: 0.30764302398477283\u001b[0m\n",
      "\u001b[31mEpoch: 9, BCELoss: 0.28409053020331326\u001b[0m\n",
      "\u001b[31mEpoch: 10, BCELoss: 0.2814483365842274\u001b[0m\n",
      "\u001b[31m2019-04-13 16:10:27,756 sagemaker-containers INFO     Reporting training SUCCESS\u001b[0m\n",
      "\n",
      "2019-04-13 16:10:36 Uploading - Uploading generated training model\n",
      "2019-04-13 16:10:36 Completed - Training job completed\n",
      "Billable seconds: 268\n"
     ]
    }
   ],
   "source": [
    "estimator.fit({'training': input_data})"
   ]
  },
  {
   "cell_type": "markdown",
   "metadata": {},
   "source": [
    "## Step 5: Testing the model\n",
    "\n",
    "As mentioned at the top of this notebook, we will be testing this model by first deploying it and then sending the testing data to the deployed endpoint. We will do this so that we can make sure that the deployed model is working correctly.\n",
    "\n",
    "## Step 6: Deploy the model for testing\n",
    "\n",
    "Now that we have trained our model, we would like to test it to see how it performs. Currently our model takes input of the form `review_length, review[500]` where `review[500]` is a sequence of `500` integers which describe the words present in the review, encoded using `word_dict`. Fortunately for us, SageMaker provides built-in inference code for models with simple inputs such as this.\n",
    "\n",
    "There is one thing that we need to provide, however, and that is a function which loads the saved model. This function must be called `model_fn()` and takes as its only parameter a path to the directory where the model artifacts are stored. This function must also be present in the python file which we specified as the entry point. In our case the model loading function has been provided and so no changes need to be made.\n",
    "\n",
    "**NOTE**: When the built-in inference code is run it must import the `model_fn()` method from the `train.py` file. This is why the training code is wrapped in a main guard ( ie, `if __name__ == '__main__':` )\n",
    "\n",
    "Since we don't need to change anything in the code that was uploaded during training, we can simply deploy the current model as-is.\n",
    "\n",
    "**NOTE:** When deploying a model you are asking SageMaker to launch an compute instance that will wait for data to be sent to it. As a result, this compute instance will continue to run until *you* shut it down. This is important to know since the cost of a deployed endpoint depends on how long it has been running for.\n",
    "\n",
    "In other words **If you are no longer using a deployed endpoint, shut it down!**\n",
    "\n",
    "**TODO:** Deploy the trained model."
   ]
  },
  {
   "cell_type": "code",
   "execution_count": 32,
   "metadata": {},
   "outputs": [
    {
     "name": "stderr",
     "output_type": "stream",
     "text": [
      "INFO:sagemaker:Creating model with name: sagemaker-pytorch-2019-04-13-16-03-55-035\n",
      "INFO:sagemaker:Creating endpoint with name sagemaker-pytorch-2019-04-13-16-03-55-035\n"
     ]
    },
    {
     "name": "stdout",
     "output_type": "stream",
     "text": [
      "---------------------------------------------------------------------------!"
     ]
    }
   ],
   "source": [
    "# TODO: Deploy the trained model\n",
    "predictor = estimator.deploy(initial_instance_count=1, instance_type='ml.m4.xlarge')"
   ]
  },
  {
   "cell_type": "markdown",
   "metadata": {},
   "source": [
    "## Step 7 - Use the model for testing\n",
    "\n",
    "Once deployed, we can read in the test data and send it off to our deployed model to get some results. Once we collect all of the results we can determine how accurate our model is."
   ]
  },
  {
   "cell_type": "code",
   "execution_count": 33,
   "metadata": {},
   "outputs": [],
   "source": [
    "test_X = pd.concat([pd.DataFrame(test_X_len), pd.DataFrame(test_X)], axis=1)"
   ]
  },
  {
   "cell_type": "code",
   "execution_count": 34,
   "metadata": {},
   "outputs": [],
   "source": [
    "# We split the data into chunks and send each chunk seperately, accumulating the results.\n",
    "\n",
    "def predict(data, rows=512):\n",
    "    split_array = np.array_split(data, int(data.shape[0] / float(rows) + 1))\n",
    "    predictions = np.array([])\n",
    "    for array in split_array:\n",
    "        predictions = np.append(predictions, predictor.predict(array))\n",
    "    \n",
    "    return predictions"
   ]
  },
  {
   "cell_type": "code",
   "execution_count": 35,
   "metadata": {},
   "outputs": [],
   "source": [
    "predictions = predict(test_X.values)\n",
    "predictions = [round(num) for num in predictions]"
   ]
  },
  {
   "cell_type": "code",
   "execution_count": 36,
   "metadata": {},
   "outputs": [
    {
     "data": {
      "text/plain": [
       "0.83608"
      ]
     },
     "execution_count": 36,
     "metadata": {},
     "output_type": "execute_result"
    }
   ],
   "source": [
    "from sklearn.metrics import accuracy_score\n",
    "accuracy_score(test_y, predictions)"
   ]
  },
  {
   "cell_type": "markdown",
   "metadata": {},
   "source": [
    "**Question:** How does this model compare to the XGBoost model you created earlier? Why might these two models perform differently on this dataset? Which do *you* think is better for sentiment analysis?"
   ]
  },
  {
   "cell_type": "markdown",
   "metadata": {},
   "source": [
    "**Answer:**\n",
    "\n",
    "The XGBoost model created earlier in one of the previous exercises gave accuracy of 85.96%. But LSTM classifier model provided 82.9%, a little less than that of XGBoost. \n",
    "\n",
    "Deep learning models are most useful when there is huge amounts of data. This dataset has only 25000 reviews. The article quoted below as reference states that the deep learning models perform better on datasets of size > 1 million records. Anything less than that, deep learning models overfit the data. But XGBoost performs good on small datasets < 1 million records.\n",
    "\n",
    "Reference:\n",
    "https://medium.com/@faizanahemad/why-deep-learning-is-not-the-holy-grail-of-data-science-9929c38d1c45\n",
    "\n",
    "Also, XGBoost is the state of art in most regression and classification problems using tabular data. Deep learning models are good in dealing with datasets like images or sound.\n",
    "\n",
    "XGBoost model is better for sentiment analysis."
   ]
  },
  {
   "cell_type": "markdown",
   "metadata": {},
   "source": [
    "### (TODO) More testing\n",
    "\n",
    "We now have a trained model which has been deployed and which we can send processed reviews to and which returns the predicted sentiment. However, ultimately we would like to be able to send our model an unprocessed review. That is, we would like to send the review itself as a string. For example, suppose we wish to send the following review to our model."
   ]
  },
  {
   "cell_type": "code",
   "execution_count": 37,
   "metadata": {},
   "outputs": [],
   "source": [
    "test_review = 'The simplest pleasures in life are the best, and this film is one of them. Combining a rather basic storyline of love and adventure this movie transcends the usual weekend fair with wit and unmitigated charm.'"
   ]
  },
  {
   "cell_type": "markdown",
   "metadata": {},
   "source": [
    "The question we now need to answer is, how do we send this review to our model?\n",
    "\n",
    "Recall in the first section of this notebook we did a bunch of data processing to the IMDb dataset. In particular, we did two specific things to the provided reviews.\n",
    " - Removed any html tags and stemmed the input\n",
    " - Encoded the review as a sequence of integers using `word_dict`\n",
    " \n",
    "In order process the review we will need to repeat these two steps.\n",
    "\n",
    "**TODO**: Using the `review_to_words` and `convert_and_pad` methods from section one, convert `test_review` into a numpy array `test_data` suitable to send to our model. Remember that our model expects input of the form `review_length, review[500]`."
   ]
  },
  {
   "cell_type": "code",
   "execution_count": 38,
   "metadata": {},
   "outputs": [],
   "source": [
    "# TODO: Convert test_review into a form usable by the model and save the results in test_data\n",
    "test_review2words = review_to_words(test_review)\n",
    "test_data = [np.array(convert_and_pad(word_dict, test_review2words)[0])]"
   ]
  },
  {
   "cell_type": "markdown",
   "metadata": {},
   "source": [
    "Now that we have processed the review, we can send the resulting array to our model to predict the sentiment of the review."
   ]
  },
  {
   "cell_type": "code",
   "execution_count": 39,
   "metadata": {},
   "outputs": [
    {
     "data": {
      "text/plain": [
       "array(0.5686868, dtype=float32)"
      ]
     },
     "execution_count": 39,
     "metadata": {},
     "output_type": "execute_result"
    }
   ],
   "source": [
    "predictor.predict(test_data)"
   ]
  },
  {
   "cell_type": "markdown",
   "metadata": {},
   "source": [
    "Since the return value of our model is close to `1`, we can be certain that the review we submitted is positive."
   ]
  },
  {
   "cell_type": "markdown",
   "metadata": {},
   "source": [
    "### Delete the endpoint\n",
    "\n",
    "Of course, just like in the XGBoost notebook, once we've deployed an endpoint it continues to run until we tell it to shut down. Since we are done using our endpoint for now, we can delete it."
   ]
  },
  {
   "cell_type": "code",
   "execution_count": 40,
   "metadata": {},
   "outputs": [
    {
     "name": "stderr",
     "output_type": "stream",
     "text": [
      "INFO:sagemaker:Deleting endpoint with name: sagemaker-pytorch-2019-04-13-16-03-55-035\n"
     ]
    }
   ],
   "source": [
    "estimator.delete_endpoint()"
   ]
  },
  {
   "cell_type": "markdown",
   "metadata": {},
   "source": [
    "## Step 6 (again) - Deploy the model for the web app\n",
    "\n",
    "Now that we know that our model is working, it's time to create some custom inference code so that we can send the model a review which has not been processed and have it determine the sentiment of the review.\n",
    "\n",
    "As we saw above, by default the estimator which we created, when deployed, will use the entry script and directory which we provided when creating the model. However, since we now wish to accept a string as input and our model expects a processed review, we need to write some custom inference code.\n",
    "\n",
    "We will store the code that we write in the `serve` directory. Provided in this directory is the `model.py` file that we used to construct our model, a `utils.py` file which contains the `review_to_words` and `convert_and_pad` pre-processing functions which we used during the initial data processing, and `predict.py`, the file which will contain our custom inference code. Note also that `requirements.txt` is present which will tell SageMaker what Python libraries are required by our custom inference code.\n",
    "\n",
    "When deploying a PyTorch model in SageMaker, you are expected to provide four functions which the SageMaker inference container will use.\n",
    " - `model_fn`: This function is the same function that we used in the training script and it tells SageMaker how to load our model.\n",
    " - `input_fn`: This function receives the raw serialized input that has been sent to the model's endpoint and its job is to de-serialize and make the input available for the inference code.\n",
    " - `output_fn`: This function takes the output of the inference code and its job is to serialize this output and return it to the caller of the model's endpoint.\n",
    " - `predict_fn`: The heart of the inference script, this is where the actual prediction is done and is the function which you will need to complete.\n",
    "\n",
    "For the simple website that we are constructing during this project, the `input_fn` and `output_fn` methods are relatively straightforward. We only require being able to accept a string as input and we expect to return a single value as output. You might imagine though that in a more complex application the input or output may be image data or some other binary data which would require some effort to serialize.\n",
    "\n",
    "### (TODO) Writing inference code\n",
    "\n",
    "Before writing our custom inference code, we will begin by taking a look at the code which has been provided."
   ]
  },
  {
   "cell_type": "code",
   "execution_count": 63,
   "metadata": {},
   "outputs": [
    {
     "name": "stdout",
     "output_type": "stream",
     "text": [
      "\u001b[34mimport\u001b[39;49;00m \u001b[04m\u001b[36margparse\u001b[39;49;00m\r\n",
      "\u001b[34mimport\u001b[39;49;00m \u001b[04m\u001b[36mjson\u001b[39;49;00m\r\n",
      "\u001b[34mimport\u001b[39;49;00m \u001b[04m\u001b[36mos\u001b[39;49;00m\r\n",
      "\u001b[34mimport\u001b[39;49;00m \u001b[04m\u001b[36mpickle\u001b[39;49;00m\r\n",
      "\u001b[34mimport\u001b[39;49;00m \u001b[04m\u001b[36msys\u001b[39;49;00m\r\n",
      "\u001b[34mimport\u001b[39;49;00m \u001b[04m\u001b[36msagemaker_containers\u001b[39;49;00m\r\n",
      "\u001b[34mimport\u001b[39;49;00m \u001b[04m\u001b[36mpandas\u001b[39;49;00m \u001b[34mas\u001b[39;49;00m \u001b[04m\u001b[36mpd\u001b[39;49;00m\r\n",
      "\u001b[34mimport\u001b[39;49;00m \u001b[04m\u001b[36mnumpy\u001b[39;49;00m \u001b[34mas\u001b[39;49;00m \u001b[04m\u001b[36mnp\u001b[39;49;00m\r\n",
      "\u001b[34mimport\u001b[39;49;00m \u001b[04m\u001b[36mtorch\u001b[39;49;00m\r\n",
      "\u001b[34mimport\u001b[39;49;00m \u001b[04m\u001b[36mtorch.nn\u001b[39;49;00m \u001b[34mas\u001b[39;49;00m \u001b[04m\u001b[36mnn\u001b[39;49;00m\r\n",
      "\u001b[34mimport\u001b[39;49;00m \u001b[04m\u001b[36mtorch.optim\u001b[39;49;00m \u001b[34mas\u001b[39;49;00m \u001b[04m\u001b[36moptim\u001b[39;49;00m\r\n",
      "\u001b[34mimport\u001b[39;49;00m \u001b[04m\u001b[36mtorch.utils.data\u001b[39;49;00m\r\n",
      "\r\n",
      "\u001b[34mfrom\u001b[39;49;00m \u001b[04m\u001b[36mmodel\u001b[39;49;00m \u001b[34mimport\u001b[39;49;00m LSTMClassifier\r\n",
      "\r\n",
      "\u001b[34mfrom\u001b[39;49;00m \u001b[04m\u001b[36mutils\u001b[39;49;00m \u001b[34mimport\u001b[39;49;00m review_to_words, convert_and_pad\r\n",
      "\r\n",
      "\u001b[34mdef\u001b[39;49;00m \u001b[32mmodel_fn\u001b[39;49;00m(model_dir):\r\n",
      "    \u001b[33m\"\"\"Load the PyTorch model from the `model_dir` directory.\"\"\"\u001b[39;49;00m\r\n",
      "    \u001b[34mprint\u001b[39;49;00m(\u001b[33m\"\u001b[39;49;00m\u001b[33mLoading model.\u001b[39;49;00m\u001b[33m\"\u001b[39;49;00m)\r\n",
      "\r\n",
      "    \u001b[37m# First, load the parameters used to create the model.\u001b[39;49;00m\r\n",
      "    model_info = {}\r\n",
      "    model_info_path = os.path.join(model_dir, \u001b[33m'\u001b[39;49;00m\u001b[33mmodel_info.pth\u001b[39;49;00m\u001b[33m'\u001b[39;49;00m)\r\n",
      "    \u001b[34mwith\u001b[39;49;00m \u001b[36mopen\u001b[39;49;00m(model_info_path, \u001b[33m'\u001b[39;49;00m\u001b[33mrb\u001b[39;49;00m\u001b[33m'\u001b[39;49;00m) \u001b[34mas\u001b[39;49;00m f:\r\n",
      "        model_info = torch.load(f)\r\n",
      "\r\n",
      "    \u001b[34mprint\u001b[39;49;00m(\u001b[33m\"\u001b[39;49;00m\u001b[33mmodel_info: {}\u001b[39;49;00m\u001b[33m\"\u001b[39;49;00m.format(model_info))\r\n",
      "\r\n",
      "    \u001b[37m# Determine the device and construct the model.\u001b[39;49;00m\r\n",
      "    device = torch.device(\u001b[33m\"\u001b[39;49;00m\u001b[33mcuda\u001b[39;49;00m\u001b[33m\"\u001b[39;49;00m \u001b[34mif\u001b[39;49;00m torch.cuda.is_available() \u001b[34melse\u001b[39;49;00m \u001b[33m\"\u001b[39;49;00m\u001b[33mcpu\u001b[39;49;00m\u001b[33m\"\u001b[39;49;00m)\r\n",
      "    model = LSTMClassifier(model_info[\u001b[33m'\u001b[39;49;00m\u001b[33membedding_dim\u001b[39;49;00m\u001b[33m'\u001b[39;49;00m], model_info[\u001b[33m'\u001b[39;49;00m\u001b[33mhidden_dim\u001b[39;49;00m\u001b[33m'\u001b[39;49;00m], model_info[\u001b[33m'\u001b[39;49;00m\u001b[33mvocab_size\u001b[39;49;00m\u001b[33m'\u001b[39;49;00m])\r\n",
      "\r\n",
      "    \u001b[37m# Load the store model parameters.\u001b[39;49;00m\r\n",
      "    model_path = os.path.join(model_dir, \u001b[33m'\u001b[39;49;00m\u001b[33mmodel.pth\u001b[39;49;00m\u001b[33m'\u001b[39;49;00m)\r\n",
      "    \u001b[34mwith\u001b[39;49;00m \u001b[36mopen\u001b[39;49;00m(model_path, \u001b[33m'\u001b[39;49;00m\u001b[33mrb\u001b[39;49;00m\u001b[33m'\u001b[39;49;00m) \u001b[34mas\u001b[39;49;00m f:\r\n",
      "        model.load_state_dict(torch.load(f))\r\n",
      "\r\n",
      "    \u001b[37m# Load the saved word_dict.\u001b[39;49;00m\r\n",
      "    word_dict_path = os.path.join(model_dir, \u001b[33m'\u001b[39;49;00m\u001b[33mword_dict.pkl\u001b[39;49;00m\u001b[33m'\u001b[39;49;00m)\r\n",
      "    \u001b[34mwith\u001b[39;49;00m \u001b[36mopen\u001b[39;49;00m(word_dict_path, \u001b[33m'\u001b[39;49;00m\u001b[33mrb\u001b[39;49;00m\u001b[33m'\u001b[39;49;00m) \u001b[34mas\u001b[39;49;00m f:\r\n",
      "        model.word_dict = pickle.load(f)\r\n",
      "\r\n",
      "    model.to(device).eval()\r\n",
      "\r\n",
      "    \u001b[34mprint\u001b[39;49;00m(\u001b[33m\"\u001b[39;49;00m\u001b[33mDone loading model.\u001b[39;49;00m\u001b[33m\"\u001b[39;49;00m)\r\n",
      "    \u001b[34mreturn\u001b[39;49;00m model\r\n",
      "\r\n",
      "\u001b[34mdef\u001b[39;49;00m \u001b[32minput_fn\u001b[39;49;00m(serialized_input_data, content_type):\r\n",
      "    \u001b[34mprint\u001b[39;49;00m(\u001b[33m'\u001b[39;49;00m\u001b[33mDeserializing the input data.\u001b[39;49;00m\u001b[33m'\u001b[39;49;00m)\r\n",
      "    \u001b[34mif\u001b[39;49;00m content_type == \u001b[33m'\u001b[39;49;00m\u001b[33mtext/plain\u001b[39;49;00m\u001b[33m'\u001b[39;49;00m:\r\n",
      "        data = serialized_input_data.decode(\u001b[33m'\u001b[39;49;00m\u001b[33mutf-8\u001b[39;49;00m\u001b[33m'\u001b[39;49;00m)\r\n",
      "        \u001b[34mreturn\u001b[39;49;00m data\r\n",
      "    \u001b[34mraise\u001b[39;49;00m \u001b[36mException\u001b[39;49;00m(\u001b[33m'\u001b[39;49;00m\u001b[33mRequested unsupported ContentType in content_type: \u001b[39;49;00m\u001b[33m'\u001b[39;49;00m + content_type)\r\n",
      "\r\n",
      "\u001b[34mdef\u001b[39;49;00m \u001b[32moutput_fn\u001b[39;49;00m(prediction_output, accept):\r\n",
      "    \u001b[34mprint\u001b[39;49;00m(\u001b[33m'\u001b[39;49;00m\u001b[33mSerializing the generated output.\u001b[39;49;00m\u001b[33m'\u001b[39;49;00m)\r\n",
      "    \u001b[34mreturn\u001b[39;49;00m \u001b[36mstr\u001b[39;49;00m(prediction_output)\r\n",
      "\r\n",
      "\u001b[34mdef\u001b[39;49;00m \u001b[32mpredict_fn\u001b[39;49;00m(input_data, model):\r\n",
      "    \u001b[34mprint\u001b[39;49;00m(\u001b[33m'\u001b[39;49;00m\u001b[33mInferring sentiment of input data.\u001b[39;49;00m\u001b[33m'\u001b[39;49;00m)\r\n",
      "\r\n",
      "    device = torch.device(\u001b[33m\"\u001b[39;49;00m\u001b[33mcuda\u001b[39;49;00m\u001b[33m\"\u001b[39;49;00m \u001b[34mif\u001b[39;49;00m torch.cuda.is_available() \u001b[34melse\u001b[39;49;00m \u001b[33m\"\u001b[39;49;00m\u001b[33mcpu\u001b[39;49;00m\u001b[33m\"\u001b[39;49;00m)\r\n",
      "    \r\n",
      "    \u001b[34mif\u001b[39;49;00m model.word_dict \u001b[35mis\u001b[39;49;00m \u001b[36mNone\u001b[39;49;00m:\r\n",
      "        \u001b[34mraise\u001b[39;49;00m \u001b[36mException\u001b[39;49;00m(\u001b[33m'\u001b[39;49;00m\u001b[33mModel has not been loaded properly, no word_dict.\u001b[39;49;00m\u001b[33m'\u001b[39;49;00m)\r\n",
      "    \r\n",
      "    \u001b[37m# TODO: Process input_data so that it is ready to be sent to our model.\u001b[39;49;00m\r\n",
      "    \u001b[37m#       You should produce two variables:\u001b[39;49;00m\r\n",
      "    \u001b[37m#         data_X   - A sequence of length 500 which represents the converted review\u001b[39;49;00m\r\n",
      "    \u001b[37m#         data_len - The length of the review\u001b[39;49;00m\r\n",
      "    \r\n",
      "    rev2words = review_to_words(input_data)\r\n",
      "    data_X, data_len = convert_and_pad(model.word_dict, rev2words)\r\n",
      "    \r\n",
      "\r\n",
      "    \u001b[37m# Using data_X and data_len we construct an appropriate input tensor. Remember\u001b[39;49;00m\r\n",
      "    \u001b[37m# that our model expects input data of the form 'len, review[500]'.\u001b[39;49;00m\r\n",
      "    data_pack = np.hstack((data_len, data_X))\r\n",
      "    data_pack = data_pack.reshape(\u001b[34m1\u001b[39;49;00m, -\u001b[34m1\u001b[39;49;00m)\r\n",
      "    \r\n",
      "    data = torch.from_numpy(data_pack)\r\n",
      "    data = data.to(device)\r\n",
      "\r\n",
      "    \u001b[37m# Make sure to put the model into evaluation mode\u001b[39;49;00m\r\n",
      "    model.eval()\r\n",
      "\r\n",
      "    \u001b[37m# TODO: Compute the result of applying the model to the input data. The variable `result` should\u001b[39;49;00m\r\n",
      "    \u001b[37m#       be a numpy array which contains a single integer which is either 1 or 0\u001b[39;49;00m\r\n",
      "    \u001b[34mwith\u001b[39;49;00m torch.no_grad():\r\n",
      "        out = model(data)\r\n",
      "    result = np.round(out.numpy())\r\n",
      "    \u001b[34mreturn\u001b[39;49;00m result\r\n"
     ]
    }
   ],
   "source": [
    "!pygmentize serve/predict.py"
   ]
  },
  {
   "cell_type": "markdown",
   "metadata": {},
   "source": [
    "As mentioned earlier, the `model_fn` method is the same as the one provided in the training code and the `input_fn` and `output_fn` methods are very simple and your task will be to complete the `predict_fn` method. Make sure that you save the completed file as `predict.py` in the `serve` directory.\n",
    "\n",
    "**TODO**: Complete the `predict_fn()` method in the `serve/predict.py` file."
   ]
  },
  {
   "cell_type": "markdown",
   "metadata": {},
   "source": [
    "### Deploying the model\n",
    "\n",
    "Now that the custom inference code has been written, we will create and deploy our model. To begin with, we need to construct a new PyTorchModel object which points to the model artifacts created during training and also points to the inference code that we wish to use. Then we can call the deploy method to launch the deployment container.\n",
    "\n",
    "**NOTE**: The default behaviour for a deployed PyTorch model is to assume that any input passed to the predictor is a `numpy` array. In our case we want to send a string so we need to construct a simple wrapper around the `RealTimePredictor` class to accomodate simple strings. In a more complicated situation you may want to provide a serialization object, for example if you wanted to sent image data."
   ]
  },
  {
   "cell_type": "code",
   "execution_count": 54,
   "metadata": {},
   "outputs": [
    {
     "name": "stderr",
     "output_type": "stream",
     "text": [
      "INFO:sagemaker:Creating model with name: sagemaker-pytorch-2019-04-13-16-50-44-866\n",
      "INFO:sagemaker:Creating endpoint with name sagemaker-pytorch-2019-04-13-16-50-44-866\n"
     ]
    },
    {
     "name": "stdout",
     "output_type": "stream",
     "text": [
      "---------------------------------------------------------------------------!"
     ]
    }
   ],
   "source": [
    "from sagemaker.predictor import RealTimePredictor\n",
    "from sagemaker.pytorch import PyTorchModel\n",
    "\n",
    "class StringPredictor(RealTimePredictor):\n",
    "    def __init__(self, endpoint_name, sagemaker_session):\n",
    "        super(StringPredictor, self).__init__(endpoint_name, sagemaker_session, content_type='text/plain')\n",
    "\n",
    "model = PyTorchModel(model_data=estimator.model_data,\n",
    "                     role = role,\n",
    "                     framework_version='0.4.0',\n",
    "                     entry_point='predict.py',\n",
    "                     source_dir='serve',\n",
    "                     predictor_cls=StringPredictor)\n",
    "predictor = model.deploy(initial_instance_count=1, instance_type='ml.m4.xlarge')"
   ]
  },
  {
   "cell_type": "markdown",
   "metadata": {},
   "source": [
    "### Testing the model\n",
    "\n",
    "Now that we have deployed our model with the custom inference code, we should test to see if everything is working. Here we test our model by loading the first `250` positive and negative reviews and send them to the endpoint, then collect the results. The reason for only sending some of the data is that the amount of time it takes for our model to process the input and then perform inference is quite long and so testing the entire data set would be prohibitive."
   ]
  },
  {
   "cell_type": "code",
   "execution_count": 57,
   "metadata": {},
   "outputs": [],
   "source": [
    "import glob\n",
    "\n",
    "def test_reviews(data_dir='../data/aclImdb', stop=250):\n",
    "    \n",
    "    results = []\n",
    "    ground = []\n",
    "    \n",
    "    # We make sure to test both positive and negative reviews    \n",
    "    for sentiment in ['pos', 'neg']:\n",
    "        \n",
    "        path = os.path.join(data_dir, 'test', sentiment, '*.txt')\n",
    "        files = glob.glob(path)\n",
    "        \n",
    "        files_read = 0\n",
    "        \n",
    "        print('Starting ', sentiment, ' files')\n",
    "        \n",
    "        # Iterate through the files and send them to the predictor\n",
    "        for f in files:\n",
    "            with open(f) as review:\n",
    "                # First, we store the ground truth (was the review positive or negative)\n",
    "                if sentiment == 'pos':\n",
    "                    ground.append(1)\n",
    "                else:\n",
    "                    ground.append(0)\n",
    "                # Read in the review and convert to 'utf-8' for transmission via HTTP\n",
    "                review_input = review.read().encode('utf-8')\n",
    "                # Send the review to the predictor and store the results\n",
    "                results.append(int(float(predictor.predict(review_input))))\n",
    "                \n",
    "            # Sending reviews to our endpoint one at a time takes a while so we\n",
    "            # only send a small number of reviews\n",
    "            files_read += 1\n",
    "            if files_read == stop:\n",
    "                break\n",
    "            \n",
    "    return ground, results"
   ]
  },
  {
   "cell_type": "code",
   "execution_count": 58,
   "metadata": {},
   "outputs": [
    {
     "name": "stdout",
     "output_type": "stream",
     "text": [
      "Starting  pos  files\n",
      "Starting  neg  files\n"
     ]
    }
   ],
   "source": [
    "ground, results = test_reviews()"
   ]
  },
  {
   "cell_type": "code",
   "execution_count": 59,
   "metadata": {},
   "outputs": [
    {
     "data": {
      "text/plain": [
       "0.826"
      ]
     },
     "execution_count": 59,
     "metadata": {},
     "output_type": "execute_result"
    }
   ],
   "source": [
    "from sklearn.metrics import accuracy_score\n",
    "accuracy_score(ground, results)"
   ]
  },
  {
   "cell_type": "markdown",
   "metadata": {},
   "source": [
    "As an additional test, we can try sending the `test_review` that we looked at earlier."
   ]
  },
  {
   "cell_type": "code",
   "execution_count": 60,
   "metadata": {},
   "outputs": [
    {
     "data": {
      "text/plain": [
       "b'1.0'"
      ]
     },
     "execution_count": 60,
     "metadata": {},
     "output_type": "execute_result"
    }
   ],
   "source": [
    "predictor.predict(test_review)"
   ]
  },
  {
   "cell_type": "markdown",
   "metadata": {},
   "source": [
    "Now that we know our endpoint is working as expected, we can set up the web page that will interact with it. If you don't have time to finish the project now, make sure to skip down to the end of this notebook and shut down your endpoint. You can deploy it again when you come back."
   ]
  },
  {
   "cell_type": "markdown",
   "metadata": {},
   "source": [
    "## Step 7 (again): Use the model for the web app\n",
    "\n",
    "> **TODO:** This entire section and the next contain tasks for you to complete, mostly using the AWS console.\n",
    "\n",
    "So far we have been accessing our model endpoint by constructing a predictor object which uses the endpoint and then just using the predictor object to perform inference. What if we wanted to create a web app which accessed our model? The way things are set up currently makes that not possible since in order to access a SageMaker endpoint the app would first have to authenticate with AWS using an IAM role which included access to SageMaker endpoints. However, there is an easier way! We just need to use some additional AWS services.\n",
    "\n",
    "<img src=\"Web App Diagram.svg\">\n",
    "\n",
    "The diagram above gives an overview of how the various services will work together. On the far right is the model which we trained above and which is deployed using SageMaker. On the far left is our web app that collects a user's movie review, sends it off and expects a positive or negative sentiment in return.\n",
    "\n",
    "In the middle is where some of the magic happens. We will construct a Lambda function, which you can think of as a straightforward Python function that can be executed whenever a specified event occurs. We will give this function permission to send and recieve data from a SageMaker endpoint.\n",
    "\n",
    "Lastly, the method we will use to execute the Lambda function is a new endpoint that we will create using API Gateway. This endpoint will be a url that listens for data to be sent to it. Once it gets some data it will pass that data on to the Lambda function and then return whatever the Lambda function returns. Essentially it will act as an interface that lets our web app communicate with the Lambda function.\n",
    "\n",
    "### Setting up a Lambda function\n",
    "\n",
    "The first thing we are going to do is set up a Lambda function. This Lambda function will be executed whenever our public API has data sent to it. When it is executed it will receive the data, perform any sort of processing that is required, send the data (the review) to the SageMaker endpoint we've created and then return the result.\n",
    "\n",
    "#### Part A: Create an IAM Role for the Lambda function\n",
    "\n",
    "Since we want the Lambda function to call a SageMaker endpoint, we need to make sure that it has permission to do so. To do this, we will construct a role that we can later give the Lambda function.\n",
    "\n",
    "Using the AWS Console, navigate to the **IAM** page and click on **Roles**. Then, click on **Create role**. Make sure that the **AWS service** is the type of trusted entity selected and choose **Lambda** as the service that will use this role, then click **Next: Permissions**.\n",
    "\n",
    "In the search box type `sagemaker` and select the check box next to the **AmazonSageMakerFullAccess** policy. Then, click on **Next: Review**.\n",
    "\n",
    "Lastly, give this role a name. Make sure you use a name that you will remember later on, for example `LambdaSageMakerRole`. Then, click on **Create role**.\n",
    "\n",
    "#### Part B: Create a Lambda function\n",
    "\n",
    "Now it is time to actually create the Lambda function.\n",
    "\n",
    "Using the AWS Console, navigate to the AWS Lambda page and click on **Create a function**. When you get to the next page, make sure that **Author from scratch** is selected. Now, name your Lambda function, using a name that you will remember later on, for example `sentiment_analysis_func`. Make sure that the **Python 3.6** runtime is selected and then choose the role that you created in the previous part. Then, click on **Create Function**.\n",
    "\n",
    "On the next page you will see some information about the Lambda function you've just created. If you scroll down you should see an editor in which you can write the code that will be executed when your Lambda function is triggered. In our example, we will use the code below. \n",
    "\n",
    "```python\n",
    "# We need to use the low-level library to interact with SageMaker since the SageMaker API\n",
    "# is not available natively through Lambda.\n",
    "import boto3\n",
    "\n",
    "def lambda_handler(event, context):\n",
    "\n",
    "    # The SageMaker runtime is what allows us to invoke the endpoint that we've created.\n",
    "    runtime = boto3.Session().client('sagemaker-runtime')\n",
    "\n",
    "    # Now we use the SageMaker runtime to invoke our endpoint, sending the review we were given\n",
    "    response = runtime.invoke_endpoint(EndpointName = '**ENDPOINT NAME HERE**',    # The name of the endpoint we created\n",
    "                                       ContentType = 'text/plain',                 # The data format that is expected\n",
    "                                       Body = event['body'])                       # The actual review\n",
    "\n",
    "    # The response is an HTTP response whose body contains the result of our inference\n",
    "    result = response['Body'].read().decode('utf-8')\n",
    "\n",
    "    return {\n",
    "        'statusCode' : 200,\n",
    "        'headers' : { 'Content-Type' : 'text/plain', 'Access-Control-Allow-Origin' : '*' },\n",
    "        'body' : result\n",
    "    }\n",
    "```\n",
    "\n",
    "Once you have copy and pasted the code above into the Lambda code editor, replace the `**ENDPOINT NAME HERE**` portion with the name of the endpoint that we deployed earlier. You can determine the name of the endpoint using the code cell below."
   ]
  },
  {
   "cell_type": "code",
   "execution_count": 61,
   "metadata": {},
   "outputs": [
    {
     "data": {
      "text/plain": [
       "'sagemaker-pytorch-2019-04-13-16-50-44-866'"
      ]
     },
     "execution_count": 61,
     "metadata": {},
     "output_type": "execute_result"
    }
   ],
   "source": [
    "predictor.endpoint"
   ]
  },
  {
   "cell_type": "markdown",
   "metadata": {},
   "source": [
    "Once you have added the endpoint name to the Lambda function, click on **Save**. Your Lambda function is now up and running. Next we need to create a way for our web app to execute the Lambda function.\n",
    "\n",
    "### Setting up API Gateway\n",
    "\n",
    "Now that our Lambda function is set up, it is time to create a new API using API Gateway that will trigger the Lambda function we have just created.\n",
    "\n",
    "Using AWS Console, navigate to **Amazon API Gateway** and then click on **Get started**.\n",
    "\n",
    "On the next page, make sure that **New API** is selected and give the new api a name, for example, `sentiment_analysis_api`. Then, click on **Create API**.\n",
    "\n",
    "Now we have created an API, however it doesn't currently do anything. What we want it to do is to trigger the Lambda function that we created earlier.\n",
    "\n",
    "Select the **Actions** dropdown menu and click **Create Method**. A new blank method will be created, select its dropdown menu and select **POST**, then click on the check mark beside it.\n",
    "\n",
    "For the integration point, make sure that **Lambda Function** is selected and click on the **Use Lambda Proxy integration**. This option makes sure that the data that is sent to the API is then sent directly to the Lambda function with no processing. It also means that the return value must be a proper response object as it will also not be processed by API Gateway.\n",
    "\n",
    "Type the name of the Lambda function you created earlier into the **Lambda Function** text entry box and then click on **Save**. Click on **OK** in the pop-up box that then appears, giving permission to API Gateway to invoke the Lambda function you created.\n",
    "\n",
    "The last step in creating the API Gateway is to select the **Actions** dropdown and click on **Deploy API**. You will need to create a new Deployment stage and name it anything you like, for example `prod`.\n",
    "\n",
    "You have now successfully set up a public API to access your SageMaker model. Make sure to copy or write down the URL provided to invoke your newly created public API as this will be needed in the next step. This URL can be found at the top of the page, highlighted in blue next to the text **Invoke URL**."
   ]
  },
  {
   "cell_type": "markdown",
   "metadata": {},
   "source": [
    "## Step 4: Deploying our web app\n",
    "\n",
    "Now that we have a publicly available API, we can start using it in a web app. For our purposes, we have provided a simple static html file which can make use of the public api you created earlier.\n",
    "\n",
    "In the `website` folder there should be a file called `index.html`. Download the file to your computer and open that file up in a text editor of your choice. There should be a line which contains **\\*\\*REPLACE WITH PUBLIC API URL\\*\\***. Replace this string with the url that you wrote down in the last step and then save the file.\n",
    "\n",
    "Now, if you open `index.html` on your local computer, your browser will behave as a local web server and you can use the provided site to interact with your SageMaker model.\n",
    "\n",
    "If you'd like to go further, you can host this html file anywhere you'd like, for example using github or hosting a static site on Amazon's S3. Once you have done this you can share the link with anyone you'd like and have them play with it too!\n",
    "\n",
    "> **Important Note** In order for the web app to communicate with the SageMaker endpoint, the endpoint has to actually be deployed and running. This means that you are paying for it. Make sure that the endpoint is running when you want to use the web app but that you shut it down when you don't need it, otherwise you will end up with a surprisingly large AWS bill.\n",
    "\n",
    "**TODO:** Make sure that you include the edited `index.html` file in your project submission."
   ]
  },
  {
   "cell_type": "markdown",
   "metadata": {},
   "source": [
    "Now that your web app is working, trying playing around with it and see how well it works.\n",
    "\n",
    "**Question**: Give an example of a review that you entered into your web app. What was the predicted sentiment of your example review?"
   ]
  },
  {
   "cell_type": "markdown",
   "metadata": {},
   "source": [
    "**Answer:**\n",
    "\n",
    "#### Test 1:\n",
    "\n",
    "\"That was an amazing movie. Had a really nice time watching it. I definitely recommend watching this movie!\"\n",
    "\n",
    "This is predicted as POSITIVE\n",
    "\n",
    "#### Test 2:\n",
    "\n",
    "\"The movie was a crap. I regret watching it..\"\n",
    "\n",
    "This is predicted as NEGATIVE\n",
    "\n",
    "#### Test 3:\n",
    "\n",
    "\"The movie starts very slowly but it gains pace after the first 30 minutes.The interview block is very interesting and expects us to wait eagerly for the movie. Then the movie starts at rapid speed and the movie ends very well. overall it is worth a watch in theater. \"\n",
    "\n",
    "This is predicted as POSITIVE\n",
    "\n",
    "#### Test 4:\n",
    "\n",
    "\"The movie starts very slowly and it never gains pace. \"\n",
    "\n",
    "This is predicted as NEGATIVE\n"
   ]
  },
  {
   "cell_type": "markdown",
   "metadata": {},
   "source": [
    "### Delete the endpoint\n",
    "\n",
    "Remember to always shut down your endpoint if you are no longer using it. You are charged for the length of time that the endpoint is running so if you forget and leave it on you could end up with an unexpectedly large bill."
   ]
  },
  {
   "cell_type": "code",
   "execution_count": 62,
   "metadata": {},
   "outputs": [
    {
     "name": "stderr",
     "output_type": "stream",
     "text": [
      "INFO:sagemaker:Deleting endpoint configuration with name: sagemaker-pytorch-2019-04-13-16-50-44-866\n",
      "INFO:sagemaker:Deleting endpoint with name: sagemaker-pytorch-2019-04-13-16-50-44-866\n"
     ]
    }
   ],
   "source": [
    "predictor.delete_endpoint()"
   ]
  },
  {
   "cell_type": "code",
   "execution_count": null,
   "metadata": {},
   "outputs": [],
   "source": []
  }
 ],
 "metadata": {
  "kernelspec": {
   "display_name": "conda_pytorch_p36",
   "language": "python",
   "name": "conda_pytorch_p36"
  },
  "language_info": {
   "codemirror_mode": {
    "name": "ipython",
    "version": 3
   },
   "file_extension": ".py",
   "mimetype": "text/x-python",
   "name": "python",
   "nbconvert_exporter": "python",
   "pygments_lexer": "ipython3",
   "version": "3.6.5"
  }
 },
 "nbformat": 4,
 "nbformat_minor": 2
}
